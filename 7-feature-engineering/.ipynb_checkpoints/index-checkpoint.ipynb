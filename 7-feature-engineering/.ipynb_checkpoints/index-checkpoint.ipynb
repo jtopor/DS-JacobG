{
 "cells": [
  {
   "cell_type": "markdown",
   "metadata": {},
   "source": [
    "# Feature Selection"
   ]
  },
  {
   "cell_type": "markdown",
   "metadata": {},
   "source": [
    "### Introduction"
   ]
  },
  {
   "cell_type": "markdown",
   "metadata": {},
   "source": [
    "Deciding which features should be included and focused on in our linear model is an important skill of any data scientist.  As we saw previously, if we include features which are too collinear, we will improperly measure the coefficients related to our collinear features.  In addition, feature selection and prioritizing features with feature importance will help us to understand which features to devote our attention to in terms of feature engineering and domain understanding.  Finally, limiting the number of features in our model, and identifying the most crucial features in our model will make our models, and their insights more understandable."
   ]
  },
  {
   "cell_type": "markdown",
   "metadata": {},
   "source": [
    "### Working with AirBnb"
   ]
  },
  {
   "cell_type": "markdown",
   "metadata": {},
   "source": [
    "For this lesson, we'll work with [AirBnb listings in Berlin](https://www.kaggle.com/brittabettendorf/berlin-airbnb-data)."
   ]
  },
  {
   "cell_type": "code",
   "execution_count": 321,
   "metadata": {},
   "outputs": [],
   "source": [
    "import pandas as pd\n",
    "df = pd.read_csv('listings_summary.csv.zip')"
   ]
  },
  {
   "cell_type": "code",
   "execution_count": 322,
   "metadata": {},
   "outputs": [
    {
     "data": {
      "text/plain": [
       "(22552, 96)"
      ]
     },
     "execution_count": 322,
     "metadata": {},
     "output_type": "execute_result"
    }
   ],
   "source": [
    "df.shape"
   ]
  },
  {
   "cell_type": "markdown",
   "metadata": {},
   "source": [
    "As we can see, our dataset as 22,500 rows and close to 100 features.  Our goal is to predict the price."
   ]
  },
  {
   "cell_type": "code",
   "execution_count": 752,
   "metadata": {},
   "outputs": [],
   "source": [
    "# df.columns"
   ]
  },
  {
   "cell_type": "markdown",
   "metadata": {},
   "source": [
    "Some of these columns include data that we do not know how to handle - mainly textual data and images.  A lot of this data is simply not in the correct format.  Let's take a look."
   ]
  },
  {
   "cell_type": "code",
   "execution_count": 324,
   "metadata": {},
   "outputs": [],
   "source": [
    "pd.set_option('display.max_rows',100)"
   ]
  },
  {
   "cell_type": "code",
   "execution_count": 325,
   "metadata": {},
   "outputs": [
    {
     "data": {
      "text/plain": [
       "notes          object\n",
       "transit        object\n",
       "access         object\n",
       "interaction    object\n",
       "house_rules    object\n",
       "dtype: object"
      ]
     },
     "execution_count": 325,
     "metadata": {},
     "output_type": "execute_result"
    }
   ],
   "source": [
    "df.dtypes[10:15]"
   ]
  },
  {
   "cell_type": "markdown",
   "metadata": {},
   "source": [
    "### Feature engineering"
   ]
  },
  {
   "cell_type": "markdown",
   "metadata": {},
   "source": [
    "Let's try to capture as much of this object data as possible."
   ]
  },
  {
   "cell_type": "code",
   "execution_count": 326,
   "metadata": {},
   "outputs": [],
   "source": [
    "def find_object_features(df):\n",
    "    return list(df.dtypes[df.dtypes == 'object'].index)"
   ]
  },
  {
   "cell_type": "code",
   "execution_count": 327,
   "metadata": {},
   "outputs": [],
   "source": [
    "def find_object_feature_values(df):\n",
    "    object_features = find_object_features(df)\n",
    "    return df[object_features][:1].values[0]"
   ]
  },
  {
   "cell_type": "code",
   "execution_count": 328,
   "metadata": {},
   "outputs": [],
   "source": [
    "def find_booleans(df, boolean_values):\n",
    "    object_features = find_object_features(df)\n",
    "    object_feature_values = find_object_feature_values(df)\n",
    "    return [feature for feature, value in zip(object_features, object_feature_values) if value in boolean_values]\n"
   ]
  },
  {
   "cell_type": "code",
   "execution_count": 329,
   "metadata": {},
   "outputs": [],
   "source": [
    "boolean_values = ['t', 'f']"
   ]
  },
  {
   "cell_type": "code",
   "execution_count": 330,
   "metadata": {},
   "outputs": [],
   "source": [
    "boolean_mapping = {'t': 1, 'f': 0}"
   ]
  },
  {
   "cell_type": "code",
   "execution_count": 331,
   "metadata": {},
   "outputs": [],
   "source": [
    "import numpy as np\n",
    "def to_booleans(df, boolean_values):\n",
    "    boolean_mapping = dict(list(zip(boolean_values, [1, 0])))\n",
    "    boolean_features = find_booleans(df, boolean_values)\n",
    "    boolean_df = pd.DataFrame({})\n",
    "    for feature in boolean_features:\n",
    "        boolean_df[feature] = df[feature].map(boolean_mapping)\n",
    "    return boolean_df[boolean_features]"
   ]
  },
  {
   "cell_type": "code",
   "execution_count": 332,
   "metadata": {},
   "outputs": [
    {
     "data": {
      "text/html": [
       "<div>\n",
       "<style scoped>\n",
       "    .dataframe tbody tr th:only-of-type {\n",
       "        vertical-align: middle;\n",
       "    }\n",
       "\n",
       "    .dataframe tbody tr th {\n",
       "        vertical-align: top;\n",
       "    }\n",
       "\n",
       "    .dataframe thead th {\n",
       "        text-align: right;\n",
       "    }\n",
       "</style>\n",
       "<table border=\"1\" class=\"dataframe\">\n",
       "  <thead>\n",
       "    <tr style=\"text-align: right;\">\n",
       "      <th></th>\n",
       "      <th>host_is_superhost</th>\n",
       "      <th>host_has_profile_pic</th>\n",
       "      <th>host_identity_verified</th>\n",
       "      <th>is_location_exact</th>\n",
       "      <th>has_availability</th>\n",
       "      <th>requires_license</th>\n",
       "      <th>instant_bookable</th>\n",
       "      <th>is_business_travel_ready</th>\n",
       "      <th>require_guest_profile_picture</th>\n",
       "      <th>require_guest_phone_verification</th>\n",
       "    </tr>\n",
       "  </thead>\n",
       "  <tbody>\n",
       "    <tr>\n",
       "      <th>0</th>\n",
       "      <td>1.0</td>\n",
       "      <td>1.0</td>\n",
       "      <td>1.0</td>\n",
       "      <td>0</td>\n",
       "      <td>1</td>\n",
       "      <td>1</td>\n",
       "      <td>0</td>\n",
       "      <td>0</td>\n",
       "      <td>0</td>\n",
       "      <td>0</td>\n",
       "    </tr>\n",
       "    <tr>\n",
       "      <th>1</th>\n",
       "      <td>0.0</td>\n",
       "      <td>1.0</td>\n",
       "      <td>1.0</td>\n",
       "      <td>1</td>\n",
       "      <td>1</td>\n",
       "      <td>1</td>\n",
       "      <td>0</td>\n",
       "      <td>0</td>\n",
       "      <td>0</td>\n",
       "      <td>0</td>\n",
       "    </tr>\n",
       "  </tbody>\n",
       "</table>\n",
       "</div>"
      ],
      "text/plain": [
       "   host_is_superhost  host_has_profile_pic  host_identity_verified  \\\n",
       "0                1.0                   1.0                     1.0   \n",
       "1                0.0                   1.0                     1.0   \n",
       "\n",
       "   is_location_exact  has_availability  requires_license  instant_bookable  \\\n",
       "0                  0                 1                 1                 0   \n",
       "1                  1                 1                 1                 0   \n",
       "\n",
       "   is_business_travel_ready  require_guest_profile_picture  \\\n",
       "0                         0                              0   \n",
       "1                         0                              0   \n",
       "\n",
       "   require_guest_phone_verification  \n",
       "0                                 0  \n",
       "1                                 0  "
      ]
     },
     "execution_count": 332,
     "metadata": {},
     "output_type": "execute_result"
    }
   ],
   "source": [
    "to_booleans(df, boolean_values)[0:2]"
   ]
  },
  {
   "cell_type": "code",
   "execution_count": 349,
   "metadata": {},
   "outputs": [],
   "source": [
    "def merge_dfs(original_df, new_dfs):\n",
    "    copied_original = original_df.copy()\n",
    "    for new_df in new_dfs:\n",
    "        copied_original[new_df.columns] = new_df\n",
    "    return copied_original"
   ]
  },
  {
   "cell_type": "code",
   "execution_count": 351,
   "metadata": {},
   "outputs": [],
   "source": [
    "def find_categorical(df, threshold = .5):\n",
    "    \n",
    "    object_feature_columns = find_object_features(df)\n",
    "    # change to just return the categorical feature columns\n",
    "    for column in object_feature_columns:\n",
    "        if percentage_unique(df[column]) < threshold:\n",
    "            categorical_df[column] = df[column]\n",
    "    return categorical_df "
   ]
  },
  {
   "cell_type": "code",
   "execution_count": 560,
   "metadata": {},
   "outputs": [],
   "source": [
    "def find_categorical_columns(df, threshold = .5):\n",
    "    categorical_df = pd.DataFrame({})\n",
    "    object_feature_columns = find_object_features(df)\n",
    "    categorical_columns = [column for column in object_feature_columns if percentage_unique(df[column]) < threshold]    \n",
    "    return categorical_columns"
   ]
  },
  {
   "cell_type": "code",
   "execution_count": 551,
   "metadata": {},
   "outputs": [
    {
     "data": {
      "text/plain": [
       "0.9724358689370026"
      ]
     },
     "execution_count": 551,
     "metadata": {},
     "output_type": "execute_result"
    }
   ],
   "source": [
    "percentage_unique(df.name)"
   ]
  },
  {
   "cell_type": "code",
   "execution_count": 352,
   "metadata": {},
   "outputs": [],
   "source": [
    "categorical_prospects = find_categorical(df)"
   ]
  },
  {
   "cell_type": "code",
   "execution_count": 316,
   "metadata": {},
   "outputs": [
    {
     "data": {
      "text/plain": [
       "0.9342287694974003"
      ]
     },
     "execution_count": 316,
     "metadata": {},
     "output_type": "execute_result"
    }
   ],
   "source": [
    "percentage_unique(df.neighborhood_overview)"
   ]
  },
  {
   "cell_type": "code",
   "execution_count": 312,
   "metadata": {},
   "outputs": [],
   "source": [
    "def percentage_unique(df_series):\n",
    "    series_filled = df_series.dropna()\n",
    "    return len(series_filled.unique())/len(series_filled)"
   ]
  },
  {
   "cell_type": "code",
   "execution_count": 423,
   "metadata": {},
   "outputs": [
    {
     "data": {
      "text/html": [
       "<div>\n",
       "<style scoped>\n",
       "    .dataframe tbody tr th:only-of-type {\n",
       "        vertical-align: middle;\n",
       "    }\n",
       "\n",
       "    .dataframe tbody tr th {\n",
       "        vertical-align: top;\n",
       "    }\n",
       "\n",
       "    .dataframe thead th {\n",
       "        text-align: right;\n",
       "    }\n",
       "</style>\n",
       "<table border=\"1\" class=\"dataframe\">\n",
       "  <thead>\n",
       "    <tr style=\"text-align: right;\">\n",
       "      <th></th>\n",
       "      <th>0</th>\n",
       "    </tr>\n",
       "  </thead>\n",
       "  <tbody>\n",
       "    <tr>\n",
       "      <th>host_location</th>\n",
       "      <td>Key Biscayne, Florida, United States</td>\n",
       "    </tr>\n",
       "    <tr>\n",
       "      <th>host_response_time</th>\n",
       "      <td>within an hour</td>\n",
       "    </tr>\n",
       "    <tr>\n",
       "      <th>host_response_rate</th>\n",
       "      <td>96%</td>\n",
       "    </tr>\n",
       "    <tr>\n",
       "      <th>host_neighbourhood</th>\n",
       "      <td>Mitte</td>\n",
       "    </tr>\n",
       "    <tr>\n",
       "      <th>host_verifications</th>\n",
       "      <td>['email', 'phone', 'reviews', 'jumio', 'offlin...</td>\n",
       "    </tr>\n",
       "    <tr>\n",
       "      <th>street</th>\n",
       "      <td>Berlin, Berlin, Germany</td>\n",
       "    </tr>\n",
       "    <tr>\n",
       "      <th>neighbourhood</th>\n",
       "      <td>Mitte</td>\n",
       "    </tr>\n",
       "    <tr>\n",
       "      <th>neighbourhood_cleansed</th>\n",
       "      <td>Brunnenstr. Süd</td>\n",
       "    </tr>\n",
       "    <tr>\n",
       "      <th>neighbourhood_group_cleansed</th>\n",
       "      <td>Mitte</td>\n",
       "    </tr>\n",
       "    <tr>\n",
       "      <th>city</th>\n",
       "      <td>Berlin</td>\n",
       "    </tr>\n",
       "    <tr>\n",
       "      <th>state</th>\n",
       "      <td>Berlin</td>\n",
       "    </tr>\n",
       "    <tr>\n",
       "      <th>zipcode</th>\n",
       "      <td>10119</td>\n",
       "    </tr>\n",
       "    <tr>\n",
       "      <th>market</th>\n",
       "      <td>Berlin</td>\n",
       "    </tr>\n",
       "    <tr>\n",
       "      <th>smart_location</th>\n",
       "      <td>Berlin, Germany</td>\n",
       "    </tr>\n",
       "    <tr>\n",
       "      <th>country_code</th>\n",
       "      <td>DE</td>\n",
       "    </tr>\n",
       "    <tr>\n",
       "      <th>country</th>\n",
       "      <td>Germany</td>\n",
       "    </tr>\n",
       "    <tr>\n",
       "      <th>property_type</th>\n",
       "      <td>Guesthouse</td>\n",
       "    </tr>\n",
       "    <tr>\n",
       "      <th>room_type</th>\n",
       "      <td>Entire home/apt</td>\n",
       "    </tr>\n",
       "    <tr>\n",
       "      <th>bed_type</th>\n",
       "      <td>Real Bed</td>\n",
       "    </tr>\n",
       "    <tr>\n",
       "      <th>calendar_updated</th>\n",
       "      <td>3 months ago</td>\n",
       "    </tr>\n",
       "    <tr>\n",
       "      <th>cancellation_policy</th>\n",
       "      <td>strict_14_with_grace_period</td>\n",
       "    </tr>\n",
       "  </tbody>\n",
       "</table>\n",
       "</div>"
      ],
      "text/plain": [
       "                                                                              0\n",
       "host_location                              Key Biscayne, Florida, United States\n",
       "host_response_time                                               within an hour\n",
       "host_response_rate                                                          96%\n",
       "host_neighbourhood                                                        Mitte\n",
       "host_verifications            ['email', 'phone', 'reviews', 'jumio', 'offlin...\n",
       "street                                                  Berlin, Berlin, Germany\n",
       "neighbourhood                                                             Mitte\n",
       "neighbourhood_cleansed                                          Brunnenstr. Süd\n",
       "neighbourhood_group_cleansed                                              Mitte\n",
       "city                                                                     Berlin\n",
       "state                                                                    Berlin\n",
       "zipcode                                                                   10119\n",
       "market                                                                   Berlin\n",
       "smart_location                                                  Berlin, Germany\n",
       "country_code                                                                 DE\n",
       "country                                                                 Germany\n",
       "property_type                                                        Guesthouse\n",
       "room_type                                                       Entire home/apt\n",
       "bed_type                                                               Real Bed\n",
       "calendar_updated                                                   3 months ago\n",
       "cancellation_policy                                 strict_14_with_grace_period"
      ]
     },
     "execution_count": 423,
     "metadata": {},
     "output_type": "execute_result"
    }
   ],
   "source": [
    "cat_prospies = find_categorical(updated_df)\n",
    "cat_prospies.iloc[:1, 2:].T"
   ]
  },
  {
   "cell_type": "code",
   "execution_count": 462,
   "metadata": {},
   "outputs": [],
   "source": [
    "def informative(df):\n",
    "    non_informative = [column for column in df.columns if len(df[column].unique()) == 1]\n",
    "    informative_columns = list(set(df.columns.to_list()) - set(non_informative))\n",
    "    return df[informative_columns]"
   ]
  },
  {
   "cell_type": "code",
   "execution_count": 467,
   "metadata": {},
   "outputs": [
    {
     "data": {
      "text/html": [
       "<div>\n",
       "<style scoped>\n",
       "    .dataframe tbody tr th:only-of-type {\n",
       "        vertical-align: middle;\n",
       "    }\n",
       "\n",
       "    .dataframe tbody tr th {\n",
       "        vertical-align: top;\n",
       "    }\n",
       "\n",
       "    .dataframe thead th {\n",
       "        text-align: right;\n",
       "    }\n",
       "</style>\n",
       "<table border=\"1\" class=\"dataframe\">\n",
       "  <thead>\n",
       "    <tr style=\"text-align: right;\">\n",
       "      <th></th>\n",
       "      <th>smart_location</th>\n",
       "      <th>neighbourhood</th>\n",
       "      <th>property_type</th>\n",
       "      <th>host_verifications</th>\n",
       "      <th>calendar_updated</th>\n",
       "      <th>host_neighbourhood</th>\n",
       "      <th>host_location</th>\n",
       "      <th>bed_type</th>\n",
       "      <th>host_response_time</th>\n",
       "      <th>neighbourhood_cleansed</th>\n",
       "      <th>room_type</th>\n",
       "      <th>cancellation_policy</th>\n",
       "      <th>market</th>\n",
       "      <th>state</th>\n",
       "      <th>city</th>\n",
       "      <th>host_response_rate</th>\n",
       "      <th>host_name</th>\n",
       "      <th>zipcode</th>\n",
       "      <th>neighbourhood_group_cleansed</th>\n",
       "      <th>street</th>\n",
       "    </tr>\n",
       "  </thead>\n",
       "  <tbody>\n",
       "    <tr>\n",
       "      <th>0</th>\n",
       "      <td>Berlin, Germany</td>\n",
       "      <td>Mitte</td>\n",
       "      <td>Guesthouse</td>\n",
       "      <td>['email', 'phone', 'reviews', 'jumio', 'offlin...</td>\n",
       "      <td>3 months ago</td>\n",
       "      <td>Mitte</td>\n",
       "      <td>Key Biscayne, Florida, United States</td>\n",
       "      <td>Real Bed</td>\n",
       "      <td>within an hour</td>\n",
       "      <td>Brunnenstr. Süd</td>\n",
       "      <td>Entire home/apt</td>\n",
       "      <td>strict_14_with_grace_period</td>\n",
       "      <td>Berlin</td>\n",
       "      <td>Berlin</td>\n",
       "      <td>Berlin</td>\n",
       "      <td>96%</td>\n",
       "      <td>Ian</td>\n",
       "      <td>10119</td>\n",
       "      <td>Mitte</td>\n",
       "      <td>Berlin, Berlin, Germany</td>\n",
       "    </tr>\n",
       "  </tbody>\n",
       "</table>\n",
       "</div>"
      ],
      "text/plain": [
       "    smart_location neighbourhood property_type  \\\n",
       "0  Berlin, Germany         Mitte    Guesthouse   \n",
       "\n",
       "                                  host_verifications calendar_updated  \\\n",
       "0  ['email', 'phone', 'reviews', 'jumio', 'offlin...     3 months ago   \n",
       "\n",
       "  host_neighbourhood                         host_location  bed_type  \\\n",
       "0              Mitte  Key Biscayne, Florida, United States  Real Bed   \n",
       "\n",
       "  host_response_time neighbourhood_cleansed        room_type  \\\n",
       "0     within an hour        Brunnenstr. Süd  Entire home/apt   \n",
       "\n",
       "           cancellation_policy  market   state    city host_response_rate  \\\n",
       "0  strict_14_with_grace_period  Berlin  Berlin  Berlin                96%   \n",
       "\n",
       "  host_name zipcode neighbourhood_group_cleansed                   street  \n",
       "0       Ian   10119                        Mitte  Berlin, Berlin, Germany  "
      ]
     },
     "execution_count": 467,
     "metadata": {},
     "output_type": "execute_result"
    }
   ],
   "source": [
    "informative(cat_prospies)[:1]"
   ]
  },
  {
   "cell_type": "code",
   "execution_count": 469,
   "metadata": {},
   "outputs": [],
   "source": [
    "informative(cat_prospies).columns\n",
    "\n",
    "categorical = ['smart_location', 'neighborhood', 'property_type', 'host_neighborhood', 'host_location', 'bed_type', 'neighborhood_cleansed', 'room_type', '']\n",
    "\n",
    "to_coerce = ['host_verifications', 'calendar_updated', 'host_response_time']\n",
    "\n",
    "to_remove = ['host_name']\n"
   ]
  },
  {
   "cell_type": "code",
   "execution_count": 439,
   "metadata": {},
   "outputs": [],
   "source": [
    "def percentage_to_num(percentage):\n",
    "    if type(percentage) == str:\n",
    "        return float(percentage[:-1])"
   ]
  },
  {
   "cell_type": "code",
   "execution_count": 419,
   "metadata": {},
   "outputs": [],
   "source": [
    "response_time_nums = host_response_time_to_num(cat_prospies.host_response_time)"
   ]
  },
  {
   "cell_type": "code",
   "execution_count": 438,
   "metadata": {},
   "outputs": [],
   "source": [
    "response_rate_nums = updated_df.host_response_rate.map(percentage_to_num)"
   ]
  },
  {
   "cell_type": "code",
   "execution_count": 440,
   "metadata": {},
   "outputs": [
    {
     "data": {
      "text/plain": [
       "Index(['experiences_offered', 'host_name', 'host_location',\n",
       "       'host_response_time', 'host_response_rate', 'host_neighbourhood',\n",
       "       'host_verifications', 'street', 'neighbourhood',\n",
       "       'neighbourhood_cleansed', 'neighbourhood_group_cleansed', 'city',\n",
       "       'state', 'zipcode', 'market', 'smart_location', 'country_code',\n",
       "       'country', 'property_type', 'room_type', 'bed_type', 'calendar_updated',\n",
       "       'cancellation_policy'],\n",
       "      dtype='object')"
      ]
     },
     "execution_count": 440,
     "metadata": {},
     "output_type": "execute_result"
    }
   ],
   "source": [
    "cat_prospies.columns"
   ]
  },
  {
   "cell_type": "code",
   "execution_count": 396,
   "metadata": {},
   "outputs": [],
   "source": [
    "from past_date import get_past_date"
   ]
  },
  {
   "cell_type": "code",
   "execution_count": 397,
   "metadata": {},
   "outputs": [
    {
     "data": {
      "text/plain": [
       "'2019-04-05'"
      ]
     },
     "execution_count": 397,
     "metadata": {},
     "output_type": "execute_result"
    }
   ],
   "source": [
    "get_past_date(cat_prospies.calendar_updated[0])"
   ]
  },
  {
   "cell_type": "code",
   "execution_count": 480,
   "metadata": {},
   "outputs": [
    {
     "data": {
      "text/plain": [
       "OneHotEncoder(categorical_features=None, categories=None,\n",
       "       dtype=<class 'numpy.float64'>, handle_unknown='ignore',\n",
       "       n_values=None, sparse=True)"
      ]
     },
     "execution_count": 480,
     "metadata": {},
     "output_type": "execute_result"
    }
   ],
   "source": [
    "from sklearn.preprocessing import OneHotEncoder\n",
    "enc = OneHotEncoder(handle_unknown='ignore')\n",
    "X = cat_prospies.bed_type.to_numpy().reshape(-1, 1)\n",
    "enc.fit(X)"
   ]
  },
  {
   "cell_type": "code",
   "execution_count": 484,
   "metadata": {},
   "outputs": [
    {
     "data": {
      "text/plain": [
       "(22552, 5)"
      ]
     },
     "execution_count": 484,
     "metadata": {},
     "output_type": "execute_result"
    }
   ],
   "source": [
    "enc.transform(X).toarray().shape"
   ]
  },
  {
   "cell_type": "code",
   "execution_count": 494,
   "metadata": {},
   "outputs": [
    {
     "data": {
      "text/plain": [
       "Real Bed         21766\n",
       "Pull-out Sofa      451\n",
       "Futon              240\n",
       "Couch               72\n",
       "Airbed              23\n",
       "Name: bed_type, dtype: int64"
      ]
     },
     "execution_count": 494,
     "metadata": {},
     "output_type": "execute_result"
    }
   ],
   "source": [
    "cat_prospies.bed_type.value_counts()"
   ]
  },
  {
   "cell_type": "code",
   "execution_count": 500,
   "metadata": {},
   "outputs": [],
   "source": [
    "def categorical_to_combine(df):\n",
    "    return [column for column in df.columns if len(df[column].value_counts()) > 5]"
   ]
  },
  {
   "cell_type": "code",
   "execution_count": 538,
   "metadata": {},
   "outputs": [
    {
     "data": {
      "text/plain": [
       "['host_name',\n",
       " 'host_location',\n",
       " 'host_response_rate',\n",
       " 'host_neighbourhood',\n",
       " 'host_verifications',\n",
       " 'street',\n",
       " 'neighbourhood',\n",
       " 'neighbourhood_cleansed',\n",
       " 'neighbourhood_group_cleansed',\n",
       " 'city',\n",
       " 'state',\n",
       " 'zipcode',\n",
       " 'market',\n",
       " 'smart_location',\n",
       " 'property_type',\n",
       " 'calendar_updated']"
      ]
     },
     "execution_count": 538,
     "metadata": {},
     "output_type": "execute_result"
    }
   ],
   "source": [
    "to_combine_columns = categorical_to_combine(cat_prospies)\n",
    "to_combine_columns"
   ]
  },
  {
   "cell_type": "code",
   "execution_count": 539,
   "metadata": {},
   "outputs": [
    {
     "data": {
      "text/html": [
       "<div>\n",
       "<style scoped>\n",
       "    .dataframe tbody tr th:only-of-type {\n",
       "        vertical-align: middle;\n",
       "    }\n",
       "\n",
       "    .dataframe tbody tr th {\n",
       "        vertical-align: top;\n",
       "    }\n",
       "\n",
       "    .dataframe thead th {\n",
       "        text-align: right;\n",
       "    }\n",
       "</style>\n",
       "<table border=\"1\" class=\"dataframe\">\n",
       "  <thead>\n",
       "    <tr style=\"text-align: right;\">\n",
       "      <th></th>\n",
       "      <th>host_name</th>\n",
       "      <th>host_location</th>\n",
       "      <th>host_response_rate</th>\n",
       "      <th>host_neighbourhood</th>\n",
       "      <th>host_verifications</th>\n",
       "      <th>street</th>\n",
       "      <th>neighbourhood</th>\n",
       "      <th>neighbourhood_cleansed</th>\n",
       "      <th>neighbourhood_group_cleansed</th>\n",
       "      <th>city</th>\n",
       "      <th>state</th>\n",
       "      <th>zipcode</th>\n",
       "      <th>market</th>\n",
       "      <th>smart_location</th>\n",
       "      <th>property_type</th>\n",
       "      <th>calendar_updated</th>\n",
       "    </tr>\n",
       "  </thead>\n",
       "  <tbody>\n",
       "    <tr>\n",
       "      <th>count</th>\n",
       "      <td>22526</td>\n",
       "      <td>22436</td>\n",
       "      <td>9657</td>\n",
       "      <td>17458</td>\n",
       "      <td>22552</td>\n",
       "      <td>22552</td>\n",
       "      <td>21421</td>\n",
       "      <td>22552</td>\n",
       "      <td>22552</td>\n",
       "      <td>22547</td>\n",
       "      <td>22468</td>\n",
       "      <td>21896</td>\n",
       "      <td>22489</td>\n",
       "      <td>22552</td>\n",
       "      <td>22552</td>\n",
       "      <td>22552</td>\n",
       "    </tr>\n",
       "    <tr>\n",
       "      <th>unique</th>\n",
       "      <td>5997</td>\n",
       "      <td>1036</td>\n",
       "      <td>64</td>\n",
       "      <td>181</td>\n",
       "      <td>301</td>\n",
       "      <td>86</td>\n",
       "      <td>91</td>\n",
       "      <td>14</td>\n",
       "      <td>12</td>\n",
       "      <td>60</td>\n",
       "      <td>19</td>\n",
       "      <td>215</td>\n",
       "      <td>6</td>\n",
       "      <td>61</td>\n",
       "      <td>33</td>\n",
       "      <td>75</td>\n",
       "    </tr>\n",
       "    <tr>\n",
       "      <th>top</th>\n",
       "      <td>Anna</td>\n",
       "      <td>Berlin, Berlin, Germany</td>\n",
       "      <td>100%</td>\n",
       "      <td>Neukölln</td>\n",
       "      <td>['email', 'phone', 'reviews']</td>\n",
       "      <td>Berlin, Berlin, Germany</td>\n",
       "      <td>Neukölln</td>\n",
       "      <td>other</td>\n",
       "      <td>Friedrichshain-Kreuzberg</td>\n",
       "      <td>Berlin</td>\n",
       "      <td>Berlin</td>\n",
       "      <td>10245</td>\n",
       "      <td>Berlin</td>\n",
       "      <td>Berlin, Germany</td>\n",
       "      <td>Apartment</td>\n",
       "      <td>today</td>\n",
       "    </tr>\n",
       "    <tr>\n",
       "      <th>freq</th>\n",
       "      <td>216</td>\n",
       "      <td>17188</td>\n",
       "      <td>7127</td>\n",
       "      <td>2556</td>\n",
       "      <td>4103</td>\n",
       "      <td>22317</td>\n",
       "      <td>3209</td>\n",
       "      <td>11554</td>\n",
       "      <td>5497</td>\n",
       "      <td>22417</td>\n",
       "      <td>22417</td>\n",
       "      <td>855</td>\n",
       "      <td>22483</td>\n",
       "      <td>22419</td>\n",
       "      <td>20225</td>\n",
       "      <td>2517</td>\n",
       "    </tr>\n",
       "  </tbody>\n",
       "</table>\n",
       "</div>"
      ],
      "text/plain": [
       "       host_name            host_location host_response_rate  \\\n",
       "count      22526                    22436               9657   \n",
       "unique      5997                     1036                 64   \n",
       "top         Anna  Berlin, Berlin, Germany               100%   \n",
       "freq         216                    17188               7127   \n",
       "\n",
       "       host_neighbourhood             host_verifications  \\\n",
       "count               17458                          22552   \n",
       "unique                181                            301   \n",
       "top              Neukölln  ['email', 'phone', 'reviews']   \n",
       "freq                 2556                           4103   \n",
       "\n",
       "                         street neighbourhood neighbourhood_cleansed  \\\n",
       "count                     22552         21421                  22552   \n",
       "unique                       86            91                     14   \n",
       "top     Berlin, Berlin, Germany      Neukölln                  other   \n",
       "freq                      22317          3209                  11554   \n",
       "\n",
       "       neighbourhood_group_cleansed    city   state zipcode  market  \\\n",
       "count                         22552   22547   22468   21896   22489   \n",
       "unique                           12      60      19     215       6   \n",
       "top        Friedrichshain-Kreuzberg  Berlin  Berlin   10245  Berlin   \n",
       "freq                           5497   22417   22417     855   22483   \n",
       "\n",
       "         smart_location property_type calendar_updated  \n",
       "count             22552         22552            22552  \n",
       "unique               61            33               75  \n",
       "top     Berlin, Germany     Apartment            today  \n",
       "freq              22419         20225             2517  "
      ]
     },
     "execution_count": 539,
     "metadata": {},
     "output_type": "execute_result"
    }
   ],
   "source": [
    "cat_prospies[to_combine_columns].describe()"
   ]
  },
  {
   "cell_type": "code",
   "execution_count": 725,
   "metadata": {},
   "outputs": [
    {
     "data": {
      "text/plain": [
       "'Berlin, Berlin, Germany'"
      ]
     },
     "execution_count": 725,
     "metadata": {},
     "output_type": "execute_result"
    }
   ],
   "source": [
    "df.street.value_counts(normalize=True).index[0]"
   ]
  },
  {
   "cell_type": "code",
   "execution_count": 740,
   "metadata": {},
   "outputs": [],
   "source": [
    "def summarize_counts(df):\n",
    "    frequencies = np.array([df[column].value_counts(normalize=True)[:1][0] for column in df.columns]).reshape(-1, 1)\n",
    "    columns = df.columns.to_numpy().reshape(-1, 1)\n",
    "    top_values = np.array([df[column].value_counts(normalize=True).index[0] for column in df.columns]).reshape(-1, 1)\n",
    "    summarize = np.hstack((columns, frequencies, top_values))\n",
    "    return summarize[summarize[:,1].argsort()[::-1]]"
   ]
  },
  {
   "cell_type": "code",
   "execution_count": 741,
   "metadata": {},
   "outputs": [
    {
     "data": {
      "text/plain": [
       "array([['market', 0.9997332028991952, 'Berlin'],\n",
       "       ['state', 0.9977301050382766, 'Berlin'],\n",
       "       ['city', 0.9942342661994944, 'Berlin'],\n",
       "       ['smart_location', 0.9941025186236254, 'Berlin, Germany'],\n",
       "       ['street', 0.9895796381695636, 'Berlin, Berlin, Germany'],\n",
       "       ['property_type', 0.8968162468960624, 'Apartment'],\n",
       "       ['host_location', 0.7660902121590302, 'Berlin, Berlin, Germany'],\n",
       "       ['host_response_rate', 0.7380138759449104, '100%'],\n",
       "       ['neighbourhood_cleansed', 0.51232706633558, 'other'],\n",
       "       ['neighbourhood_group_cleansed', 0.2437477829017382,\n",
       "        'Friedrichshain-Kreuzberg'],\n",
       "       ['host_verifications', 0.18193508336289466,\n",
       "        \"['email', 'phone', 'reviews']\"],\n",
       "       ['neighbourhood', 0.1498062648802577, 'Neukölln'],\n",
       "       ['host_neighbourhood', 0.14640852331309429, 'Neukölln'],\n",
       "       ['calendar_updated', 0.11160872649875843, 'today'],\n",
       "       ['zipcode', 0.039048227986846915, '10245'],\n",
       "       ['host_name', 0.009588919470833703, 'Anna']], dtype=object)"
      ]
     },
     "execution_count": 741,
     "metadata": {},
     "output_type": "execute_result"
    }
   ],
   "source": [
    "# find those more than 95 percent\n",
    "# if more than .95 the same then \n",
    "summarize_counts(cat_prospies[to_combine_columns])"
   ]
  },
  {
   "cell_type": "code",
   "execution_count": 607,
   "metadata": {},
   "outputs": [],
   "source": [
    "def remove_punctuation(string):\n",
    "    return string.strip().lower().replace(' ', '_').replace('(', '').replace(')', '').replace(',', '')"
   ]
  },
  {
   "cell_type": "markdown",
   "metadata": {},
   "source": [
    "[From here](https://medium.com/@chaimgluck1/working-with-pandas-fixing-messy-column-names-42a54a6659cd)"
   ]
  },
  {
   "cell_type": "code",
   "execution_count": 743,
   "metadata": {},
   "outputs": [],
   "source": [
    "def almost_binary(df, threshold = .95):\n",
    "    return np.array([np.array([cat, top]) for cat, frequency, top in summarize_counts(df) if frequency > .95])"
   ]
  },
  {
   "cell_type": "code",
   "execution_count": 744,
   "metadata": {},
   "outputs": [],
   "source": [
    "bin_feats = almost_binary(cat_prospies[to_combine_columns])"
   ]
  },
  {
   "cell_type": "code",
   "execution_count": 745,
   "metadata": {},
   "outputs": [
    {
     "data": {
      "text/plain": [
       "array([['market', 'Berlin'],\n",
       "       ['state', 'Berlin'],\n",
       "       ['city', 'Berlin'],\n",
       "       ['smart_location', 'Berlin, Germany'],\n",
       "       ['street', 'Berlin, Berlin, Germany']], dtype='<U23')"
      ]
     },
     "execution_count": 745,
     "metadata": {},
     "output_type": "execute_result"
    }
   ],
   "source": [
    "bin_feats"
   ]
  },
  {
   "cell_type": "code",
   "execution_count": 746,
   "metadata": {},
   "outputs": [],
   "source": [
    "new_bin_feats = new_binary_features(cat_prospies[to_combine_columns])"
   ]
  },
  {
   "cell_type": "code",
   "execution_count": 747,
   "metadata": {},
   "outputs": [
    {
     "data": {
      "text/plain": [
       "array(['market_is_berlin', 'state_is_berlin', 'city_is_berlin',\n",
       "       'smart_location_is_berlin_germany',\n",
       "       'street_is_berlin_berlin_germany'], dtype='<U32')"
      ]
     },
     "execution_count": 747,
     "metadata": {},
     "output_type": "execute_result"
    }
   ],
   "source": [
    "new_bin_feats"
   ]
  },
  {
   "cell_type": "code",
   "execution_count": 750,
   "metadata": {},
   "outputs": [],
   "source": [
    "def matrix_new_features(df):\n",
    "    bin_feats = almost_binary(df)\n",
    "    new_bin_feats = np.array(['{column}_is_{top}'.format(column = column, top = remove_punctuation(top)) for column, top in bin_feats])\n",
    "    return np.hstack((bin_feats[:, 0].reshape(-1, 1), bin_feats[:, 1].reshape(-1, 1), new_bin_feats.reshape(-1, 1)))"
   ]
  },
  {
   "cell_type": "code",
   "execution_count": 749,
   "metadata": {},
   "outputs": [
    {
     "data": {
      "text/plain": [
       "array([['market', 'Berlin'],\n",
       "       ['state', 'Berlin'],\n",
       "       ['city', 'Berlin'],\n",
       "       ['smart_location', 'Berlin, Germany'],\n",
       "       ['street', 'Berlin, Berlin, Germany']], dtype='<U23')"
      ]
     },
     "execution_count": 749,
     "metadata": {},
     "output_type": "execute_result"
    }
   ],
   "source": [
    "almost_binary(cat_prospies[to_combine_columns])"
   ]
  },
  {
   "cell_type": "code",
   "execution_count": 751,
   "metadata": {},
   "outputs": [
    {
     "data": {
      "text/plain": [
       "array([['market', 'Berlin', 'market_is_berlin'],\n",
       "       ['state', 'Berlin', 'state_is_berlin'],\n",
       "       ['city', 'Berlin', 'city_is_berlin'],\n",
       "       ['smart_location', 'Berlin, Germany',\n",
       "        'smart_location_is_berlin_germany'],\n",
       "       ['street', 'Berlin, Berlin, Germany',\n",
       "        'street_is_berlin_berlin_germany']], dtype='<U32')"
      ]
     },
     "execution_count": 751,
     "metadata": {},
     "output_type": "execute_result"
    }
   ],
   "source": [
    "matrix_new_features(cat_prospies[to_combine_columns])"
   ]
  },
  {
   "cell_type": "code",
   "execution_count": 656,
   "metadata": {},
   "outputs": [],
   "source": [
    "def almost_to_boolean(df):\n",
    "    columns_to_replace = matrix_new_features(df)[:, 0]\n",
    "    values_to_replace = matrix_new_features(df)[:, 1]\n",
    "    new_column_names = matrix_new_features(df)[:, 2]\n",
    "    to_replace_df = pd.DataFrame({})\n",
    "    for column, value, new_name in zip(columns_to_replace, values_to_replace, new_column_names):\n",
    "        bool_column = np.where(df[column] == value,1,0)\n",
    "        to_replace_df[new_name] = bool_column\n",
    "    return to_replace_df"
   ]
  },
  {
   "cell_type": "code",
   "execution_count": 662,
   "metadata": {},
   "outputs": [],
   "source": [
    "almost = almost_to_boolean(cat_prospies[to_combine_columns])"
   ]
  },
  {
   "cell_type": "code",
   "execution_count": 665,
   "metadata": {},
   "outputs": [
    {
     "data": {
      "text/plain": [
       "street_is_berlin_berlin_germany     int64\n",
       "city_is_berlin                      int64\n",
       "state_is_berlin                     int64\n",
       "market_is_berlin                    int64\n",
       "smart_location_is_berlin_germany    int64\n",
       "dtype: object"
      ]
     },
     "execution_count": 665,
     "metadata": {},
     "output_type": "execute_result"
    }
   ],
   "source": [
    "almost.dtypes"
   ]
  },
  {
   "cell_type": "code",
   "execution_count": 667,
   "metadata": {},
   "outputs": [
    {
     "data": {
      "text/plain": [
       "Index(['host_name', 'host_location', 'host_response_rate',\n",
       "       'host_neighbourhood', 'host_verifications', 'street', 'neighbourhood',\n",
       "       'neighbourhood_cleansed', 'neighbourhood_group_cleansed', 'city',\n",
       "       'state', 'zipcode', 'market', 'smart_location', 'property_type',\n",
       "       'calendar_updated'],\n",
       "      dtype='object')"
      ]
     },
     "execution_count": 667,
     "metadata": {},
     "output_type": "execute_result"
    }
   ],
   "source": [
    "cat_prospies[to_combine_columns].columns"
   ]
  },
  {
   "cell_type": "code",
   "execution_count": 520,
   "metadata": {},
   "outputs": [],
   "source": [
    "def selected_cat_values(column, threshold = .05):\n",
    "    values_counted = column.value_counts(normalize=True)\n",
    "    return values_counted[values_counted > .025]"
   ]
  },
  {
   "cell_type": "code",
   "execution_count": 530,
   "metadata": {},
   "outputs": [
    {
     "data": {
      "text/plain": [
       "Tempelhofer Vorstadt        0.058753\n",
       "Frankfurter Allee Süd FK    0.056846\n",
       "Alexanderplatz              0.048377\n",
       "Reuterstraße                0.044431\n",
       "Rixdorf                     0.039021\n",
       "Neuköllner Mitte/Zentrum    0.035341\n",
       "Brunnenstr. Süd             0.034276\n",
       "Frankfurter Allee Nord      0.032591\n",
       "Schillerpromenade           0.029354\n",
       "südliche Luisenstadt        0.028512\n",
       "Prenzlauer Berg Nordwest    0.027625\n",
       "Prenzlauer Berg Südwest     0.027403\n",
       "Schöneberg-Nord             0.025142\n",
       "Name: neighbourhood_cleansed, dtype: float64"
      ]
     },
     "execution_count": 530,
     "metadata": {},
     "output_type": "execute_result"
    }
   ],
   "source": [
    "selected = selected_cat_values(cat_prospies.neighbourhood_cleansed, .02)\n",
    "selected"
   ]
  },
  {
   "cell_type": "code",
   "execution_count": 668,
   "metadata": {},
   "outputs": [],
   "source": [
    "def reduce_cat_values(column, threshold = .02):\n",
    "    selected_values = selected_cat_values(column, threshold).index\n",
    "    column[~column.isin(selected_values)] = 'other'\n",
    "    return column"
   ]
  },
  {
   "cell_type": "code",
   "execution_count": 533,
   "metadata": {},
   "outputs": [
    {
     "data": {
      "text/plain": [
       "other                       0.512327\n",
       "Tempelhofer Vorstadt        0.058753\n",
       "Frankfurter Allee Süd FK    0.056846\n",
       "Alexanderplatz              0.048377\n",
       "Reuterstraße                0.044431\n",
       "Rixdorf                     0.039021\n",
       "Neuköllner Mitte/Zentrum    0.035341\n",
       "Brunnenstr. Süd             0.034276\n",
       "Frankfurter Allee Nord      0.032591\n",
       "Schillerpromenade           0.029354\n",
       "südliche Luisenstadt        0.028512\n",
       "Prenzlauer Berg Nordwest    0.027625\n",
       "Prenzlauer Berg Südwest     0.027403\n",
       "Schöneberg-Nord             0.025142\n",
       "Name: neighbourhood_cleansed, dtype: float64"
      ]
     },
     "execution_count": 533,
     "metadata": {},
     "output_type": "execute_result"
    }
   ],
   "source": [
    "column.value_counts(normalize=True)"
   ]
  },
  {
   "cell_type": "code",
   "execution_count": null,
   "metadata": {},
   "outputs": [],
   "source": []
  }
 ],
 "metadata": {
  "kernelspec": {
   "display_name": "Python 3",
   "language": "python",
   "name": "python3"
  },
  "language_info": {
   "codemirror_mode": {
    "name": "ipython",
    "version": 3
   },
   "file_extension": ".py",
   "mimetype": "text/x-python",
   "name": "python",
   "nbconvert_exporter": "python",
   "pygments_lexer": "ipython3",
   "version": "3.7.3"
  }
 },
 "nbformat": 4,
 "nbformat_minor": 2
}
