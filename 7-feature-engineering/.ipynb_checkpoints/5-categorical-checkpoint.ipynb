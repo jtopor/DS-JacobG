{
 "cells": [
  {
   "cell_type": "markdown",
   "metadata": {},
   "source": [
    "# Categorical Features"
   ]
  },
  {
   "cell_type": "markdown",
   "metadata": {},
   "source": [
    "### Introduction"
   ]
  },
  {
   "cell_type": "markdown",
   "metadata": {},
   "source": [
    "### Working with AirBnb"
   ]
  },
  {
   "cell_type": "markdown",
   "metadata": {},
   "source": [
    "For this lesson, we'll work with [AirBnb listings in Berlin](https://www.kaggle.com/brittabettendorf/berlin-airbnb-data)."
   ]
  },
  {
   "cell_type": "code",
   "execution_count": 74,
   "metadata": {},
   "outputs": [],
   "source": [
    "import pandas as pd\n",
    "df = pd.read_csv('listings_summary.csv.zip')"
   ]
  },
  {
   "cell_type": "code",
   "execution_count": 82,
   "metadata": {},
   "outputs": [],
   "source": [
    "pd.set_option('display.max_rows',100)"
   ]
  },
  {
   "cell_type": "code",
   "execution_count": 85,
   "metadata": {},
   "outputs": [],
   "source": [
    "# df.T"
   ]
  },
  {
   "cell_type": "markdown",
   "metadata": {},
   "source": [
    "### Feature engineering"
   ]
  },
  {
   "cell_type": "markdown",
   "metadata": {},
   "source": [
    "Let's try to capture as much of this object data as possible."
   ]
  },
  {
   "cell_type": "code",
   "execution_count": 78,
   "metadata": {},
   "outputs": [],
   "source": [
    "def find_object_features(df):\n",
    "    return list(df.dtypes[df.dtypes == 'object'].index)"
   ]
  },
  {
   "cell_type": "code",
   "execution_count": 95,
   "metadata": {},
   "outputs": [],
   "source": [
    "# df.dtypes[df.dtypes == 'float64']"
   ]
  },
  {
   "cell_type": "code",
   "execution_count": 96,
   "metadata": {},
   "outputs": [],
   "source": [
    "def find_object_feature_values(df):\n",
    "    object_features = find_object_features(df)\n",
    "    return df[object_features][:1].values[0]"
   ]
  },
  {
   "cell_type": "code",
   "execution_count": 97,
   "metadata": {},
   "outputs": [],
   "source": [
    "def informative(df):\n",
    "    non_informative = [column for column in df.columns if len(df[column].unique()) == 1]\n",
    "    informative_columns = list(set(df.columns.to_list()) - set(non_informative))\n",
    "    return df[informative_columns]"
   ]
  },
  {
   "cell_type": "code",
   "execution_count": 102,
   "metadata": {},
   "outputs": [],
   "source": [
    "# informative(df)[:2]"
   ]
  },
  {
   "cell_type": "code",
   "execution_count": 6,
   "metadata": {},
   "outputs": [],
   "source": [
    "def percentage_unique(df_series):\n",
    "    series_filled = df_series.dropna()\n",
    "    return len(series_filled.unique())/len(series_filled)"
   ]
  },
  {
   "cell_type": "code",
   "execution_count": 7,
   "metadata": {},
   "outputs": [],
   "source": [
    "def find_categorical(df, threshold = .5):    \n",
    "    categorical_df = pd.DataFrame({})\n",
    "    for column in df.columns:\n",
    "        if percentage_unique(df[column]) < threshold:\n",
    "            categorical_df[column] = df[column]\n",
    "    return categorical_df "
   ]
  },
  {
   "cell_type": "code",
   "execution_count": 88,
   "metadata": {},
   "outputs": [],
   "source": [
    "# find_object_feature_values(df)"
   ]
  },
  {
   "cell_type": "code",
   "execution_count": 116,
   "metadata": {},
   "outputs": [],
   "source": [
    "df_informative = informative(df)\n",
    "\n",
    "potential_categorical = find_categorical(df_informative)\n",
    "# potential_categorical"
   ]
  },
  {
   "cell_type": "markdown",
   "metadata": {},
   "source": [
    "### Combine with Selecting Categorical Columns"
   ]
  },
  {
   "cell_type": "code",
   "execution_count": 104,
   "metadata": {},
   "outputs": [],
   "source": [
    "import numpy as np\n",
    "def summarize_counts(df):\n",
    "    non_empty_columns = df.dropna(axis=1,how='all').columns\n",
    "    frequencies = np.array([df[column].value_counts(normalize=True).values[0] for column in non_empty_columns]).reshape(-1, 1)\n",
    "    columns = non_empty_columns.to_numpy().reshape(-1, 1)\n",
    "    top_values = np.array([df[column].value_counts(normalize=True).index[0] for column in non_empty_columns]).reshape(-1, 1)\n",
    "    summarize = np.hstack((columns, frequencies, top_values))\n",
    "    return summarize[summarize[:,1].argsort()[::-1]]"
   ]
  },
  {
   "cell_type": "code",
   "execution_count": 121,
   "metadata": {},
   "outputs": [],
   "source": [
    "\n",
    "# summarize_counts(potential_categorical)"
   ]
  },
  {
   "cell_type": "code",
   "execution_count": null,
   "metadata": {},
   "outputs": [],
   "source": [
    "top_counts"
   ]
  },
  {
   "cell_type": "code",
   "execution_count": 18,
   "metadata": {},
   "outputs": [],
   "source": [
    "def selected_summaries(df, not_values = [], lower_bound = .1, upper_bound = 1):\n",
    "    potential_cols = summarize_counts(df)\n",
    "    potential_cols = potential_cols[potential_cols[:, 1] > lower_bound]\n",
    "    potential_cols = potential_cols[potential_cols[:, 1] < upper_bound]\n",
    "    not_tf = ~np.isin(potential_cols[:, 2], not_values)\n",
    "    return potential_cols[not_tf]"
   ]
  },
  {
   "cell_type": "code",
   "execution_count": 123,
   "metadata": {},
   "outputs": [
    {
     "data": {
      "text/plain": [
       "array([['property_type', 0.8968162468960624, 'Apartment'],\n",
       "       ['bathrooms', 0.8795293072824156, '1.0'],\n",
       "       ['review_scores_communication', 0.805393184074115, '10.0'],\n",
       "       ['review_scores_checkin', 0.7908940397350993, '10.0'],\n",
       "       ['guests_included', 0.7746984746363959, '1'],\n",
       "       ['host_location', 0.7660902121590302, 'Berlin, Berlin, Germany'],\n",
       "       ['calculated_host_listings_count', 0.7643667967364314, '1'],\n",
       "       ['bedrooms', 0.761693441022455, '1.0'],\n",
       "       ['review_scores_accuracy', 0.7544381960524865, '10.0'],\n",
       "       ['host_response_rate', 0.7380138759449104, '100%'],\n",
       "       ['host_listings_count', 0.7170824824647074, '1.0'],\n",
       "       ['host_total_listings_count', 0.7170824824647074, '1.0'],\n",
       "       ['availability_30', 0.6433575736076623, '0'],\n",
       "       ['beds', 0.636549395877754, '1.0'],\n",
       "       ['review_scores_location', 0.616356713205673, '10.0'],\n",
       "       ['review_scores_cleanliness', 0.568325891626702, '10.0'],\n",
       "       ['availability_60', 0.5574228449804896, '0'],\n",
       "       ['review_scores_value', 0.5530717006126842, '10.0'],\n",
       "       ['accommodates', 0.5422135509045761, '2'],\n",
       "       ['host_response_time', 0.5260923586663906, 'within an hour'],\n",
       "       ['availability_90', 0.5199538843561546, '0'],\n",
       "       ['room_type', 0.511440227030862, 'Private room'],\n",
       "       ['maximum_nights', 0.49268357573607663, '1125'],\n",
       "       ['extra_people', 0.4816867683575736, '$0.00'],\n",
       "       ['availability_365', 0.47836112096488115, '0'],\n",
       "       ['cancellation_policy', 0.403600567577155, 'flexible'],\n",
       "       ['security_deposit', 0.40322947464180126, '$0.00'],\n",
       "       ['review_scores_rating', 0.33270935418157793, '100.0'],\n",
       "       ['square_feet', 0.2757847533632287, '0.0'],\n",
       "       ['minimum_nights', 0.25966654842142606, '2'],\n",
       "       ['neighbourhood_group_cleansed', 0.2437477829017382,\n",
       "        'Friedrichshain-Kreuzberg'],\n",
       "       ['host_verifications', 0.18193508336289466,\n",
       "        \"['email', 'phone', 'reviews']\"],\n",
       "       ['number_of_reviews', 0.1724902447676481, '0'],\n",
       "       ['neighbourhood', 0.1498062648802577, 'Neukölln'],\n",
       "       ['host_neighbourhood', 0.14640852331309429, 'Neukölln'],\n",
       "       ['cleaning_fee', 0.12105673114371024, '$0.00'],\n",
       "       ['calendar_updated', 0.11160872649875843, 'today']], dtype=object)"
      ]
     },
     "execution_count": 123,
     "metadata": {},
     "output_type": "execute_result"
    }
   ],
   "source": [
    "selected = selected_summaries(df, not_values = ['t', 'f'], upper_bound = .90)\n",
    "selected"
   ]
  },
  {
   "cell_type": "markdown",
   "metadata": {},
   "source": [
    "* But we may not want values with digits, as we could change them to floats."
   ]
  },
  {
   "cell_type": "code",
   "execution_count": 126,
   "metadata": {},
   "outputs": [],
   "source": [
    "def num_is_digit(array, str_index = 0):\n",
    "    return np.array([value[str_index].isdigit() for value in array])"
   ]
  },
  {
   "cell_type": "code",
   "execution_count": 127,
   "metadata": {},
   "outputs": [
    {
     "data": {
      "text/plain": [
       "array([False,  True,  True,  True,  True, False,  True,  True,  True,\n",
       "        True])"
      ]
     },
     "execution_count": 127,
     "metadata": {},
     "output_type": "execute_result"
    }
   ],
   "source": [
    "num_is_digit(selected[:, 2], str_index = 0)[0:10]"
   ]
  },
  {
   "cell_type": "code",
   "execution_count": 128,
   "metadata": {},
   "outputs": [],
   "source": [
    "def remove_digits_from_selected(selected_matrix, col_idx, str_indices = [0, -1]):\n",
    "    for idx in str_indices:\n",
    "        selected_col = selected_matrix[~num_is_digit(selected_matrix[:, col_idx], idx)]\n",
    "    return selected_col"
   ]
  },
  {
   "cell_type": "code",
   "execution_count": 130,
   "metadata": {},
   "outputs": [
    {
     "data": {
      "text/plain": [
       "array([['property_type', 0.8968162468960624, 'Apartment'],\n",
       "       ['host_location', 0.7660902121590302, 'Berlin, Berlin, Germany'],\n",
       "       ['host_response_rate', 0.7380138759449104, '100%'],\n",
       "       ['host_response_time', 0.5260923586663906, 'within an hour'],\n",
       "       ['room_type', 0.511440227030862, 'Private room'],\n",
       "       ['cancellation_policy', 0.403600567577155, 'flexible'],\n",
       "       ['neighbourhood_group_cleansed', 0.2437477829017382,\n",
       "        'Friedrichshain-Kreuzberg'],\n",
       "       ['host_verifications', 0.18193508336289466,\n",
       "        \"['email', 'phone', 'reviews']\"],\n",
       "       ['neighbourhood', 0.1498062648802577, 'Neukölln'],\n",
       "       ['host_neighbourhood', 0.14640852331309429, 'Neukölln'],\n",
       "       ['calendar_updated', 0.11160872649875843, 'today']], dtype=object)"
      ]
     },
     "execution_count": 130,
     "metadata": {},
     "output_type": "execute_result"
    }
   ],
   "source": [
    "selected_sums_no_digits = remove_digits_from_selected(selected, 2, [0, -1])\n",
    "selected_sums_no_digits"
   ]
  },
  {
   "cell_type": "markdown",
   "metadata": {},
   "source": [
    "### Cleaning Values"
   ]
  },
  {
   "cell_type": "markdown",
   "metadata": {},
   "source": [
    "1. Find columns to clean"
   ]
  },
  {
   "cell_type": "code",
   "execution_count": 31,
   "metadata": {},
   "outputs": [],
   "source": [
    "def categorical_plus_values(df, threshold = 5):\n",
    "    categorical_cols = find_categorical(df)\n",
    "    return [column for column in categorical_cols if len(df[column].value_counts()) > threshold]"
   ]
  },
  {
   "cell_type": "code",
   "execution_count": 131,
   "metadata": {},
   "outputs": [
    {
     "data": {
      "text/plain": [
       "array(['property_type', 'host_location', 'host_response_rate',\n",
       "       'host_response_time', 'room_type', 'cancellation_policy',\n",
       "       'neighbourhood_group_cleansed', 'host_verifications',\n",
       "       'neighbourhood', 'host_neighbourhood', 'calendar_updated'],\n",
       "      dtype=object)"
      ]
     },
     "execution_count": 131,
     "metadata": {},
     "output_type": "execute_result"
    }
   ],
   "source": [
    "selected_cat_cols = selected_sums_no_digits[:, 0]\n",
    "\n",
    "selected_cat_cols"
   ]
  },
  {
   "cell_type": "code",
   "execution_count": 132,
   "metadata": {},
   "outputs": [
    {
     "data": {
      "text/html": [
       "<div>\n",
       "<style scoped>\n",
       "    .dataframe tbody tr th:only-of-type {\n",
       "        vertical-align: middle;\n",
       "    }\n",
       "\n",
       "    .dataframe tbody tr th {\n",
       "        vertical-align: top;\n",
       "    }\n",
       "\n",
       "    .dataframe thead th {\n",
       "        text-align: right;\n",
       "    }\n",
       "</style>\n",
       "<table border=\"1\" class=\"dataframe\">\n",
       "  <thead>\n",
       "    <tr style=\"text-align: right;\">\n",
       "      <th></th>\n",
       "      <th>property_type</th>\n",
       "      <th>host_location</th>\n",
       "      <th>host_response_rate</th>\n",
       "      <th>host_response_time</th>\n",
       "      <th>room_type</th>\n",
       "      <th>cancellation_policy</th>\n",
       "      <th>neighbourhood_group_cleansed</th>\n",
       "      <th>host_verifications</th>\n",
       "      <th>neighbourhood</th>\n",
       "      <th>host_neighbourhood</th>\n",
       "      <th>calendar_updated</th>\n",
       "    </tr>\n",
       "  </thead>\n",
       "  <tbody>\n",
       "    <tr>\n",
       "      <th>0</th>\n",
       "      <td>Guesthouse</td>\n",
       "      <td>Key Biscayne, Florida, United States</td>\n",
       "      <td>96%</td>\n",
       "      <td>within an hour</td>\n",
       "      <td>Entire home/apt</td>\n",
       "      <td>strict_14_with_grace_period</td>\n",
       "      <td>Mitte</td>\n",
       "      <td>['email', 'phone', 'reviews', 'jumio', 'offlin...</td>\n",
       "      <td>Mitte</td>\n",
       "      <td>Mitte</td>\n",
       "      <td>3 months ago</td>\n",
       "    </tr>\n",
       "    <tr>\n",
       "      <th>1</th>\n",
       "      <td>Apartment</td>\n",
       "      <td>Berlin, Berlin, Germany</td>\n",
       "      <td>NaN</td>\n",
       "      <td>NaN</td>\n",
       "      <td>Private room</td>\n",
       "      <td>flexible</td>\n",
       "      <td>Pankow</td>\n",
       "      <td>['email', 'phone', 'reviews', 'jumio', 'govern...</td>\n",
       "      <td>NaN</td>\n",
       "      <td>Prenzlauer Berg</td>\n",
       "      <td>7 weeks ago</td>\n",
       "    </tr>\n",
       "    <tr>\n",
       "      <th>2</th>\n",
       "      <td>Apartment</td>\n",
       "      <td>Coledale, New South Wales, Australia</td>\n",
       "      <td>100%</td>\n",
       "      <td>within a day</td>\n",
       "      <td>Entire home/apt</td>\n",
       "      <td>strict_14_with_grace_period</td>\n",
       "      <td>Pankow</td>\n",
       "      <td>['email', 'phone', 'facebook', 'reviews', 'man...</td>\n",
       "      <td>Prenzlauer Berg</td>\n",
       "      <td>Prenzlauer Berg</td>\n",
       "      <td>a week ago</td>\n",
       "    </tr>\n",
       "  </tbody>\n",
       "</table>\n",
       "</div>"
      ],
      "text/plain": [
       "  property_type                         host_location host_response_rate  \\\n",
       "0    Guesthouse  Key Biscayne, Florida, United States                96%   \n",
       "1     Apartment               Berlin, Berlin, Germany                NaN   \n",
       "2     Apartment  Coledale, New South Wales, Australia               100%   \n",
       "\n",
       "  host_response_time        room_type          cancellation_policy  \\\n",
       "0     within an hour  Entire home/apt  strict_14_with_grace_period   \n",
       "1                NaN     Private room                     flexible   \n",
       "2       within a day  Entire home/apt  strict_14_with_grace_period   \n",
       "\n",
       "  neighbourhood_group_cleansed  \\\n",
       "0                        Mitte   \n",
       "1                       Pankow   \n",
       "2                       Pankow   \n",
       "\n",
       "                                  host_verifications    neighbourhood  \\\n",
       "0  ['email', 'phone', 'reviews', 'jumio', 'offlin...            Mitte   \n",
       "1  ['email', 'phone', 'reviews', 'jumio', 'govern...              NaN   \n",
       "2  ['email', 'phone', 'facebook', 'reviews', 'man...  Prenzlauer Berg   \n",
       "\n",
       "  host_neighbourhood calendar_updated  \n",
       "0              Mitte     3 months ago  \n",
       "1    Prenzlauer Berg      7 weeks ago  \n",
       "2    Prenzlauer Berg       a week ago  "
      ]
     },
     "execution_count": 132,
     "metadata": {},
     "output_type": "execute_result"
    }
   ],
   "source": [
    "cat_cols_df = df_informative[selected_cat_cols]\n",
    "cat_cols_df[:3]"
   ]
  },
  {
   "cell_type": "code",
   "execution_count": 133,
   "metadata": {},
   "outputs": [],
   "source": [
    "updated_non_digits = categorical_plus_values(cat_cols_df)"
   ]
  },
  {
   "cell_type": "code",
   "execution_count": 134,
   "metadata": {},
   "outputs": [
    {
     "data": {
      "text/plain": [
       "8"
      ]
     },
     "execution_count": 134,
     "metadata": {},
     "output_type": "execute_result"
    }
   ],
   "source": [
    "len(updated_non_digits)"
   ]
  },
  {
   "cell_type": "code",
   "execution_count": 135,
   "metadata": {},
   "outputs": [
    {
     "data": {
      "text/plain": [
       "['property_type',\n",
       " 'host_location',\n",
       " 'host_response_rate',\n",
       " 'neighbourhood_group_cleansed',\n",
       " 'host_verifications',\n",
       " 'neighbourhood',\n",
       " 'host_neighbourhood',\n",
       " 'calendar_updated']"
      ]
     },
     "execution_count": 135,
     "metadata": {},
     "output_type": "execute_result"
    }
   ],
   "source": [
    "updated_non_digits"
   ]
  },
  {
   "cell_type": "code",
   "execution_count": 64,
   "metadata": {},
   "outputs": [
    {
     "data": {
      "text/html": [
       "<div>\n",
       "<style scoped>\n",
       "    .dataframe tbody tr th:only-of-type {\n",
       "        vertical-align: middle;\n",
       "    }\n",
       "\n",
       "    .dataframe tbody tr th {\n",
       "        vertical-align: top;\n",
       "    }\n",
       "\n",
       "    .dataframe thead th {\n",
       "        text-align: right;\n",
       "    }\n",
       "</style>\n",
       "<table border=\"1\" class=\"dataframe\">\n",
       "  <thead>\n",
       "    <tr style=\"text-align: right;\">\n",
       "      <th></th>\n",
       "      <th>property_type</th>\n",
       "      <th>host_location</th>\n",
       "      <th>host_response_rate</th>\n",
       "      <th>neighbourhood_group_cleansed</th>\n",
       "      <th>host_verifications</th>\n",
       "      <th>neighbourhood</th>\n",
       "      <th>host_neighbourhood</th>\n",
       "      <th>calendar_updated</th>\n",
       "    </tr>\n",
       "  </thead>\n",
       "  <tbody>\n",
       "    <tr>\n",
       "      <th>count</th>\n",
       "      <td>22552</td>\n",
       "      <td>22436</td>\n",
       "      <td>9657</td>\n",
       "      <td>22552</td>\n",
       "      <td>22552</td>\n",
       "      <td>21421</td>\n",
       "      <td>17458</td>\n",
       "      <td>22552</td>\n",
       "    </tr>\n",
       "    <tr>\n",
       "      <th>unique</th>\n",
       "      <td>33</td>\n",
       "      <td>1036</td>\n",
       "      <td>64</td>\n",
       "      <td>12</td>\n",
       "      <td>301</td>\n",
       "      <td>91</td>\n",
       "      <td>181</td>\n",
       "      <td>75</td>\n",
       "    </tr>\n",
       "    <tr>\n",
       "      <th>top</th>\n",
       "      <td>Apartment</td>\n",
       "      <td>Berlin, Berlin, Germany</td>\n",
       "      <td>100%</td>\n",
       "      <td>Friedrichshain-Kreuzberg</td>\n",
       "      <td>['email', 'phone', 'reviews']</td>\n",
       "      <td>Neukölln</td>\n",
       "      <td>Neukölln</td>\n",
       "      <td>today</td>\n",
       "    </tr>\n",
       "    <tr>\n",
       "      <th>freq</th>\n",
       "      <td>20225</td>\n",
       "      <td>17188</td>\n",
       "      <td>7127</td>\n",
       "      <td>5497</td>\n",
       "      <td>4103</td>\n",
       "      <td>3209</td>\n",
       "      <td>2556</td>\n",
       "      <td>2517</td>\n",
       "    </tr>\n",
       "  </tbody>\n",
       "</table>\n",
       "</div>"
      ],
      "text/plain": [
       "       property_type            host_location host_response_rate  \\\n",
       "count          22552                    22436               9657   \n",
       "unique            33                     1036                 64   \n",
       "top        Apartment  Berlin, Berlin, Germany               100%   \n",
       "freq           20225                    17188               7127   \n",
       "\n",
       "       neighbourhood_group_cleansed             host_verifications  \\\n",
       "count                         22552                          22552   \n",
       "unique                           12                            301   \n",
       "top        Friedrichshain-Kreuzberg  ['email', 'phone', 'reviews']   \n",
       "freq                           5497                           4103   \n",
       "\n",
       "       neighbourhood host_neighbourhood calendar_updated  \n",
       "count          21421              17458            22552  \n",
       "unique            91                181               75  \n",
       "top         Neukölln           Neukölln            today  \n",
       "freq            3209               2556             2517  "
      ]
     },
     "execution_count": 64,
     "metadata": {},
     "output_type": "execute_result"
    }
   ],
   "source": [
    "df[updated_non_digits].describe()"
   ]
  },
  {
   "cell_type": "code",
   "execution_count": 141,
   "metadata": {},
   "outputs": [],
   "source": [
    "# df['property_type'].value_counts(normalize = True)"
   ]
  },
  {
   "cell_type": "markdown",
   "metadata": {},
   "source": [
    "### Clean Values of Relevant Columns"
   ]
  },
  {
   "cell_type": "code",
   "execution_count": 54,
   "metadata": {},
   "outputs": [],
   "source": [
    "def selected_cat_values(column, threshold = .02):\n",
    "    values_counted = column.value_counts(normalize=True)\n",
    "    return values_counted[values_counted > threshold]"
   ]
  },
  {
   "cell_type": "code",
   "execution_count": 144,
   "metadata": {},
   "outputs": [],
   "source": [
    "selected = selected_cat_values(df.neighbourhood_cleansed, .02)"
   ]
  },
  {
   "cell_type": "code",
   "execution_count": 145,
   "metadata": {},
   "outputs": [
    {
     "data": {
      "text/plain": [
       "Tempelhofer Vorstadt        0.058753\n",
       "Frankfurter Allee Süd FK    0.056846\n",
       "Alexanderplatz              0.048377\n",
       "Reuterstraße                0.044431\n",
       "Rixdorf                     0.039021\n",
       "Neuköllner Mitte/Zentrum    0.035341\n",
       "Brunnenstr. Süd             0.034276\n",
       "Frankfurter Allee Nord      0.032591\n",
       "Schillerpromenade           0.029354\n",
       "südliche Luisenstadt        0.028512\n",
       "Prenzlauer Berg Nordwest    0.027625\n",
       "Prenzlauer Berg Südwest     0.027403\n",
       "Schöneberg-Nord             0.025142\n",
       "Prenzlauer Berg Süd         0.024610\n",
       "Wedding Zentrum             0.022925\n",
       "Moabit West                 0.021728\n",
       "nördliche Luisenstadt       0.021462\n",
       "Schöneberg-Süd              0.021018\n",
       "Helmholtzplatz              0.020353\n",
       "Name: neighbourhood_cleansed, dtype: float64"
      ]
     },
     "execution_count": 145,
     "metadata": {},
     "output_type": "execute_result"
    }
   ],
   "source": [
    "selected"
   ]
  },
  {
   "cell_type": "code",
   "execution_count": 146,
   "metadata": {},
   "outputs": [],
   "source": [
    "def reduce_cat_values(column, threshold = .02):\n",
    "    column = column.copy()\n",
    "    selected_values = selected_cat_values(column, threshold).index\n",
    "    column[~column.isin(selected_values)] = 'other'\n",
    "    return column.astype('category')"
   ]
  },
  {
   "cell_type": "raw",
   "metadata": {},
   "source": [
    "reduce_cat_values(df.neighbourhood_cleansed, .02)"
   ]
  },
  {
   "cell_type": "code",
   "execution_count": 149,
   "metadata": {},
   "outputs": [
    {
     "ename": "NameError",
     "evalue": "name 'reduced' is not defined",
     "output_type": "error",
     "traceback": [
      "\u001b[0;31m---------------------------------------------------------------------------\u001b[0m",
      "\u001b[0;31mNameError\u001b[0m                                 Traceback (most recent call last)",
      "\u001b[0;32m<ipython-input-149-5e70fe88af55>\u001b[0m in \u001b[0;36m<module>\u001b[0;34m\u001b[0m\n\u001b[0;32m----> 1\u001b[0;31m \u001b[0mreduced\u001b[0m\u001b[0;34m\u001b[0m\u001b[0;34m\u001b[0m\u001b[0m\n\u001b[0m",
      "\u001b[0;31mNameError\u001b[0m: name 'reduced' is not defined"
     ]
    }
   ],
   "source": [
    "reduced"
   ]
  },
  {
   "cell_type": "code",
   "execution_count": 69,
   "metadata": {},
   "outputs": [
    {
     "data": {
      "text/plain": [
       "8"
      ]
     },
     "execution_count": 69,
     "metadata": {},
     "output_type": "execute_result"
    }
   ],
   "source": [
    "len(df[updated_non_digits].columns)"
   ]
  },
  {
   "cell_type": "code",
   "execution_count": 70,
   "metadata": {},
   "outputs": [],
   "source": [
    "categoricals = ['property_type', 'host_location', 'neighbourhood_cleansed', 'room_type', 'cancellation_policy', 'neighbourhood_group_cleansed', 'host_verifications', 'neighbourhood', 'host_neighbourhood']\n",
    "\n"
   ]
  },
  {
   "cell_type": "code",
   "execution_count": 71,
   "metadata": {},
   "outputs": [],
   "source": [
    "def df_reduced_categories(df, categoricals, threshold = .01):\n",
    "    new_df = pd.DataFrame()\n",
    "    for category in categoricals:\n",
    "        new_df[category] = reduce_cat_values(df[category], threshold)\n",
    "    return new_df"
   ]
  },
  {
   "cell_type": "code",
   "execution_count": 72,
   "metadata": {},
   "outputs": [],
   "source": [
    "df_reduced = df_reduced_categories(df, categoricals)"
   ]
  },
  {
   "cell_type": "code",
   "execution_count": 73,
   "metadata": {},
   "outputs": [
    {
     "data": {
      "text/html": [
       "<div>\n",
       "<style scoped>\n",
       "    .dataframe tbody tr th:only-of-type {\n",
       "        vertical-align: middle;\n",
       "    }\n",
       "\n",
       "    .dataframe tbody tr th {\n",
       "        vertical-align: top;\n",
       "    }\n",
       "\n",
       "    .dataframe thead th {\n",
       "        text-align: right;\n",
       "    }\n",
       "</style>\n",
       "<table border=\"1\" class=\"dataframe\">\n",
       "  <thead>\n",
       "    <tr style=\"text-align: right;\">\n",
       "      <th></th>\n",
       "      <th>property_type</th>\n",
       "      <th>host_location</th>\n",
       "      <th>neighbourhood_cleansed</th>\n",
       "      <th>room_type</th>\n",
       "      <th>cancellation_policy</th>\n",
       "      <th>neighbourhood_group_cleansed</th>\n",
       "      <th>host_verifications</th>\n",
       "      <th>neighbourhood</th>\n",
       "      <th>host_neighbourhood</th>\n",
       "    </tr>\n",
       "  </thead>\n",
       "  <tbody>\n",
       "    <tr>\n",
       "      <th>count</th>\n",
       "      <td>22552</td>\n",
       "      <td>22552</td>\n",
       "      <td>22552</td>\n",
       "      <td>22552</td>\n",
       "      <td>22552</td>\n",
       "      <td>22552</td>\n",
       "      <td>22552</td>\n",
       "      <td>22552</td>\n",
       "      <td>22552</td>\n",
       "    </tr>\n",
       "    <tr>\n",
       "      <th>unique</th>\n",
       "      <td>5</td>\n",
       "      <td>4</td>\n",
       "      <td>31</td>\n",
       "      <td>3</td>\n",
       "      <td>4</td>\n",
       "      <td>11</td>\n",
       "      <td>18</td>\n",
       "      <td>14</td>\n",
       "      <td>14</td>\n",
       "    </tr>\n",
       "    <tr>\n",
       "      <th>top</th>\n",
       "      <td>Apartment</td>\n",
       "      <td>Berlin, Berlin, Germany</td>\n",
       "      <td>other</td>\n",
       "      <td>Private room</td>\n",
       "      <td>flexible</td>\n",
       "      <td>Friedrichshain-Kreuzberg</td>\n",
       "      <td>['email', 'phone', 'reviews']</td>\n",
       "      <td>other</td>\n",
       "      <td>other</td>\n",
       "    </tr>\n",
       "    <tr>\n",
       "      <th>freq</th>\n",
       "      <td>20225</td>\n",
       "      <td>17188</td>\n",
       "      <td>5031</td>\n",
       "      <td>11534</td>\n",
       "      <td>9102</td>\n",
       "      <td>5497</td>\n",
       "      <td>4103</td>\n",
       "      <td>4152</td>\n",
       "      <td>7648</td>\n",
       "    </tr>\n",
       "  </tbody>\n",
       "</table>\n",
       "</div>"
      ],
      "text/plain": [
       "       property_type            host_location neighbourhood_cleansed  \\\n",
       "count          22552                    22552                  22552   \n",
       "unique             5                        4                     31   \n",
       "top        Apartment  Berlin, Berlin, Germany                  other   \n",
       "freq           20225                    17188                   5031   \n",
       "\n",
       "           room_type cancellation_policy neighbourhood_group_cleansed  \\\n",
       "count          22552               22552                        22552   \n",
       "unique             3                   4                           11   \n",
       "top     Private room            flexible     Friedrichshain-Kreuzberg   \n",
       "freq           11534                9102                         5497   \n",
       "\n",
       "                   host_verifications neighbourhood host_neighbourhood  \n",
       "count                           22552         22552              22552  \n",
       "unique                             18            14                 14  \n",
       "top     ['email', 'phone', 'reviews']         other              other  \n",
       "freq                             4103          4152               7648  "
      ]
     },
     "execution_count": 73,
     "metadata": {},
     "output_type": "execute_result"
    }
   ],
   "source": [
    "df_reduced.describe()"
   ]
  },
  {
   "cell_type": "code",
   "execution_count": 198,
   "metadata": {},
   "outputs": [
    {
     "data": {
      "text/plain": [
       "array([['property_type', 0.8968162468960624, 'Apartment'],\n",
       "       ['host_location', 0.7621496984746364, 'Berlin, Berlin, Germany'],\n",
       "       ['neighbourhood_cleansed', 0.51232706633558, 'other'],\n",
       "       ['room_type', 0.511440227030862, 'Private room'],\n",
       "       ['cancellation_policy', 0.403600567577155, 'flexible'],\n",
       "       ['host_neighbourhood', 0.38479957431713374, 'other'],\n",
       "       ['host_verifications', 0.2920361830436325, 'other'],\n",
       "       ['neighbourhood_group_cleansed', 0.2437477829017382,\n",
       "        'Friedrichshain-Kreuzberg'],\n",
       "       ['neighbourhood', 0.21882759843916283, 'other']], dtype=object)"
      ]
     },
     "execution_count": 198,
     "metadata": {},
     "output_type": "execute_result"
    }
   ],
   "source": [
    "summarize_counts(df_reduced)"
   ]
  },
  {
   "cell_type": "code",
   "execution_count": 236,
   "metadata": {},
   "outputs": [],
   "source": [
    "def replace_df_columns(original_df, replacing_df):\n",
    "    replacing_cols = replacing_df.columns\n",
    "    original_df = original_df.drop(columns = replacing_cols)\n",
    "    new_df = pd.concat([original_df, replacing_df], axis = 1)\n",
    "    return new_df"
   ]
  },
  {
   "cell_type": "code",
   "execution_count": 233,
   "metadata": {},
   "outputs": [],
   "source": [
    "new_df = replace_df_columns(df, df_reduced)"
   ]
  }
 ],
 "metadata": {
  "kernelspec": {
   "display_name": "Python 3",
   "language": "python",
   "name": "python3"
  },
  "language_info": {
   "codemirror_mode": {
    "name": "ipython",
    "version": 3
   },
   "file_extension": ".py",
   "mimetype": "text/x-python",
   "name": "python",
   "nbconvert_exporter": "python",
   "pygments_lexer": "ipython3",
   "version": "3.7.3"
  }
 },
 "nbformat": 4,
 "nbformat_minor": 2
}
