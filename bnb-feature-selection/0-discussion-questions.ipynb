{
 "cells": [
  {
   "cell_type": "markdown",
   "metadata": {},
   "source": [
    "### Discussion Questions"
   ]
  },
  {
   "cell_type": "markdown",
   "metadata": {},
   "source": [
    "1. What is the question you are trying to answer?\n",
    "\n",
    "2. What are some of things you have learned from doing your project (regarding regression, feature engineering, etc.)\n",
    "    * What are some of the methods you have written?\n",
    "    \n",
    "3. Are there any questions that have come up as you worked through your project?  Anything that was particularly tricky to share?\n",
    "\n",
    "4. Walk through the steps you went through so far with your partner."
   ]
  }
 ],
 "metadata": {
  "kernelspec": {
   "display_name": "Python 3",
   "language": "python",
   "name": "python3"
  },
  "language_info": {
   "codemirror_mode": {
    "name": "ipython",
    "version": 3
   },
   "file_extension": ".py",
   "mimetype": "text/x-python",
   "name": "python",
   "nbconvert_exporter": "python",
   "pygments_lexer": "ipython3",
   "version": "3.7.3"
  }
 },
 "nbformat": 4,
 "nbformat_minor": 2
}
