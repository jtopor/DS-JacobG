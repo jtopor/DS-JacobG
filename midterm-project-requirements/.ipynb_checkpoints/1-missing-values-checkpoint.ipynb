{
 "cells": [
  {
   "cell_type": "markdown",
   "metadata": {},
   "source": [
    "# Midterm Projects"
   ]
  },
  {
   "cell_type": "markdown",
   "metadata": {},
   "source": [
    "### A. Feature Engineering"
   ]
  },
  {
   "cell_type": "markdown",
   "metadata": {},
   "source": [
    "Feature engineering involves two components - (1) identifying missing values, (2) feature coercion and feature generation."
   ]
  },
  {
   "cell_type": "markdown",
   "metadata": {},
   "source": [
    "**1. Missing Values**\n",
    "\n",
    ">  Our machine learning models do not know how to handle missing values. If not handled correctly, this can cause multiple problems\n",
    "> 1. Forces us to dispose an observation or feature that has valuable information\n",
    "> 2. \"Missingness\" of a feature can be indicative of something that is not otherwise captured in our model (eg. missing GPA scores on a job applicant could be hiding a low GPA score).\n",
    "> 3. Missing values can be represented as outliers, and thus influence our model predictions\n",
    "\n",
    "\n",
    "A. Explore missing values\n",
    "  * Identify columns with nans\n",
    "  * Identify columns with outliers, and large number of repeate numbers by looking at the percentage of z-scores\n",
    "      * We used this as an alternative to histograms for datasets with a large number of columns\n",
    "  * Identify columns with missing value indicator numbers\n",
    "      * -999, 999, 0 \n",
    "      \n",
    "B. Coerce Missing Values\n",
    "  * We have a two step process once we identify missing values in a feature: \n",
    "    1. Replace the missing value with the mean\n",
    "    2. For each feature with missing values, add a boolean column to indicate whether the value is missing or not for each obseration\n",
    "  * If missing values are in the target, we drop the respective row"
   ]
  },
  {
   "cell_type": "markdown",
   "metadata": {},
   "source": [
    "*Missing Value Requirements*\n",
    "\n",
    "   * Each project must explore missing values, and coerce missing values as explained above. "
   ]
  }
 ],
 "metadata": {
  "kernelspec": {
   "display_name": "Python 3",
   "language": "python",
   "name": "python3"
  },
  "language_info": {
   "codemirror_mode": {
    "name": "ipython",
    "version": 3
   },
   "file_extension": ".py",
   "mimetype": "text/x-python",
   "name": "python",
   "nbconvert_exporter": "python",
   "pygments_lexer": "ipython3",
   "version": "3.7.3"
  }
 },
 "nbformat": 4,
 "nbformat_minor": 2
}
