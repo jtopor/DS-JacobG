{
 "cells": [
  {
   "cell_type": "markdown",
   "metadata": {},
   "source": [
    "### Final Model"
   ]
  },
  {
   "cell_type": "markdown",
   "metadata": {},
   "source": [
    "* Once you have coerced and generated features, and selected features, it is time to fit the model, and score the model against a holdout set. "
   ]
  },
  {
   "cell_type": "markdown",
   "metadata": {},
   "source": [
    "After scoring the model, write (2 - 3) paragraphs where you interpret the model (by feature scores, and grouping features like geographic features, or datetimes), identify assumptions of your work (eg. omitted variable bias, multicollinearity), answer the \"so what\" of your analysis, and propose next steps.\n",
    "\n",
    "> This so far, has not been a major focus of the class, so will not be a heavily factored into the grading of your project.  However, you still put thought into it.\n",
    "\n",
    "* Example of concluding paragraphs:\n",
    "\n",
    "Through our analysis of the Airbnb listings data above we identified a set of core features that drive listing prices.  First, is the geography of the listing.  We have identified some key zipcodes and towns that contribute to the price of the listing.  Going forward, we would like to identify what about geographic factors most contribute to score.  This has two motivations: one is reduce the number of features we currently have, and second is to increase our understanding of what drives listing prices in Berlin.  For example, is it income of the neighborhood, or proximity to tourist locations that most drives prices?\n",
    "\n",
    "In addition to zipcode, there are a few factors that are not related to the rental property, but rather are driven by the host, or property listing.  For example, listings that post a summary tend to demand a higher price.  This could be due to listing of a summary, or perhaps there is a lurking variable where including a listing summary is more associated with increased quality of an apartment.  "
   ]
  }
 ],
 "metadata": {
  "kernelspec": {
   "display_name": "Python 3",
   "language": "python",
   "name": "python3"
  },
  "language_info": {
   "codemirror_mode": {
    "name": "ipython",
    "version": 3
   },
   "file_extension": ".py",
   "mimetype": "text/x-python",
   "name": "python",
   "nbconvert_exporter": "python",
   "pygments_lexer": "ipython3",
   "version": "3.7.3"
  }
 },
 "nbformat": 4,
 "nbformat_minor": 2
}
