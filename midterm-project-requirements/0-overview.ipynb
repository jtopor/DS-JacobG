{
 "cells": [
  {
   "cell_type": "markdown",
   "metadata": {},
   "source": [
    "# Midterm Projects"
   ]
  },
  {
   "cell_type": "markdown",
   "metadata": {},
   "source": [
    "### Task"
   ]
  },
  {
   "cell_type": "markdown",
   "metadata": {},
   "source": [
    "> For the midterm project, choose a dataset that involves feature engineering and feature selection, to feed into a linear regression model.  The projects are due **Sunday August 4th**.\n",
    "\n",
    "Create separate .ipynb files for the following: \n",
    "\n",
    "    1. Missing Values\n",
    "    2. Feature Coercion and Generation\n",
    "    3. RFECV and RFE\n",
    "    4. Plot/Coerce Target Variable (optional)\n",
    "    5. Correlation Analysis\n",
    "    6. Final Model\n",
    "    \n",
    "As indicated above, step 4, plotting and coercing the target variable is an optional step.  If you receive low accuracy scores, performing this step will likely help your analysis going forward."
   ]
  },
  {
   "cell_type": "markdown",
   "metadata": {},
   "source": [
    "As you move through the above steps, please add a couple of sentences to explain your thoughts.  You can do this interspersed through each notebook, or at the end of the notebook.  The goal of this, is just so that I can follow your logic as you move through the steps, and to explain judgment calls that you made.\n",
    "\n",
    "Example of interspersed:\n",
    "   > The mean value of square feet occurs more often then expected.  We identify it as a missing value.\n",
    "   \n",
    "Example of at the end:\n",
    "\n",
    "> It also appeared that the mean value appeared more often than we would see in a normal distribution.  I did not identify this value as missing, but would want to explore this further in the future.  The only other missing values identified were nans."
   ]
  },
  {
   "cell_type": "markdown",
   "metadata": {},
   "source": [
    "Please reference the individual notebooks, to see additional details for how to proceed through each section."
   ]
  },
  {
   "cell_type": "code",
   "execution_count": null,
   "metadata": {},
   "outputs": [],
   "source": []
  }
 ],
 "metadata": {
  "kernelspec": {
   "display_name": "Python 3",
   "language": "python",
   "name": "python3"
  },
  "language_info": {
   "codemirror_mode": {
    "name": "ipython",
    "version": 3
   },
   "file_extension": ".py",
   "mimetype": "text/x-python",
   "name": "python",
   "nbconvert_exporter": "python",
   "pygments_lexer": "ipython3",
   "version": "3.7.3"
  }
 },
 "nbformat": 4,
 "nbformat_minor": 2
}
