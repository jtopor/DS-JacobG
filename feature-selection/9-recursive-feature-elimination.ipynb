{
 "cells": [
  {
   "cell_type": "markdown",
   "metadata": {},
   "source": [
    "# Recursive Feature Elimination"
   ]
  },
  {
   "cell_type": "markdown",
   "metadata": {},
   "source": [
    "### Introduction"
   ]
  },
  {
   "cell_type": "markdown",
   "metadata": {},
   "source": [
    "In the last lesson, we saw how by scaling our data we can place our features in the same units and then use this to assess feature importances. \n",
    "\n",
    "Now at this point we could simply determine a top number of variables to select, and then choose those that are the most important.  But how do we determine the number of features we should select?  What we often find is that we can achieve the similar levels of accurracy even when we drastically reduce the number of features.  If we can achieve this relatively high accuracy with a lower number of features, we should.\n",
    "\n",
    "A lower number of features makes our models simpler to understand, less prone to variance, and also reduces the risk of multicollinearity."
   ]
  },
  {
   "cell_type": "markdown",
   "metadata": {},
   "source": [
    "### Welcome RFE"
   ]
  },
  {
   "cell_type": "markdown",
   "metadata": {},
   "source": [
    "One way to determine how much our score is reduced by limiting the number of features is simply to try decreasing numbers of features, and see how much the score decreases with one fewer feature.  Now, how do we know which feature to eliminate at each level - well we try eliminating each potential features, and we remove the feature where our model performs the best.\n",
    "\n",
    "In code, our procedure looks something like the following:"
   ]
  },
  {
   "cell_type": "markdown",
   "metadata": {},
   "source": [
    "```python\n",
    "top_score = 0\n",
    "top_model = None\n",
    "column_to_reduce = None\n",
    "for column in X.columns:\n",
    "    model = LinearModel()\n",
    "    X_with_dropped = X.drop(columns = [column])\n",
    "    model.fit(X_with_dropped)\n",
    "    current_score = model.score(X_with_dropped, y)\n",
    "    if current_score > top_score:\n",
    "        top_model = model\n",
    "        top_score = current_score\n",
    "        column_to_reduce = column\n",
    "```"
   ]
  },
  {
   "cell_type": "markdown",
   "metadata": {},
   "source": [
    "So with above code will find the column to eliminate simply by trying to remove each feature and calculating the score.  We can do this with SKlearn with the following code."
   ]
  },
  {
   "cell_type": "code",
   "execution_count": 119,
   "metadata": {},
   "outputs": [
    {
     "name": "stderr",
     "output_type": "stream",
     "text": [
      "/anaconda3/lib/python3.7/site-packages/ipykernel_launcher.py:7: DataConversionWarning:\n",
      "\n",
      "Data with input dtype bool, uint8, int64, float64 were all converted to float64 by the scale function.\n",
      "\n",
      "/anaconda3/lib/python3.7/site-packages/sklearn/preprocessing/data.py:180: UserWarning:\n",
      "\n",
      "Numerical issues were encountered when centering the data and might not be solved. Dataset may contain too large values. You may need to prescale your features.\n",
      "\n"
     ]
    }
   ],
   "source": [
    "from sklearn.model_selection import train_test_split\n",
    "from sklearn.preprocessing import scale\n",
    "\n",
    "y = df.price\n",
    "X = df.drop(columns = ['price'])\n",
    "\n",
    "scaled_X = scale(X)\n",
    "scaled_y = scale(y)\n",
    "\n",
    "X_train, X_test, y_train, y_test = train_test_split(scaled_X, scaled_y, test_size=0.33, random_state=32)\n",
    "\n",
    "from sklearn.feature_selection import RFE"
   ]
  },
  {
   "cell_type": "code",
   "execution_count": 81,
   "metadata": {},
   "outputs": [],
   "source": [
    "estimator = LinearRegression(n_jobs=-1)\n",
    "rfe = RFE(estimator, 100)\n",
    "X_train_rfe = rfe.fit_transform(X_train,y_train)\n",
    "X_test_rfe = rfe.transform(X_test)\n",
    "\n",
    "estimator.fit(X_train_rfe,y_train)\n",
    "score = estimator.score(X_test_rfe,y_test)"
   ]
  },
  {
   "cell_type": "markdown",
   "metadata": {},
   "source": [
    "So above we initialize the model or estimator on which we will be performing RFE.  Then we initialize `RFE` with the model, and the number of features to select.  Then, we call `fit_transform` to select the set of features that produce the highest score.  Once selected we fit a model with that number of selectors.  "
   ]
  },
  {
   "cell_type": "markdown",
   "metadata": {},
   "source": [
    "### The number of features to select"
   ]
  },
  {
   "cell_type": "markdown",
   "metadata": {},
   "source": [
    "Now to discover the number of features select, we simply perform the above procedure with decreasing numbers of features, and store the respective scores.  Then we can find the model that has a relatively few number of features, but still a relatively high score.  Let's see this in action."
   ]
  },
  {
   "cell_type": "code",
   "execution_count": 122,
   "metadata": {},
   "outputs": [],
   "source": [
    "from sklearn.feature_selection import RFE\n",
    "selectors = []\n",
    "\n",
    "for idx in list(range(10, 300, 10))[::-1]:\n",
    "    estimator = LinearRegression(n_jobs=-1)\n",
    "    rfe = RFE(estimator, idx, step=1)\n",
    "    X_train_rfe = rfe.fit_transform(X_train,y_train)\n",
    "    X_test_rfe = rfe.transform(X_test)\n",
    "    \n",
    "    estimator.fit(X_train_rfe,y_train)\n",
    "    score = estimator.score(X_test_rfe,y_test)\n",
    "    selectors.append(np.array([rfe, score, idx]))"
   ]
  },
  {
   "cell_type": "markdown",
   "metadata": {},
   "source": [
    "We can then plot the number of features and the respective scores with the following code."
   ]
  },
  {
   "cell_type": "code",
   "execution_count": 121,
   "metadata": {},
   "outputs": [
    {
     "data": {
      "application/vnd.plotly.v1+json": {
       "config": {
        "linkText": "Export to plot.ly",
        "plotlyServerURL": "https://plot.ly",
        "showLink": false
       },
       "data": [
        {
         "mode": "markers",
         "name": "data",
         "text": [],
         "type": "scatter",
         "uid": "131ec9fb-34ce-48b1-bca1-3df080aacfa3",
         "x": [
          290,
          280,
          270,
          260,
          250,
          240,
          230,
          220,
          210,
          200,
          190,
          180,
          170,
          160,
          150,
          140,
          130,
          120,
          110,
          100,
          90,
          80
         ],
         "y": [
          -0.406008435396509,
          -0.40587425731250737,
          -0.4062809940920411,
          -0.4206779961487339,
          -0.40649945057890546,
          -0.4109025820320642,
          -0.40563249510249677,
          -0.4059893449157148,
          -0.40543296048197064,
          -0.4086858669940914,
          -0.40539000816184667,
          -0.4058816209195335,
          -0.4136126148460728,
          -0.4019536772238812,
          -0.3966709856673414,
          -0.398577265112559,
          -0.3979409675168122,
          -0.3954856388371597,
          -0.3917731797916568,
          -0.3918376259386882,
          -0.3840738661242862,
          -0.3819568705118048
         ]
        }
       ],
       "layout": {
        "autosize": true,
        "xaxis": {
         "autorange": true,
         "range": [
          66.81106471816284,
          303.1889352818372
         ],
         "type": "linear"
        },
        "yaxis": {
         "autorange": true,
         "range": [
          -0.4235142569437956,
          -0.37912060971674316
         ],
         "type": "linear"
        }
       }
      },
      "image/png": "[encoded data removed]",
      "text/html": [
       "<div>\n",
       "        \n",
       "        \n",
       "            <div id=\"0292f7da-f44f-46b9-9704-07c05f78ef51\" class=\"plotly-graph-div\" style=\"height:525px; width:100%;\"></div>\n",
       "            <script type=\"text/javascript\">\n",
       "                require([\"plotly\"], function(Plotly) {\n",
       "                    window.PLOTLYENV=window.PLOTLYENV || {};\n",
       "                    window.PLOTLYENV.BASE_URL='https://plot.ly';\n",
       "                    \n",
       "                if (document.getElementById(\"0292f7da-f44f-46b9-9704-07c05f78ef51\")) {\n",
       "                    Plotly.newPlot(\n",
       "                        '0292f7da-f44f-46b9-9704-07c05f78ef51',\n",
       "                        [{\"mode\": \"markers\", \"name\": \"data\", \"text\": [], \"type\": \"scatter\", \"uid\": \"131ec9fb-34ce-48b1-bca1-3df080aacfa3\", \"x\": [290, 280, 270, 260, 250, 240, 230, 220, 210, 200, 190, 180, 170, 160, 150, 140, 130, 120, 110, 100, 90, 80], \"y\": [-0.406008435396509, -0.40587425731250737, -0.4062809940920411, -0.4206779961487339, -0.40649945057890546, -0.4109025820320642, -0.40563249510249677, -0.4059893449157148, -0.40543296048197064, -0.4086858669940914, -0.40539000816184667, -0.4058816209195335, -0.4136126148460728, -0.4019536772238812, -0.3966709856673414, -0.398577265112559, -0.3979409675168122, -0.3954856388371597, -0.3917731797916568, -0.3918376259386882, -0.3840738661242862, -0.3819568705118048]}],\n",
       "                        {},\n",
       "                        {\"showLink\": false, \"linkText\": \"Export to plot.ly\", \"plotlyServerURL\": \"https://plot.ly\", \"responsive\": true}\n",
       "                    ).then(function(){\n",
       "                            \n",
       "var gd = document.getElementById('0292f7da-f44f-46b9-9704-07c05f78ef51');\n",
       "var x = new MutationObserver(function (mutations, observer) {{\n",
       "        var display = window.getComputedStyle(gd).display;\n",
       "        if (!display || display === 'none') {{\n",
       "            console.log([gd, 'removed!']);\n",
       "            Plotly.purge(gd);\n",
       "            observer.disconnect();\n",
       "        }}\n",
       "}});\n",
       "\n",
       "// Listen for the removal of the full notebook cells\n",
       "var notebookContainer = gd.closest('#notebook-container');\n",
       "if (notebookContainer) {{\n",
       "    x.observe(notebookContainer, {childList: true});\n",
       "}}\n",
       "\n",
       "// Listen for the clearing of the current output cell\n",
       "var outputEl = gd.closest('.output');\n",
       "if (outputEl) {{\n",
       "    x.observe(outputEl, {childList: true});\n",
       "}}\n",
       "\n",
       "                        })\n",
       "                };\n",
       "                });\n",
       "            </script>\n",
       "        </div>"
      ]
     },
     "metadata": {},
     "output_type": "display_data"
    }
   ],
   "source": [
    "wrapped_selectors = np.array(selectors)\n",
    "scores = wrapped_selectors[:, 1]\n",
    "num_features = wrapped_selectors[:, -1]\n",
    "\n",
    "from graph import plot, trace_values\n",
    "trace = trace_values(num_features, scores)\n",
    "plot([trace])"
   ]
  },
  {
   "cell_type": "markdown",
   "metadata": {},
   "source": [
    "This is a fairly typical pattern in feature selection.  We can continue to reduce the number of variables without taking a significant hit to the accuracy.  The reason is because of multicollinearity.  Many of the variables we eliminate are correlated with other included variables, so we can safely remove them as other features are capturing similar effects.\n",
    "\n",
    "In the above graph, we start to decreases in the accuracy when we include fewer than seventy two features.  Once we have that number, we can perform RFE again."
   ]
  },
  {
   "cell_type": "code",
   "execution_count": 105,
   "metadata": {},
   "outputs": [],
   "source": [
    "from sklearn.feature_selection import RFE\n",
    "second_selectors = []\n",
    "\n",
    "for idx in list(range(62, 72, 1))[::-1]:\n",
    "    estimator = LinearRegression(n_jobs=-1)\n",
    "    rfe = RFE(estimator, idx, step=1)\n",
    "    X_train_rfe = rfe.fit_transform(X_train,y_train)\n",
    "    X_test_rfe = rfe.transform(X_test)\n",
    "    \n",
    "    estimator.fit(X_train_rfe,y_train)\n",
    "    score = estimator.score(X_test_rfe,y_test)\n",
    "    second_selectors.append(np.array([estimator, score, idx]))"
   ]
  },
  {
   "cell_type": "code",
   "execution_count": 106,
   "metadata": {},
   "outputs": [],
   "source": [
    "wrapped_second_selectors = np.array(second_selectors)"
   ]
  },
  {
   "cell_type": "code",
   "execution_count": 107,
   "metadata": {},
   "outputs": [
    {
     "data": {
      "application/vnd.plotly.v1+json": {
       "config": {
        "linkText": "Export to plot.ly",
        "plotlyServerURL": "https://plot.ly",
        "showLink": false
       },
       "data": [
        {
         "mode": "markers",
         "name": "data",
         "text": [],
         "type": "scatter",
         "uid": "60095dae-6062-4800-ae08-3fa45cdb9b30",
         "x": [
          71,
          70,
          69,
          68,
          67,
          66,
          65,
          64,
          63,
          62
         ],
         "y": [
          0.10395943997320023,
          0.10521953650402172,
          0.10558859173816026,
          0.10458719984620102,
          0.1025998141200235,
          0.10322144884927531,
          0.09761488929687545,
          0.09765272673745784,
          0.09762548883549704,
          0.08705492188124841
         ]
        }
       ],
       "layout": {
        "autosize": true,
        "xaxis": {
         "autorange": true,
         "range": [
          61.434759916492695,
          71.5652400835073
         ],
         "type": "linear"
        },
        "yaxis": {
         "autorange": true,
         "range": [
          0.08569736007644277,
          0.10694615354296591
         ],
         "type": "linear"
        }
       }
      },
      "image/png": "[encoded data removed]",
      "text/html": [
       "<div>\n",
       "        \n",
       "        \n",
       "            <div id=\"c4917825-bd70-4cda-9241-cee8ee349b0c\" class=\"plotly-graph-div\" style=\"height:525px; width:100%;\"></div>\n",
       "            <script type=\"text/javascript\">\n",
       "                require([\"plotly\"], function(Plotly) {\n",
       "                    window.PLOTLYENV=window.PLOTLYENV || {};\n",
       "                    window.PLOTLYENV.BASE_URL='https://plot.ly';\n",
       "                    \n",
       "                if (document.getElementById(\"c4917825-bd70-4cda-9241-cee8ee349b0c\")) {\n",
       "                    Plotly.newPlot(\n",
       "                        'c4917825-bd70-4cda-9241-cee8ee349b0c',\n",
       "                        [{\"mode\": \"markers\", \"name\": \"data\", \"text\": [], \"type\": \"scatter\", \"uid\": \"60095dae-6062-4800-ae08-3fa45cdb9b30\", \"x\": [71, 70, 69, 68, 67, 66, 65, 64, 63, 62], \"y\": [0.10395943997320023, 0.10521953650402172, 0.10558859173816026, 0.10458719984620102, 0.1025998141200235, 0.10322144884927531, 0.09761488929687545, 0.09765272673745784, 0.09762548883549704, 0.08705492188124841]}],\n",
       "                        {},\n",
       "                        {\"showLink\": false, \"linkText\": \"Export to plot.ly\", \"plotlyServerURL\": \"https://plot.ly\", \"responsive\": true}\n",
       "                    ).then(function(){\n",
       "                            \n",
       "var gd = document.getElementById('c4917825-bd70-4cda-9241-cee8ee349b0c');\n",
       "var x = new MutationObserver(function (mutations, observer) {{\n",
       "        var display = window.getComputedStyle(gd).display;\n",
       "        if (!display || display === 'none') {{\n",
       "            console.log([gd, 'removed!']);\n",
       "            Plotly.purge(gd);\n",
       "            observer.disconnect();\n",
       "        }}\n",
       "}});\n",
       "\n",
       "// Listen for the removal of the full notebook cells\n",
       "var notebookContainer = gd.closest('#notebook-container');\n",
       "if (notebookContainer) {{\n",
       "    x.observe(notebookContainer, {childList: true});\n",
       "}}\n",
       "\n",
       "// Listen for the clearing of the current output cell\n",
       "var outputEl = gd.closest('.output');\n",
       "if (outputEl) {{\n",
       "    x.observe(outputEl, {childList: true});\n",
       "}}\n",
       "\n",
       "                        })\n",
       "                };\n",
       "                });\n",
       "            </script>\n",
       "        </div>"
      ]
     },
     "metadata": {},
     "output_type": "display_data"
    }
   ],
   "source": [
    "second_scores = wrapped_second_selectors[:, 1]\n",
    "second_num_features = wrapped_second_selectors[:, -1]\n",
    "from graph import plot, trace_values\n",
    "second_trace = trace_values(second_num_features, second_scores)\n",
    "plot([second_trace])"
   ]
  },
  {
   "cell_type": "markdown",
   "metadata": {},
   "source": [
    "So there are a range of values we could choose, but 66 features looks like a good number.  Of course, we do not know which 66 features to choose so let's peform RFE one more time."
   ]
  },
  {
   "cell_type": "code",
   "execution_count": 114,
   "metadata": {},
   "outputs": [],
   "source": [
    "X_train, X_test, y_train, y_test = train_test_split(scaled_X, scaled_y, test_size=0.33, random_state=12)\n",
    "\n",
    "from sklearn.feature_selection import RFE\n",
    "\n",
    "estimator = LinearRegression(n_jobs=-1)\n",
    "rfe = RFE(estimator, 72)\n",
    "X_train_rfe = rfe.fit_transform(X_train,y_train)\n",
    "X_test_rfe = rfe.transform(X_test)\n",
    "\n",
    "estimator.fit(X_train_rfe,y_train)\n",
    "score = estimator.score(X_test_rfe,y_test)\n",
    "\n"
   ]
  },
  {
   "cell_type": "code",
   "execution_count": 115,
   "metadata": {},
   "outputs": [
    {
     "data": {
      "text/plain": [
       "-1.0528943001301674e+22"
      ]
     },
     "execution_count": 115,
     "metadata": {},
     "output_type": "execute_result"
    }
   ],
   "source": [
    "score"
   ]
  },
  {
   "cell_type": "code",
   "execution_count": null,
   "metadata": {},
   "outputs": [],
   "source": [
    "df[rfe.support_]"
   ]
  },
  {
   "cell_type": "markdown",
   "metadata": {},
   "source": [
    "### Resources\n",
    "\n",
    "[RFE with SKlearn](http://dkopczyk.quantee.co.uk/feature-selection/)"
   ]
  },
  {
   "cell_type": "code",
   "execution_count": 101,
   "metadata": {},
   "outputs": [],
   "source": [
    "scores = np.array([0.10097759841393361, 0.10191972493819035, 0.10135680176932282,\n",
    "       0.10099887374310201, 0.0995283827854836, 0.10164602124821909,\n",
    "       0.10185040361745068, 0.09909343221950562, 0.10103955590394964,\n",
    "       0.1002106426076651, 0.10167720263657076, 0.1017794777284714,\n",
    "       0.1015010556582191, 0.1016578124934443, 0.10307998244297856,\n",
    "       0.10474940481461736, 0.09820434912163023, 0.08270090311692779,\n",
    "       0.10391246857547032, 0.04210991520998042, 0.10472065120973895,\n",
    "       0.10662682600263629, 0.10499978826086476, 0.08705492188124841,\n",
    "       0.07290111484745121, -0.01979071540694166, -0.007982807497467936,\n",
    "       -0.010600100154615655, -0.013441402860033369,\n",
    "       -0.013926788917525634], dtype=object)\n",
    "num_feats = np.array([292, 282, 272, 262, 252, 242, 232, 222, 212, 202, 192, 182, 172,\n",
    "       162, 152, 142, 132, 122, 112, 102, 92, 82, 72, 62, 52, 42, 32, 22,\n",
    "       12, 2], dtype=object)"
   ]
  }
 ],
 "metadata": {
  "kernelspec": {
   "display_name": "Python 3",
   "language": "python",
   "name": "python3"
  },
  "language_info": {
   "codemirror_mode": {
    "name": "ipython",
    "version": 3
   },
   "file_extension": ".py",
   "mimetype": "text/x-python",
   "name": "python",
   "nbconvert_exporter": "python",
   "pygments_lexer": "ipython3",
   "version": "3.7.3"
  }
 },
 "nbformat": 4,
 "nbformat_minor": 2
}
