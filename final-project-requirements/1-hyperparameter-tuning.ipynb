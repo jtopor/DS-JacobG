{
 "cells": [
  {
   "cell_type": "markdown",
   "metadata": {},
   "source": [
    "# Final Projects"
   ]
  },
  {
   "cell_type": "markdown",
   "metadata": {},
   "source": [
    "### A. Hyperparameter Tuning"
   ]
  },
  {
   "cell_type": "markdown",
   "metadata": {},
   "source": [
    "We looked at three hyperparameters to tune:\n",
    "\n",
    "1. Feature Sampling \n",
    "2. Number of Estimators\n",
    "3. Min Samples Leaf"
   ]
  },
  {
   "cell_type": "markdown",
   "metadata": {},
   "source": [
    "Show how you use each of these parameters by evaluating against your validation set.  Do so by both plotting accuracy scores of the hyperparameters against the validation set, and with a sentence or two about how you made your decision."
   ]
  },
  {
   "cell_type": "markdown",
   "metadata": {},
   "source": [
    "A couple of notes: "
   ]
  },
  {
   "cell_type": "markdown",
   "metadata": {},
   "source": [
    "* Remember that there is an interaction between feature sampling and number of estimators.  Feature sampling increases the variance of the estimators, which tends to lead to a greater benefit of adding additional estimators\n",
    "\n",
    "* For choosing the number of estimators, we can initially work with a lower number than we will in our final model.  The goal initially is to choose a number so that we can model relatively quickly, yet still find the general trend in the data."
   ]
  }
 ],
 "metadata": {
  "kernelspec": {
   "display_name": "Python 3",
   "language": "python",
   "name": "python3"
  },
  "language_info": {
   "codemirror_mode": {
    "name": "ipython",
    "version": 3
   },
   "file_extension": ".py",
   "mimetype": "text/x-python",
   "name": "python",
   "nbconvert_exporter": "python",
   "pygments_lexer": "ipython3",
   "version": "3.7.3"
  }
 },
 "nbformat": 4,
 "nbformat_minor": 2
}
