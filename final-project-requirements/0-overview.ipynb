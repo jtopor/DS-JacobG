{
 "cells": [
  {
   "cell_type": "markdown",
   "metadata": {},
   "source": [
    "# Final Projects"
   ]
  },
  {
   "cell_type": "markdown",
   "metadata": {},
   "source": [
    "### Task"
   ]
  },
  {
   "cell_type": "markdown",
   "metadata": {},
   "source": [
    "> For the final project, use your previous dataset to model a random forest.  The projects are due **Sunday August 18th**.\n",
    "\n",
    "Create separate .ipynb files for the following: \n",
    "\n",
    "    1. Hyperparameter Tuning\n",
    "    2. Feature Selection \n",
    "        * via eli5 permutation importance\n",
    "        * via correlation analysis\n",
    "    3. Focused Feature Engineering \n",
    "        * Order Categorical Variables \n",
    "        * Remove time components from random forest\n",
    "    4. Model Interpretation\n",
    "    5. Final Conclusions\n",
    "        * Compare random forest modeling with linear regression modeling"
   ]
  },
  {
   "cell_type": "markdown",
   "metadata": {},
   "source": [
    "As you move through the above steps, please add a couple of sentences to explain your thoughts.  You can do this interspersed through each notebook, or at the end of the notebook.  The goal of this, is just so that I can follow your logic as you move through the steps, and to explain judgment calls that you made.\n",
    "\n",
    "Example of interspersed:\n",
    "   > The mean value of square feet occurs more often then expected.  We identify it as a missing value.\n",
    "   \n",
    "Example of at the end:\n",
    "\n",
    "> It also appeared that the mean value appeared more often than we would see in a normal distribution.  I did not identify this value as missing, but would want to explore this further in the future.  The only other missing values identified were nans."
   ]
  },
  {
   "cell_type": "markdown",
   "metadata": {},
   "source": [
    "Please reference the individual notebooks, to see additional details for how to proceed through each section."
   ]
  },
  {
   "cell_type": "code",
   "execution_count": null,
   "metadata": {},
   "outputs": [],
   "source": []
  }
 ],
 "metadata": {
  "kernelspec": {
   "display_name": "Python 3",
   "language": "python",
   "name": "python3"
  },
  "language_info": {
   "codemirror_mode": {
    "name": "ipython",
    "version": 3
   },
   "file_extension": ".py",
   "mimetype": "text/x-python",
   "name": "python",
   "nbconvert_exporter": "python",
   "pygments_lexer": "ipython3",
   "version": "3.7.3"
  }
 },
 "nbformat": 4,
 "nbformat_minor": 2
}
