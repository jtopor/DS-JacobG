{
 "cells": [
  {
   "cell_type": "markdown",
   "metadata": {},
   "source": [
    "### Final Model"
   ]
  },
  {
   "cell_type": "markdown",
   "metadata": {},
   "source": [
    "1. Evaluate and Draw Conclusions from Random Forest Model"
   ]
  },
  {
   "cell_type": "markdown",
   "metadata": {},
   "source": [
    "* Once you have coerced and generated features, and selected features, it is time to fit the model, and score the model against a holdout set. "
   ]
  },
  {
   "cell_type": "markdown",
   "metadata": {},
   "source": [
    "After scoring the model, write (2 - 3) paragraphs where you interpret the model (by feature scores, and grouping features like geographic features, or datetimes), identify assumptions of your work (eg. omitted variable bias, multicollinearity), answer the \"so what\" of your analysis, and propose next steps.\n",
    "\n",
    "> This so far, has not been a major focus of the class, so will not be a heavily factored into the grading of your project.  However, you still should put thought into it."
   ]
  },
  {
   "cell_type": "markdown",
   "metadata": {},
   "source": [
    "2. Compare against linear regression"
   ]
  },
  {
   "cell_type": "markdown",
   "metadata": {},
   "source": [
    "How did the random forest model compare to the linear regression model?  \n",
    "* If there is a significant difference in accuracy, what would account for this?  \n",
    "* Is there a significant difference in the feature importances found?\n",
    "\n",
    "* Imagine that your company/stakeholder now needs to decide which type of model to rely on -- a linear regression model, or a random forests model.  Which of the two models do you trust more?  Why?\n",
    "\n",
    "(You can use Google to see what others say on the topic.  A couple of paragraphs on these topics is fine, but place it in the context of your model.)"
   ]
  }
 ],
 "metadata": {
  "kernelspec": {
   "display_name": "Python 3",
   "language": "python",
   "name": "python3"
  },
  "language_info": {
   "codemirror_mode": {
    "name": "ipython",
    "version": 3
   },
   "file_extension": ".py",
   "mimetype": "text/x-python",
   "name": "python",
   "nbconvert_exporter": "python",
   "pygments_lexer": "ipython3",
   "version": "3.7.3"
  }
 },
 "nbformat": 4,
 "nbformat_minor": 2
}
