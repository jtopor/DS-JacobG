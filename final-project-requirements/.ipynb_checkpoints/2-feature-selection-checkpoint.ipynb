{
 "cells": [
  {
   "cell_type": "markdown",
   "metadata": {},
   "source": [
    "# Final Projects"
   ]
  },
  {
   "cell_type": "markdown",
   "metadata": {},
   "source": [
    "## B. Feature Selection"
   ]
  },
  {
   "cell_type": "markdown",
   "metadata": {},
   "source": [
    "1. Feature importances"
   ]
  },
  {
   "cell_type": "markdown",
   "metadata": {},
   "source": [
    "We saw two ways to select our features, the `sklearn` library's `feature_importances_` method, and the `eli5` library's [permutation importance](https://eli5.readthedocs.io/en/latest/blackbox/permutation_importance.html) method.  \n",
    "\n",
    "Use both of these, compare their performance on the validation set, and choose one to use going forward."
   ]
  },
  {
   "cell_type": "markdown",
   "metadata": {},
   "source": [
    "2. Removing Time Components"
   ]
  },
  {
   "cell_type": "markdown",
   "metadata": {},
   "source": [
    "* Are there time components in our features that we can replace with other features? (We'll talk about this in the next class - you can skip this for now)."
   ]
  },
  {
   "cell_type": "markdown",
   "metadata": {},
   "source": [
    "3. Identifying Data Leakage"
   ]
  },
  {
   "cell_type": "markdown",
   "metadata": {},
   "source": [
    "* Data leakage is when our model identifies uses features that we would not have at the time of making a decision.  Essentially, we are detecting an effect, rather than a cause of our target variable.\n",
    "\n",
    "We saw an example of this in our Airbnb, when we saw that \"a predictor\" of a listing price is the length of time the listing is on the market.  If we are a trying to determine what contributes to the price of a listing, the length of time it's on market likely does not have an effect on listing price (we wouldn't expect our unsuccessful owners to raise their price).  In addition, when trying to predict how much money a property will be listed for, we won't know the length of time that listing will end up being on the market.\n",
    "\n",
    "This is data leakage.  We are making predictions based on data that we won't have available when we need to make our predictions going forward."
   ]
  },
  {
   "cell_type": "markdown",
   "metadata": {},
   "source": [
    "* One thing to note is that data leakage requires you to think of which information this stakeholder is important to.  Is it a property owner?  A customer?  When are they making their decision, and what information would they have at the time of the decision?  "
   ]
  },
  {
   "cell_type": "markdown",
   "metadata": {},
   "source": [
    "3. Correlation Analysis\n",
    "    * Even after our initial feature selection, we still may have highly correlated features.  This can obscure our ability to identify the impact certain features, and make it more difficult to prioritize our features to further clean up the data in these features.\n",
    "    * Use correlation analysis to remove highly correlated features"
   ]
  },
  {
   "cell_type": "markdown",
   "metadata": {},
   "source": [
    "1. Use \"rank\" scatter plots to identify highly correlated features\n",
    "2. Use spearman correlations to identify highly correlated features\n",
    "3. Use a dendrogram to identify highly correlated features"
   ]
  },
  {
   "cell_type": "markdown",
   "metadata": {},
   "source": [
    "* Try removing those highly correlated features, and see if you can do so without a significant hit to your model."
   ]
  }
 ],
 "metadata": {
  "kernelspec": {
   "display_name": "Python 3",
   "language": "python",
   "name": "python3"
  },
  "language_info": {
   "codemirror_mode": {
    "name": "ipython",
    "version": 3
   },
   "file_extension": ".py",
   "mimetype": "text/x-python",
   "name": "python",
   "nbconvert_exporter": "python",
   "pygments_lexer": "ipython3",
   "version": "3.7.3"
  }
 },
 "nbformat": 4,
 "nbformat_minor": 2
}
