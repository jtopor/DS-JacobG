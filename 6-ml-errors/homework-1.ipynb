{
 "cells": [
  {
   "cell_type": "markdown",
   "metadata": {},
   "source": [
    "# Source of Error "
   ]
  },
  {
   "cell_type": "markdown",
   "metadata": {},
   "source": [
    "In this lesson, we'll begin practice some of the techniques for building a simulation dataset.  \n",
    "\n",
    "The NYTimes is considering hiring us to predict the popularity of their articles.  We'd like to give them a sense of the predictions that we could make even before we get our hands on their data.  To do so we construct a sample dataset."
   ]
  },
  {
   "cell_type": "markdown",
   "metadata": {},
   "source": [
    "### Constructing the dataset"
   ]
  },
  {
   "cell_type": "markdown",
   "metadata": {},
   "source": [
    "Declare a method called `build_feature` that returns a feature vector.  The method takes an argument of `size`, which specifies the length, or dimension, of the vector returned.  It also has a second argument of `going_from` which specifies the range of the vector."
   ]
  },
  {
   "cell_type": "code",
   "execution_count": 212,
   "metadata": {},
   "outputs": [],
   "source": [
    "import numpy as np \n",
    "# use numpy's randint feature\n",
    "\n",
    "def build_feature(size = 50, going_from = [0, 100]):\n",
    "    pass"
   ]
  },
  {
   "cell_type": "code",
   "execution_count": 213,
   "metadata": {},
   "outputs": [],
   "source": [
    "np.random.seed(1)\n",
    "word_counts = build_feature(50, [300, 1000])"
   ]
  },
  {
   "cell_type": "code",
   "execution_count": null,
   "metadata": {},
   "outputs": [],
   "source": [
    "len(word_counts)\n",
    "# 50"
   ]
  },
  {
   "cell_type": "code",
   "execution_count": 74,
   "metadata": {},
   "outputs": [
    {
     "data": {
      "text/plain": [
       "(50, 1)"
      ]
     },
     "execution_count": 74,
     "metadata": {},
     "output_type": "execute_result"
    }
   ],
   "source": [
    "word_counts.shape\n",
    "# (50, 1)\n",
    "# The feature word_counts should return a vector of rows"
   ]
  },
  {
   "cell_type": "code",
   "execution_count": 75,
   "metadata": {},
   "outputs": [
    {
     "data": {
      "text/plain": [
       "array([[337],\n",
       "       [535],\n",
       "       [372]])"
      ]
     },
     "execution_count": 75,
     "metadata": {},
     "output_type": "execute_result"
    }
   ],
   "source": [
    "word_counts[0:3]\n",
    "# array([[337],\n",
    "#        [535],\n",
    "#        [372]])"
   ]
  },
  {
   "cell_type": "markdown",
   "metadata": {},
   "source": [
    "### Building the targets variables"
   ]
  },
  {
   "cell_type": "markdown",
   "metadata": {},
   "source": [
    "Now, imagine that we are told that the true model, which determines the number of clicks on a news article, is the following: \n",
    "\n",
    "$y = \\theta_1x_1 + \\theta_0$\n",
    "\n",
    "where:"
   ]
  },
  {
   "cell_type": "markdown",
   "metadata": {},
   "source": [
    "* $y$ is a vector that contains the actual clicks on each article\n",
    "* $x_1$ is a vector of word counts of each article and \n",
    "* $\\theta_0$ represents the baseline number of clicks that an article receives (regardless of the word count)"
   ]
  },
  {
   "cell_type": "markdown",
   "metadata": {},
   "source": [
    "We are also provided the following:\n",
    "\n",
    "* $\\theta_1 = 75$\n",
    "* $\\theta_0 = 10000$"
   ]
  },
  {
   "cell_type": "markdown",
   "metadata": {},
   "source": [
    "Using the `word_counts` vector that we constructed above, and the defined parameter values, create our vector of target variables given the true model defined above. "
   ]
  },
  {
   "cell_type": "code",
   "execution_count": 48,
   "metadata": {},
   "outputs": [],
   "source": [
    "# Hint: break the problem into steps, examine the hstack method"
   ]
  },
  {
   "cell_type": "code",
   "execution_count": 215,
   "metadata": {},
   "outputs": [],
   "source": [
    "biases = None\n",
    "features = None"
   ]
  },
  {
   "cell_type": "code",
   "execution_count": 216,
   "metadata": {},
   "outputs": [],
   "source": [
    "params = None"
   ]
  },
  {
   "cell_type": "code",
   "execution_count": 217,
   "metadata": {},
   "outputs": [],
   "source": [
    "clicks = None"
   ]
  },
  {
   "cell_type": "code",
   "execution_count": 79,
   "metadata": {},
   "outputs": [
    {
     "data": {
      "text/plain": [
       "array([35275., 50125., 37900., 80875., 43300., 42175., 76225., 70600.,\n",
       "       61750., 53575., 45850., 53200., 51550., 59275., 67600., 51400.,\n",
       "       69250., 82600., 62350., 74650., 76000., 48625., 70225., 68350.,\n",
       "       38950., 43075., 61975., 33025., 56425., 72550., 55975., 70975.,\n",
       "       56200., 48175., 52300., 81475., 79525., 64825., 79975., 66700.,\n",
       "       73150., 37825., 61525., 66550., 74575., 55975., 71125., 69775.,\n",
       "       35725., 76600.])"
      ]
     },
     "execution_count": 79,
     "metadata": {},
     "output_type": "execute_result"
    }
   ],
   "source": [
    "clicks\n",
    "# array([35275., 50125., 37900., 80875., 43300., 42175., 76225., 70600.,\n",
    "#        61750., 53575., 45850., 53200., 51550., 59275., 67600., 51400.,\n",
    "#        69250., 82600., 62350., 74650., 76000., 48625., 70225., 68350.,\n",
    "#        38950., 43075., 61975., 33025., 56425., 72550.])"
   ]
  },
  {
   "cell_type": "markdown",
   "metadata": {},
   "source": [
    "### Training our model"
   ]
  },
  {
   "cell_type": "markdown",
   "metadata": {},
   "source": [
    "Now that we have our dataset, let's train our model on the constructed dataset.  Assign the model to the variable `model`."
   ]
  },
  {
   "cell_type": "code",
   "execution_count": 80,
   "metadata": {},
   "outputs": [],
   "source": [
    "# remember to use set fit_intercept=False"
   ]
  },
  {
   "cell_type": "code",
   "execution_count": 180,
   "metadata": {},
   "outputs": [
    {
     "data": {
      "text/plain": [
       "array([   75., 10000.])"
      ]
     },
     "execution_count": 180,
     "metadata": {},
     "output_type": "execute_result"
    }
   ],
   "source": [
    "model = None\n",
    "\n",
    "model.coef_\n",
    "# array([   75., 10000.])"
   ]
  },
  {
   "cell_type": "markdown",
   "metadata": {},
   "source": [
    "### Exploring irreducible error"
   ]
  },
  {
   "cell_type": "markdown",
   "metadata": {},
   "source": [
    "At this point we now have trained a model to discover the true feature parameters of the underlying model.  Let's now consider, more realistically, that the underlying model takes the following form."
   ]
  },
  {
   "cell_type": "markdown",
   "metadata": {},
   "source": [
    "$y = \\theta_1x_1 + \\theta_0 + \\epsilon_i$\n",
    "\n",
    "Where \n",
    "* $\\theta_1 = 75$\n",
    "* $\\theta_0 = 10000$"
   ]
  },
  {
   "cell_type": "markdown",
   "metadata": {},
   "source": [
    "Use numpy's `randint` function to create a vector of random errors that range between positive and negative 8000.  Use this to create a new vector of target variables called `noisy_clicks` of length 50."
   ]
  },
  {
   "cell_type": "code",
   "execution_count": 218,
   "metadata": {},
   "outputs": [],
   "source": [
    "np.random.seed(1)\n",
    "noisy_clicks = None"
   ]
  },
  {
   "cell_type": "code",
   "execution_count": 119,
   "metadata": {},
   "outputs": [
    {
     "data": {
      "text/plain": [
       "array([40624., 42360., 42072., 78067., 36205., 45130., 76038., 65495.,\n",
       "       58806., 45719.])"
      ]
     },
     "execution_count": 119,
     "metadata": {},
     "output_type": "execute_result"
    }
   ],
   "source": [
    "noisy_clicks[0:10]\n",
    "# array([40624., 42360., 42072., 78067., 36205., 45130., 76038., 65495.,\n",
    "#        58806., 45719.])"
   ]
  },
  {
   "cell_type": "code",
   "execution_count": 118,
   "metadata": {},
   "outputs": [
    {
     "data": {
      "application/vnd.plotly.v1+json": {
       "config": {
        "linkText": "Export to plot.ly",
        "plotlyServerURL": "https://plot.ly",
        "showLink": false
       },
       "data": [
        {
         "mode": "markers",
         "name": "data",
         "text": [],
         "type": "scatter",
         "uid": "1e287706-f125-4c50-8e9e-031887072d44",
         "x": [
          337,
          535,
          372,
          945,
          444,
          429,
          883,
          808,
          690,
          581,
          478,
          576,
          554,
          657,
          768,
          552,
          790,
          968,
          698,
          862,
          880,
          515,
          803,
          778,
          386,
          441,
          693,
          307,
          619,
          834,
          613,
          813,
          616,
          509,
          564,
          953,
          927,
          731,
          933,
          756,
          842,
          371,
          687,
          754,
          861,
          613,
          815,
          797,
          343,
          888
         ],
         "y": [
          40624,
          42360,
          42072,
          78067,
          36205,
          45130,
          76038,
          65495,
          58806,
          45719,
          42075,
          52951,
          54539,
          66119,
          63062,
          59041,
          70644,
          79996,
          59724,
          79295,
          70962,
          43141,
          77468,
          68794,
          34512,
          39839,
          62068,
          31567,
          48987,
          75370,
          63550,
          71126,
          51249,
          40928,
          54019,
          85217,
          73413,
          57935,
          78260,
          64821,
          80903,
          30856,
          57940,
          61427,
          70181,
          57504,
          65686,
          75983,
          40329,
          83145
         ]
        }
       ],
       "layout": {
        "autosize": true,
        "xaxis": {
         "autorange": true,
         "range": [
          265.52347660970133,
          1009.4765233902987
         ],
         "type": "linear"
        },
        "yaxis": {
         "autorange": true,
         "range": [
          26874.14331210191,
          89198.8566878981
         ],
         "type": "linear"
        }
       }
      },
      "image/png": "[encoded data removed]",
      "text/html": [
       "<div>\n",
       "        \n",
       "        \n",
       "            <div id=\"5bbcc207-4341-405c-a618-7be1071799fb\" class=\"plotly-graph-div\" style=\"height:525px; width:100%;\"></div>\n",
       "            <script type=\"text/javascript\">\n",
       "                require([\"plotly\"], function(Plotly) {\n",
       "                    window.PLOTLYENV=window.PLOTLYENV || {};\n",
       "                    window.PLOTLYENV.BASE_URL='https://plot.ly';\n",
       "                    \n",
       "                if (document.getElementById(\"5bbcc207-4341-405c-a618-7be1071799fb\")) {\n",
       "                    Plotly.newPlot(\n",
       "                        '5bbcc207-4341-405c-a618-7be1071799fb',\n",
       "                        [{\"mode\": \"markers\", \"name\": \"data\", \"text\": [], \"type\": \"scatter\", \"uid\": \"1e287706-f125-4c50-8e9e-031887072d44\", \"x\": [337, 535, 372, 945, 444, 429, 883, 808, 690, 581, 478, 576, 554, 657, 768, 552, 790, 968, 698, 862, 880, 515, 803, 778, 386, 441, 693, 307, 619, 834, 613, 813, 616, 509, 564, 953, 927, 731, 933, 756, 842, 371, 687, 754, 861, 613, 815, 797, 343, 888], \"y\": [40624.0, 42360.0, 42072.0, 78067.0, 36205.0, 45130.0, 76038.0, 65495.0, 58806.0, 45719.0, 42075.0, 52951.0, 54539.0, 66119.0, 63062.0, 59041.0, 70644.0, 79996.0, 59724.0, 79295.0, 70962.0, 43141.0, 77468.0, 68794.0, 34512.0, 39839.0, 62068.0, 31567.0, 48987.0, 75370.0, 63550.0, 71126.0, 51249.0, 40928.0, 54019.0, 85217.0, 73413.0, 57935.0, 78260.0, 64821.0, 80903.0, 30856.0, 57940.0, 61427.0, 70181.0, 57504.0, 65686.0, 75983.0, 40329.0, 83145.0]}],\n",
       "                        {},\n",
       "                        {\"showLink\": false, \"linkText\": \"Export to plot.ly\", \"plotlyServerURL\": \"https://plot.ly\", \"responsive\": true}\n",
       "                    ).then(function(){\n",
       "                            \n",
       "var gd = document.getElementById('5bbcc207-4341-405c-a618-7be1071799fb');\n",
       "var x = new MutationObserver(function (mutations, observer) {{\n",
       "        var display = window.getComputedStyle(gd).display;\n",
       "        if (!display || display === 'none') {{\n",
       "            console.log([gd, 'removed!']);\n",
       "            Plotly.purge(gd);\n",
       "            observer.disconnect();\n",
       "        }}\n",
       "}});\n",
       "\n",
       "// Listen for the removal of the full notebook cells\n",
       "var notebookContainer = gd.closest('#notebook-container');\n",
       "if (notebookContainer) {{\n",
       "    x.observe(notebookContainer, {childList: true});\n",
       "}}\n",
       "\n",
       "// Listen for the clearing of the current output cell\n",
       "var outputEl = gd.closest('.output');\n",
       "if (outputEl) {{\n",
       "    x.observe(outputEl, {childList: true});\n",
       "}}\n",
       "\n",
       "                        })\n",
       "                };\n",
       "                });\n",
       "            </script>\n",
       "        </div>"
      ]
     },
     "metadata": {},
     "output_type": "display_data"
    }
   ],
   "source": [
    "# if you have the plotly jupyter lab extension loaded, try the following\n",
    "from graph import trace_values, plot\n",
    "noisy_customers_trace = trace_values(word_counts.reshape(50), noisy_clicks)\n",
    "plot([noisy_customers_trace])"
   ]
  },
  {
   "cell_type": "markdown",
   "metadata": {},
   "source": [
    "Now we have a model that has discovered the parameters of our model:\n",
    "\n",
    "$y = \\theta_1x_1 + \\theta_0 + \\epsilon_i$\n",
    "\n",
    "Where \n",
    "* $\\theta_1 = 75$\n",
    "* $\\theta_0 = 10000$"
   ]
  },
  {
   "cell_type": "markdown",
   "metadata": {},
   "source": [
    "Still, that $\\epsilon_i$ represents our irreducible error, that is inherent to the future outcomes we try to predict."
   ]
  },
  {
   "cell_type": "markdown",
   "metadata": {},
   "source": [
    "Let's see this.  Once again, these are the parameters of our model."
   ]
  },
  {
   "cell_type": "code",
   "execution_count": 123,
   "metadata": {},
   "outputs": [
    {
     "data": {
      "text/plain": [
       "array([   75., 10000.])"
      ]
     },
     "execution_count": 123,
     "metadata": {},
     "output_type": "execute_result"
    }
   ],
   "source": [
    "model.coef_\n",
    "# array([   75., 10000.])"
   ]
  },
  {
   "cell_type": "markdown",
   "metadata": {},
   "source": [
    "Use these parameters along with our features to predict our data.  Use the sklearn's `predict` function in the linear regression class to make the predictions. "
   ]
  },
  {
   "cell_type": "code",
   "execution_count": 133,
   "metadata": {},
   "outputs": [
    {
     "data": {
      "text/plain": [
       "array([35275., 50125., 37900., 80875., 43300., 42175., 76225., 70600.,\n",
       "       61750., 53575., 45850., 53200., 51550., 59275., 67600., 51400.,\n",
       "       69250., 82600., 62350., 74650., 76000., 48625., 70225., 68350.,\n",
       "       38950., 43075., 61975., 33025., 56425., 72550., 55975., 70975.,\n",
       "       56200., 48175., 52300., 81475., 79525., 64825., 79975., 66700.,\n",
       "       73150., 37825., 61525., 66550., 74575., 55975., 71125., 69775.,\n",
       "       35725., 76600.])"
      ]
     },
     "execution_count": 133,
     "metadata": {},
     "output_type": "execute_result"
    }
   ],
   "source": [
    "predictions = model.predict(features)\n",
    "predictions\n",
    "# array([35275., 50125., 37900., 80875., 43300., 42175., 76225., 70600.,\n",
    "#        61750., 53575., 45850., 53200., 51550., 59275., 67600., 51400.,\n",
    "#        69250., 82600., 62350., 74650., 76000., 48625., 70225., 68350.,\n",
    "#        38950., 43075., 61975., 33025., 56425., 72550., 55975., 70975.,\n",
    "#        56200., 48175., 52300., 81475., 79525., 64825., 79975., 66700.,\n",
    "#        73150., 37825., 61525., 66550., 74575., 55975., 71125., 69775.,\n",
    "#        35725., 76600.])"
   ]
  },
  {
   "cell_type": "markdown",
   "metadata": {},
   "source": [
    "> Show that these predictions are the same that we get from matrix vector multiplication: $h(x) = X \\cdot \\theta$"
   ]
  },
  {
   "cell_type": "code",
   "execution_count": 219,
   "metadata": {},
   "outputs": [],
   "source": [
    "matrix_vector_predictions = None\n",
    "matrix_vector_predictions\n",
    "# array([35275., 50125., 37900., 80875., 43300., 42175., 76225., 70600.,\n",
    "#        61750., 53575., 45850., 53200., 51550., 59275., 67600., 51400.,\n",
    "#        69250., 82600., 62350., 74650., 76000., 48625., 70225., 68350.,\n",
    "#        38950., 43075., 61975., 33025., 56425., 72550., 55975., 70975.,\n",
    "#        56200., 48175., 52300., 81475., 79525., 64825., 79975., 66700.,\n",
    "#        73150., 37825., 61525., 66550., 74575., 55975., 71125., 69775.,\n",
    "#        35725., 76600.])"
   ]
  },
  {
   "cell_type": "markdown",
   "metadata": {},
   "source": [
    "Ok, now let's use linear algebra to calculate the RSS of our model applied to predicting our noisy_clicks."
   ]
  },
  {
   "cell_type": "code",
   "execution_count": 226,
   "metadata": {},
   "outputs": [],
   "source": [
    "actual_minus_expected = None\n",
    "actual_minus_expected\n",
    "# array([ 5349., -7765.,  4172., -2808., -7095.,  2955.,  -187., -5105.,\n",
    "#        -2944., -7856., -3775.,  -249.,  2989.,  6844., -4538.,  7641.,\n",
    "#         1394., -2604., -2626.,  4645., -5038., -5484.,  7243.,   444.,\n",
    "#        -4438., -3236.,    93., -1458., -7438.,  2820.,  7575.,   151.,\n",
    "#        -4951., -7247.,  1719.,  3742., -6112., -6890., -1715., -1879.,\n",
    "#         7753., -6969., -3585., -5123., -4394.,  1529., -5439.,  6208.,\n",
    "#         4604.,  6545.])"
   ]
  },
  {
   "cell_type": "markdown",
   "metadata": {},
   "source": [
    "Now calculate rss using matrix algebra."
   ]
  },
  {
   "cell_type": "code",
   "execution_count": 220,
   "metadata": {},
   "outputs": [],
   "source": [
    "rss = None\n",
    "rss\n",
    "# 1203968931.0"
   ]
  },
  {
   "cell_type": "markdown",
   "metadata": {},
   "source": [
    "From here we can calculate or mean squared error, simply by dividing the residual sum of squares by the number of predictions."
   ]
  },
  {
   "cell_type": "code",
   "execution_count": 165,
   "metadata": {},
   "outputs": [
    {
     "data": {
      "text/plain": [
       "24079378.62"
      ]
     },
     "execution_count": 165,
     "metadata": {},
     "output_type": "execute_result"
    }
   ],
   "source": [
    "mse = (rss/len(predictions))\n",
    "mse\n",
    "\n",
    "# 24079378.62"
   ]
  },
  {
   "cell_type": "markdown",
   "metadata": {},
   "source": [
    "Of course, we could have just used the sklearn library to calculate this for us."
   ]
  },
  {
   "cell_type": "code",
   "execution_count": 192,
   "metadata": {},
   "outputs": [
    {
     "data": {
      "text/plain": [
       "24079378.619999994"
      ]
     },
     "execution_count": 192,
     "metadata": {},
     "output_type": "execute_result"
    }
   ],
   "source": [
    "from sklearn.metrics import mean_squared_error\n",
    "mean_squared_error(noisy_clicks, predictions)\n",
    "# 24079378.619999994"
   ]
  },
  {
   "cell_type": "markdown",
   "metadata": {},
   "source": [
    "Now if you remember RSS, RSS squares the error and then adds up these errors.  So, with mean squared error, we now just take the average of RSS.  But it's still hard to interpret squared error.  A more understandable metric is the root mean squared error, which is just the square root of the average squared error.  We'll calculate it below. "
   ]
  },
  {
   "cell_type": "code",
   "execution_count": 193,
   "metadata": {},
   "outputs": [
    {
     "data": {
      "text/plain": [
       "4907.074344250349"
      ]
     },
     "execution_count": 193,
     "metadata": {},
     "output_type": "execute_result"
    }
   ],
   "source": [
    "from math import sqrt\n",
    "sqrt(mean_squared_error(predictions, noisy_clicks))"
   ]
  },
  {
   "cell_type": "markdown",
   "metadata": {},
   "source": [
    "So this says that on average, we are off by 4907 when we try to predict the noisy clicks.  This makes sense, as this is close to the average of our irreducible error."
   ]
  },
  {
   "cell_type": "code",
   "execution_count": 175,
   "metadata": {},
   "outputs": [
    {
     "data": {
      "text/plain": [
       "4307.26"
      ]
     },
     "execution_count": 175,
     "metadata": {},
     "output_type": "execute_result"
    }
   ],
   "source": [
    "np.average(abs(errors))"
   ]
  },
  {
   "cell_type": "markdown",
   "metadata": {},
   "source": [
    "## Working with Variance"
   ]
  },
  {
   "cell_type": "markdown",
   "metadata": {},
   "source": [
    "Now produce a model that not only suffers from irreducible error, but also suffers from variance.  Use the `noisy_clicks` target variables and the previously defined `features` to produce this model.  Assign it to the variable `model_with_variance`.\n"
   ]
  },
  {
   "cell_type": "code",
   "execution_count": 221,
   "metadata": {},
   "outputs": [],
   "source": [
    "model_with_variance = None"
   ]
  },
  {
   "cell_type": "code",
   "execution_count": 182,
   "metadata": {},
   "outputs": [
    {
     "data": {
      "text/plain": [
       "array([  76.53450394, 8119.10474367])"
      ]
     },
     "execution_count": 182,
     "metadata": {},
     "output_type": "execute_result"
    }
   ],
   "source": [
    "\n",
    "model_with_variance.coef_\n",
    "# array([  76.53450394, 8119.10474367])"
   ]
  },
  {
   "cell_type": "markdown",
   "metadata": {},
   "source": [
    "So comparing with our first model, we see that our parameters no longer match the underlying values."
   ]
  },
  {
   "cell_type": "code",
   "execution_count": 183,
   "metadata": {},
   "outputs": [
    {
     "data": {
      "text/plain": [
       "array([   75., 10000.])"
      ]
     },
     "execution_count": 183,
     "metadata": {},
     "output_type": "execute_result"
    }
   ],
   "source": [
    "model.coef_"
   ]
  },
  {
   "cell_type": "markdown",
   "metadata": {},
   "source": [
    "### Predicting with our models"
   ]
  },
  {
   "cell_type": "markdown",
   "metadata": {},
   "source": [
    "We now have two models - one with irreducible error, and another that suffers from irreducible error and variance.  Let's compare these models."
   ]
  },
  {
   "cell_type": "markdown",
   "metadata": {},
   "source": [
    "We already calculated the root mean squared error for our first model.  We saw that it fits the training set perfectly (or close to it)."
   ]
  },
  {
   "cell_type": "code",
   "execution_count": 185,
   "metadata": {},
   "outputs": [
    {
     "data": {
      "text/plain": [
       "9.203439287865707e-12"
      ]
     },
     "execution_count": 185,
     "metadata": {},
     "output_type": "execute_result"
    }
   ],
   "source": [
    "from math import sqrt\n",
    "sqrt(mean_squared_error(predictions, clicks))"
   ]
  },
  {
   "cell_type": "markdown",
   "metadata": {},
   "source": [
    "Now let's generate a new vector of target variables to see how our original model and our model with variance performs.  To do so, we'll first generate a new set of errors."
   ]
  },
  {
   "cell_type": "code",
   "execution_count": 222,
   "metadata": {},
   "outputs": [
    {
     "data": {
      "text/plain": [
       "array([-6711,  -707,  4815, -6656,  3633,  -709,  1372,  2201, -3171,\n",
       "       -6480,  2141,  2234,  1224,  1289, -1600,  6826,  4328,  2742,\n",
       "        7780,  6707, -2352, -3548, -7761, -5557, -5898, -4584,  3627,\n",
       "        -710, -7426,  7905,  5512,    36,  1166,  6001,  3318,  4365,\n",
       "        7813,  4301, -1101, -7591, -6594, -7347, -4068, -6634,  4062,\n",
       "        7006,   281, -5300,  -511,  6879])"
      ]
     },
     "execution_count": 222,
     "metadata": {},
     "output_type": "execute_result"
    }
   ],
   "source": [
    "np.random.seed(10)\n",
    "new_errors = np.random.randint(-8000, 8000, 50)\n",
    "new_errors"
   ]
  },
  {
   "cell_type": "markdown",
   "metadata": {},
   "source": [
    "Now use the new errors to generate a new vector of observed data.  Data that neither model been trained with. "
   ]
  },
  {
   "cell_type": "code",
   "execution_count": 223,
   "metadata": {},
   "outputs": [],
   "source": [
    "new_noisy_clicks = None"
   ]
  },
  {
   "cell_type": "markdown",
   "metadata": {},
   "source": [
    "Now calculate the root mean squared error for both the original model and the model with variance on this dataset."
   ]
  },
  {
   "cell_type": "code",
   "execution_count": 224,
   "metadata": {},
   "outputs": [],
   "source": [
    "rmse_new_noisy_clicks_original_model = None\n",
    "rmse_new_noisy_clicks_original_model\n",
    "# 4921.427288907152"
   ]
  },
  {
   "cell_type": "code",
   "execution_count": 225,
   "metadata": {},
   "outputs": [],
   "source": [
    "rmse_new_noisy_clicks_variance_model = None\n",
    "rmse_new_noisy_clicks_variance_model\n",
    "# 4984.958232759586"
   ]
  },
  {
   "cell_type": "markdown",
   "metadata": {},
   "source": [
    "Notice that our model did worse on this new dataset than it did with the data that it trained on."
   ]
  },
  {
   "cell_type": "code",
   "execution_count": 211,
   "metadata": {},
   "outputs": [
    {
     "data": {
      "text/plain": [
       "4824.297529089475"
      ]
     },
     "execution_count": 211,
     "metadata": {},
     "output_type": "execute_result"
    }
   ],
   "source": [
    "from math import sqrt\n",
    "sqrt(mean_squared_error(noisy_clicks, variance_predictions))"
   ]
  },
  {
   "cell_type": "markdown",
   "metadata": {},
   "source": [
    "This is generally the case.  When we train the data, our linear regression model is trying to fit to the training data.  And thus it finds parameters that match some of the randomness in the training data.  However, because this randomness is not replicated in future data, it generally performs less well on data it has not seen.  When seeing how well our model will perform, we want to see how well it performs on data it has not trained on, as this better simulates how the model will perform in production."
   ]
  },
  {
   "cell_type": "markdown",
   "metadata": {},
   "source": [
    "### Summary"
   ]
  },
  {
   "cell_type": "markdown",
   "metadata": {},
   "source": [
    "Great job!  We used this lesson to review our teachings in linear algebra and numpy.  We also used it to develop our understanding of types of error: both variance and irreducible error.  We saw that if we only assess how well a model performs on the training set, this performance likely will not generalize to future data as our model has likely overfit to the training set.  To remedy this, we should assess how well a model performs on data it has not trained on."
   ]
  }
 ],
 "metadata": {
  "kernelspec": {
   "display_name": "Python 3",
   "language": "python",
   "name": "python3"
  },
  "language_info": {
   "codemirror_mode": {
    "name": "ipython",
    "version": 3
   },
   "file_extension": ".py",
   "mimetype": "text/x-python",
   "name": "python",
   "nbconvert_exporter": "python",
   "pygments_lexer": "ipython3",
   "version": "3.7.3"
  }
 },
 "nbformat": 4,
 "nbformat_minor": 2
}
