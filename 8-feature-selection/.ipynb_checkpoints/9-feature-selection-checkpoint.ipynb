{
 "cells": [
  {
   "cell_type": "code",
   "execution_count": 1,
   "metadata": {},
   "outputs": [],
   "source": [
    "import pandas as pd"
   ]
  },
  {
   "cell_type": "code",
   "execution_count": 11,
   "metadata": {},
   "outputs": [],
   "source": [
    "import json\n",
    "with open('types.json', 'r') as f:\n",
    "    data_types = json.load(f)"
   ]
  },
  {
   "cell_type": "code",
   "execution_count": 10,
   "metadata": {},
   "outputs": [],
   "source": [
    "df = pd.read_feather('featherdata.feather')"
   ]
  },
  {
   "cell_type": "code",
   "execution_count": 12,
   "metadata": {},
   "outputs": [],
   "source": [
    "df = df.astype(data_types)"
   ]
  },
  {
   "cell_type": "code",
   "execution_count": 58,
   "metadata": {},
   "outputs": [],
   "source": [
    "from missing_values import some_nans, nas_sorted\n",
    "\n",
    "def impute_means(df):\n",
    "    nan_cols = some_nans(df)\n",
    "    col_means = df[nan_cols].mean()\n",
    "    imputed_df = df.fillna(col_means)\n",
    "    return imputed_df\n",
    "\n",
    "# find columns with nas, impute means"
   ]
  },
  {
   "cell_type": "code",
   "execution_count": 39,
   "metadata": {},
   "outputs": [],
   "source": [
    "col_means = df[nan_cols].mean()"
   ]
  },
  {
   "cell_type": "code",
   "execution_count": 44,
   "metadata": {},
   "outputs": [],
   "source": [
    "imputed_df = df.fillna(col_means)"
   ]
  },
  {
   "cell_type": "code",
   "execution_count": 45,
   "metadata": {},
   "outputs": [
    {
     "data": {
      "text/plain": [
       "Index([], dtype='object')"
      ]
     },
     "execution_count": 45,
     "metadata": {},
     "output_type": "execute_result"
    }
   ],
   "source": [
    "some_nans(imputed_df)"
   ]
  },
  {
   "cell_type": "code",
   "execution_count": 61,
   "metadata": {},
   "outputs": [
    {
     "data": {
      "text/plain": [
       "host_acceptance_rate        22552\n",
       "jurisdiction_names          22552\n",
       "last_reviewDayofweek_6.0        0\n",
       "dtype: int64"
      ]
     },
     "execution_count": 61,
     "metadata": {},
     "output_type": "execute_result"
    }
   ],
   "source": [
    "nas_sorted(imputed_df)[0:3]"
   ]
  },
  {
   "cell_type": "code",
   "execution_count": 63,
   "metadata": {},
   "outputs": [],
   "source": [
    "cleaned_df = imputed_df.drop(columns = ['host_acceptance_rate', 'jurisdiction_names'])"
   ]
  },
  {
   "cell_type": "code",
   "execution_count": 64,
   "metadata": {},
   "outputs": [],
   "source": [
    "y = cleaned_df.price"
   ]
  },
  {
   "cell_type": "code",
   "execution_count": 437,
   "metadata": {},
   "outputs": [],
   "source": [
    "X = cleaned_df.drop(columns=['price'])"
   ]
  },
  {
   "cell_type": "code",
   "execution_count": 66,
   "metadata": {},
   "outputs": [
    {
     "data": {
      "text/plain": [
       "Index([], dtype='object')"
      ]
     },
     "execution_count": 66,
     "metadata": {},
     "output_type": "execute_result"
    }
   ],
   "source": [
    "some_nans(imputed_df)"
   ]
  },
  {
   "cell_type": "code",
   "execution_count": 67,
   "metadata": {},
   "outputs": [],
   "source": [
    "from sklearn.linear_model import LinearRegression\n",
    "from sklearn.model_selection import train_test_split"
   ]
  },
  {
   "cell_type": "code",
   "execution_count": 69,
   "metadata": {},
   "outputs": [
    {
     "data": {
      "text/plain": [
       "False"
      ]
     },
     "execution_count": 69,
     "metadata": {},
     "output_type": "execute_result"
    }
   ],
   "source": [
    "cleaned_df.isnull().values.any()"
   ]
  },
  {
   "cell_type": "code",
   "execution_count": 126,
   "metadata": {},
   "outputs": [],
   "source": [
    "from sklearn import preprocessing"
   ]
  },
  {
   "cell_type": "code",
   "execution_count": 439,
   "metadata": {},
   "outputs": [
    {
     "name": "stderr",
     "output_type": "stream",
     "text": [
      "/anaconda3/lib/python3.7/site-packages/ipykernel_launcher.py:1: DataConversionWarning: Data with input dtype bool, uint8, int64, float64 were all converted to float64 by the scale function.\n",
      "  \"\"\"Entry point for launching an IPython kernel.\n",
      "/anaconda3/lib/python3.7/site-packages/sklearn/preprocessing/data.py:180: UserWarning: Numerical issues were encountered when centering the data and might not be solved. Dataset may contain too large values. You may need to prescale your features.\n",
      "  warnings.warn(\"Numerical issues were encountered \"\n"
     ]
    }
   ],
   "source": [
    "scaled_features = preprocessing.scale(X)"
   ]
  },
  {
   "cell_type": "code",
   "execution_count": 440,
   "metadata": {},
   "outputs": [],
   "source": [
    "X_train, X_test, y_train, y_test = train_test_split(scaled_features, y, test_size=0.33, random_state=42)"
   ]
  },
  {
   "cell_type": "markdown",
   "metadata": {},
   "source": [
    "### Feature Selection"
   ]
  },
  {
   "cell_type": "code",
   "execution_count": 130,
   "metadata": {},
   "outputs": [
    {
     "data": {
      "text/plain": [
       "LinearRegression(copy_X=True, fit_intercept=True, n_jobs=None,\n",
       "         normalize=False)"
      ]
     },
     "execution_count": 130,
     "metadata": {},
     "output_type": "execute_result"
    }
   ],
   "source": [
    "estimator = LinearRegression()\n",
    "estimator.fit(X_train, y_train)"
   ]
  },
  {
   "cell_type": "code",
   "execution_count": 132,
   "metadata": {},
   "outputs": [],
   "source": [
    "coefs = estimator.coef_"
   ]
  },
  {
   "cell_type": "code",
   "execution_count": 134,
   "metadata": {},
   "outputs": [],
   "source": [
    "cols = X.columns"
   ]
  },
  {
   "cell_type": "code",
   "execution_count": 138,
   "metadata": {},
   "outputs": [],
   "source": [
    "coefs_cols = np.stack((coefs, cols)).T"
   ]
  },
  {
   "cell_type": "code",
   "execution_count": 143,
   "metadata": {},
   "outputs": [],
   "source": [
    "coefs_cols.sort(axis = 0)"
   ]
  },
  {
   "cell_type": "code",
   "execution_count": 153,
   "metadata": {},
   "outputs": [],
   "source": [
    "# coefs_cols[:60]\n",
    "# coefs_cols[-40:]"
   ]
  },
  {
   "cell_type": "code",
   "execution_count": 151,
   "metadata": {},
   "outputs": [],
   "source": [
    "import sklearn\n",
    "p_vals = sklearn.feature_selection.f_regression(X_train, y_train, center=True)[-1]"
   ]
  },
  {
   "cell_type": "code",
   "execution_count": 165,
   "metadata": {},
   "outputs": [],
   "source": [
    "p_val_cols = np.stack((p_vals, cols)).T"
   ]
  },
  {
   "cell_type": "code",
   "execution_count": 168,
   "metadata": {},
   "outputs": [],
   "source": [
    "threshold_ps = p_val_cols[p_val_cols[:, 0] < .05]"
   ]
  },
  {
   "cell_type": "code",
   "execution_count": 169,
   "metadata": {},
   "outputs": [],
   "source": [
    "threshold_ps.sort(axis = 0)"
   ]
  },
  {
   "cell_type": "code",
   "execution_count": 172,
   "metadata": {},
   "outputs": [],
   "source": [
    "threshold_cols = threshold_ps[:, -1]"
   ]
  },
  {
   "cell_type": "code",
   "execution_count": 175,
   "metadata": {},
   "outputs": [],
   "source": [
    "top_hundred_X =  X[threshold_cols]"
   ]
  },
  {
   "cell_type": "code",
   "execution_count": 176,
   "metadata": {},
   "outputs": [
    {
     "name": "stderr",
     "output_type": "stream",
     "text": [
      "/anaconda3/lib/python3.7/site-packages/ipykernel_launcher.py:1: DataConversionWarning: Data with input dtype bool, uint8, int64, float64 were all converted to float64 by the scale function.\n",
      "  \"\"\"Entry point for launching an IPython kernel.\n",
      "/anaconda3/lib/python3.7/site-packages/sklearn/preprocessing/data.py:180: UserWarning: Numerical issues were encountered when centering the data and might not be solved. Dataset may contain too large values. You may need to prescale your features.\n",
      "  warnings.warn(\"Numerical issues were encountered \"\n"
     ]
    }
   ],
   "source": [
    "scaled_top_hundred_X = preprocessing.scale(top_hundred_X)"
   ]
  },
  {
   "cell_type": "code",
   "execution_count": 177,
   "metadata": {},
   "outputs": [],
   "source": [
    "X_train_top, X_test_top, y_train, y_test = train_test_split(scaled_top_hundred_X, y, test_size=0.33, random_state=42)"
   ]
  },
  {
   "cell_type": "code",
   "execution_count": 178,
   "metadata": {},
   "outputs": [
    {
     "data": {
      "text/plain": [
       "LinearRegression(copy_X=True, fit_intercept=True, n_jobs=None,\n",
       "         normalize=False)"
      ]
     },
     "execution_count": 178,
     "metadata": {},
     "output_type": "execute_result"
    }
   ],
   "source": [
    "\n",
    "# scaled_features = preprocessing.scale(X)\n",
    "estimator = LinearRegression()\n",
    "# estimator.fit(X_train, y_train)\n",
    "estimator.fit(X_train_top, y_train)"
   ]
  },
  {
   "cell_type": "code",
   "execution_count": 179,
   "metadata": {},
   "outputs": [
    {
     "data": {
      "text/plain": [
       "0.16963907886754037"
      ]
     },
     "execution_count": 179,
     "metadata": {},
     "output_type": "execute_result"
    }
   ],
   "source": [
    "estimator.score(X_train_top, y_train)"
   ]
  },
  {
   "cell_type": "markdown",
   "metadata": {},
   "source": [
    "## Using RFE"
   ]
  },
  {
   "cell_type": "code",
   "execution_count": 181,
   "metadata": {},
   "outputs": [],
   "source": [
    "from sklearn.feature_selection import RFE"
   ]
  },
  {
   "cell_type": "code",
   "execution_count": 259,
   "metadata": {},
   "outputs": [],
   "source": [
    "X_train, X_test, y_train, y_test = train_test_split(scaled_features, y, test_size=0.33, random_state=42)\n",
    "\n",
    "# 6:38"
   ]
  },
  {
   "cell_type": "code",
   "execution_count": 260,
   "metadata": {},
   "outputs": [
    {
     "data": {
      "text/plain": [
       "[(LinearRegression(copy_X=True, fit_intercept=True, n_jobs=-1, normalize=False),\n",
       "  0.10076530257057671,\n",
       "  292),\n",
       " (LinearRegression(copy_X=True, fit_intercept=True, n_jobs=-1, normalize=False),\n",
       "  0.10235048809212934,\n",
       "  282),\n",
       " (LinearRegression(copy_X=True, fit_intercept=True, n_jobs=-1, normalize=False),\n",
       "  0.10042859826085493,\n",
       "  272),\n",
       " (LinearRegression(copy_X=True, fit_intercept=True, n_jobs=-1, normalize=False),\n",
       "  0.10249942317834858,\n",
       "  262),\n",
       " (LinearRegression(copy_X=True, fit_intercept=True, n_jobs=-1, normalize=False),\n",
       "  0.1017775061397078,\n",
       "  252),\n",
       " (LinearRegression(copy_X=True, fit_intercept=True, n_jobs=-1, normalize=False),\n",
       "  0.10210962926812306,\n",
       "  242),\n",
       " (LinearRegression(copy_X=True, fit_intercept=True, n_jobs=-1, normalize=False),\n",
       "  0.1015417985139625,\n",
       "  232),\n",
       " (LinearRegression(copy_X=True, fit_intercept=True, n_jobs=-1, normalize=False),\n",
       "  0.10257093328868626,\n",
       "  222),\n",
       " (LinearRegression(copy_X=True, fit_intercept=True, n_jobs=-1, normalize=False),\n",
       "  0.10162415354987853,\n",
       "  212),\n",
       " (LinearRegression(copy_X=True, fit_intercept=True, n_jobs=-1, normalize=False),\n",
       "  0.10180937299745753,\n",
       "  202),\n",
       " (LinearRegression(copy_X=True, fit_intercept=True, n_jobs=-1, normalize=False),\n",
       "  0.10123574724408202,\n",
       "  192),\n",
       " (LinearRegression(copy_X=True, fit_intercept=True, n_jobs=-1, normalize=False),\n",
       "  0.10188658152220453,\n",
       "  182),\n",
       " (LinearRegression(copy_X=True, fit_intercept=True, n_jobs=-1, normalize=False),\n",
       "  0.10235836563505694,\n",
       "  172),\n",
       " (LinearRegression(copy_X=True, fit_intercept=True, n_jobs=-1, normalize=False),\n",
       "  0.10285541655395346,\n",
       "  162),\n",
       " (LinearRegression(copy_X=True, fit_intercept=True, n_jobs=-1, normalize=False),\n",
       "  0.0955728772254012,\n",
       "  152),\n",
       " (LinearRegression(copy_X=True, fit_intercept=True, n_jobs=-1, normalize=False),\n",
       "  0.10189234643626743,\n",
       "  142),\n",
       " (LinearRegression(copy_X=True, fit_intercept=True, n_jobs=-1, normalize=False),\n",
       "  0.10109522878946318,\n",
       "  132),\n",
       " (LinearRegression(copy_X=True, fit_intercept=True, n_jobs=-1, normalize=False),\n",
       "  0.10585843632763993,\n",
       "  122),\n",
       " (LinearRegression(copy_X=True, fit_intercept=True, n_jobs=-1, normalize=False),\n",
       "  0.1032331155644064,\n",
       "  112),\n",
       " (LinearRegression(copy_X=True, fit_intercept=True, n_jobs=-1, normalize=False),\n",
       "  0.09376188076931302,\n",
       "  102),\n",
       " (LinearRegression(copy_X=True, fit_intercept=True, n_jobs=-1, normalize=False),\n",
       "  0.1074774712059129,\n",
       "  92),\n",
       " (LinearRegression(copy_X=True, fit_intercept=True, n_jobs=-1, normalize=False),\n",
       "  0.08985030812552508,\n",
       "  82),\n",
       " (LinearRegression(copy_X=True, fit_intercept=True, n_jobs=-1, normalize=False),\n",
       "  0.09188753172092268,\n",
       "  72),\n",
       " (LinearRegression(copy_X=True, fit_intercept=True, n_jobs=-1, normalize=False),\n",
       "  0.07484258182192693,\n",
       "  62),\n",
       " (LinearRegression(copy_X=True, fit_intercept=True, n_jobs=-1, normalize=False),\n",
       "  -0.01890729583113515,\n",
       "  52),\n",
       " (LinearRegression(copy_X=True, fit_intercept=True, n_jobs=-1, normalize=False),\n",
       "  -0.0036614743274450134,\n",
       "  42),\n",
       " (LinearRegression(copy_X=True, fit_intercept=True, n_jobs=-1, normalize=False),\n",
       "  -0.007811537235418831,\n",
       "  32),\n",
       " (LinearRegression(copy_X=True, fit_intercept=True, n_jobs=-1, normalize=False),\n",
       "  -0.010602814095027613,\n",
       "  22),\n",
       " (LinearRegression(copy_X=True, fit_intercept=True, n_jobs=-1, normalize=False),\n",
       "  -0.013420072452374754,\n",
       "  12),\n",
       " (LinearRegression(copy_X=True, fit_intercept=True, n_jobs=-1, normalize=False),\n",
       "  -0.01392678891752519,\n",
       "  2)]"
      ]
     },
     "execution_count": 260,
     "metadata": {},
     "output_type": "execute_result"
    }
   ],
   "source": [
    "selectors = []\n",
    "for idx in list(range(2, 300, 10))[::-1]:\n",
    "    estimator = LinearRegression(n_jobs=-1)\n",
    "    rfe = RFE(estimator, idx, step=1)\n",
    "    X_train_rfe = rfe.fit_transform(X_train,y_train)\n",
    "    X_test_rfe = rfe.transform(X_test)\n",
    "    \n",
    "    estimator.fit(X_train_rfe,y_train)\n",
    "    score = estimator.score(X_test_rfe,y_test)\n",
    "    selectors.append((estimator, score, idx))\n",
    "selectors"
   ]
  },
  {
   "cell_type": "code",
   "execution_count": 265,
   "metadata": {},
   "outputs": [
    {
     "data": {
      "text/plain": [
       "[112, 102]"
      ]
     },
     "execution_count": 265,
     "metadata": {},
     "output_type": "execute_result"
    }
   ],
   "source": [
    "[idx for selector, score, idx in selectors[18:20]]"
   ]
  },
  {
   "cell_type": "code",
   "execution_count": 262,
   "metadata": {},
   "outputs": [
    {
     "data": {
      "text/plain": [
       "[212, 202, 192, 182, 172, 162, 152]"
      ]
     },
     "execution_count": 262,
     "metadata": {},
     "output_type": "execute_result"
    }
   ],
   "source": [
    "prime_selectors"
   ]
  },
  {
   "cell_type": "code",
   "execution_count": 441,
   "metadata": {},
   "outputs": [],
   "source": [
    "#score 112\n",
    "estimator = LinearRegression(n_jobs=-1)\n",
    "rfe = RFE(estimator, 112, step=1)\n",
    "X_train_rfe = rfe.fit_transform(X_train,y_train)\n",
    "X_test_rfe = rfe.transform(X_test)\n",
    "\n",
    "estimator.fit(X_train_rfe,y_train)\n",
    "score = estimator.score(X_test_rfe,y_test)"
   ]
  },
  {
   "cell_type": "code",
   "execution_count": 442,
   "metadata": {},
   "outputs": [],
   "source": [
    "features_one_twelve = X.columns[rfe.support_].to_numpy()\n",
    "coefs = estimator.coef_\n",
    "abs_coefs = abs(coefs)\n",
    "paired = np.hstack((features_one_twelve.reshape(-1, 1), coefs.reshape(-1, 1), abs_coefs.reshape(-1, 1)))\n",
    "ordered_cols = paired[paired[:, -1].argsort()][::-1]\n",
    "top_limited_cols = ordered_cols[:-42]"
   ]
  },
  {
   "cell_type": "code",
   "execution_count": 443,
   "metadata": {},
   "outputs": [
    {
     "data": {
      "text/plain": [
       "array([['last_scrapedElapsed', -875310772181544.1, 875310772181544.1],\n",
       "       ['last_scrapedDayofyear', -756847822498564.9, 756847822498564.9],\n",
       "       ['last_scrapedDay', -712202665837907.1, 712202665837907.1],\n",
       "       ['calendar_last_scrapedDayofyear', 679156956581863.9,\n",
       "        679156956581863.9],\n",
       "       ['calendar_last_scrapedDayofweek_4', 465821628667134.56,\n",
       "        465821628667134.56],\n",
       "       ['last_scrapedDayofweek_4', 456323005196894.25,\n",
       "        456323005196894.25],\n",
       "       ['calendar_last_scrapedElapsed', 411442303663550.6,\n",
       "        411442303663550.6],\n",
       "       ['calendar_last_scrapedDay', 331617366408569.75,\n",
       "        331617366408569.75],\n",
       "       ['host_picture_url_is_na', -216059351972420.84,\n",
       "        216059351972420.84],\n",
       "       ['first_review_is_na', -150403192389816.62, 150403192389816.62],\n",
       "       ['reviews_per_month_is_na', 150403192079224.3, 150403192079224.3],\n",
       "       ['host_thumbnail_url_is_na', 149237095197748.97,\n",
       "        149237095197748.97],\n",
       "       ['host_has_profile_pic_is_na', 110369855159301.81,\n",
       "        110369855159301.81],\n",
       "       ['host_since_is_na', -101586736299734.88, 101586736299734.88],\n",
       "       ['host_listings_count_is_na', -95230175429519.53,\n",
       "        95230175429519.53],\n",
       "       ['host_is_superhost_is_na', 82835756470978.44, 82835756470978.44],\n",
       "       ['host_total_listings_count', -81971282728665.89,\n",
       "        81971282728665.89],\n",
       "       ['host_listings_count', 81971282728665.19, 81971282728665.19],\n",
       "       ['host_response_time_other', 69815398930027.21, 69815398930027.21],\n",
       "       ['host_response_time_is_na', -69815398929731.164,\n",
       "        69815398929731.164],\n",
       "       ['host_identity_verified_is_na', 69253393909949.586,\n",
       "        69253393909949.586],\n",
       "       ['host_name_is_na', 53876270664181.445, 53876270664181.445],\n",
       "       ['host_total_listings_count_is_na', -52696107632045.59,\n",
       "        52696107632045.59],\n",
       "       ['neighbourhood_group_cleansed_Friedrichshain-Kreuzberg',\n",
       "        -33208267656352.43, 33208267656352.43],\n",
       "       ['neighbourhood_cleansed_Tempelhofer Vorstadt',\n",
       "        18189038386703.523, 18189038386703.523],\n",
       "       ['neighbourhood_cleansed_Frankfurter Allee Süd FK',\n",
       "        17909573677627.094, 17909573677627.094],\n",
       "       ['neighbourhood_cleansed_Frankfurter Allee Nord',\n",
       "        13734051632544.203, 13734051632544.203],\n",
       "       ['neighbourhood_cleansed_südliche Luisenstadt',\n",
       "        12872836538954.582, 12872836538954.582],\n",
       "       ['neighbourhood_cleansed_nördliche Luisenstadt',\n",
       "        11208865525017.451, 11208865525017.451],\n",
       "       ['neighbourhood_cleansed_Südliche Friedrichstadt',\n",
       "        10083104523511.836, 10083104523511.836],\n",
       "       ['neighbourhood_cleansed_Karl-Marx-Allee-Süd', 9746916842932.154,\n",
       "        9746916842932.154],\n",
       "       ['neighbourhood_cleansed_Karl-Marx-Allee-Nord', 8473656827319.64,\n",
       "        8473656827319.64],\n",
       "       ['last_reviewElapsed', 650384.89453125, 650384.89453125],\n",
       "       ['last_review_is_na', 649206.26171875, 649206.26171875],\n",
       "       ['first_reviewElapsed', -310617.1796875, 310617.1796875],\n",
       "       ['host_sinceElapsed', 69467.78515625, 69467.78515625],\n",
       "       ['host_sinceYear', -11547.505859375, 11547.505859375],\n",
       "       ['last_reviewYear', -4091.326171875, 4091.326171875],\n",
       "       ['first_reviewYear', 3371.984375, 3371.984375],\n",
       "       ['last_reviewMonth_10.0', -1664.5283203125, 1664.5283203125],\n",
       "       ['host_sinceMonth_12.0', -1364.3154296875, 1364.3154296875],\n",
       "       ['last_reviewMonth_11.0', -1254.900390625, 1254.900390625],\n",
       "       ['host_sinceMonth_11.0', -1241.9970703125, 1241.9970703125],\n",
       "       ['host_sinceMonth_10.0', -1204.3515625, 1204.3515625],\n",
       "       ['host_sinceMonth_9.0', -1151.8564453125, 1151.8564453125],\n",
       "       ['last_reviewMonth_9.0', -1147.892578125, 1147.892578125],\n",
       "       ['host_sinceMonth_8.0', -1112.31201171875, 1112.31201171875],\n",
       "       ['host_sinceMonth_7.0', -922.10107421875, 922.10107421875],\n",
       "       ['last_reviewMonth_8.0', -863.01220703125, 863.01220703125],\n",
       "       ['host_sinceMonth_6.0', -698.9056396484375, 698.9056396484375],\n",
       "       ['last_reviewMonth_12.0', -613.7177734375, 613.7177734375],\n",
       "       ['last_reviewMonth_7.0', -606.8740234375, 606.8740234375],\n",
       "       ['first_reviewDayofyear', 570.71484375, 570.71484375],\n",
       "       ['host_sinceMonth_5.0', -539.741943359375, 539.741943359375],\n",
       "       ['last_reviewMonth_6.0', -405.5673828125, 405.5673828125],\n",
       "       ['host_sinceMonth_4.0', -377.48583984375, 377.48583984375],\n",
       "       ['last_reviewMonth_5.0', -319.8916015625, 319.8916015625],\n",
       "       ['host_sinceMonth_3.0', -261.2041015625, 261.2041015625],\n",
       "       ['host_response_rate_is_na', -244.326171875, 244.326171875],\n",
       "       ['last_reviewMonth_4.0', -220.3095703125, 220.3095703125],\n",
       "       ['host_sinceDay', -151.75323486328125, 151.75323486328125],\n",
       "       ['last_reviewMonth_3.0', -133.4423828125, 133.4423828125],\n",
       "       ['host_sinceMonth_2.0', -128.4208984375, 128.4208984375],\n",
       "       ['last_reviewDay', -127.517578125, 127.517578125],\n",
       "       ['neighbourhood_Wilmersdorf', 59.66259765625, 59.66259765625],\n",
       "       ['last_reviewMonth_2.0', -58.02783203125, 58.02783203125],\n",
       "       ['host_response_time_within an hour', 55.62109375, 55.62109375],\n",
       "       ['street_is_berlin_berlin_germany', -50.61328125, 50.61328125],\n",
       "       ['cleaning_fee', 47.59717477959788, 47.59717477959788],\n",
       "       ['host_neighbourhood_Wilmersdorf', -46.5205078125, 46.5205078125]],\n",
       "      dtype=object)"
      ]
     },
     "execution_count": 443,
     "metadata": {},
     "output_type": "execute_result"
    }
   ],
   "source": [
    "top_limited_cols"
   ]
  },
  {
   "cell_type": "markdown",
   "metadata": {},
   "source": [
    "### Recombine Features that appear Linear"
   ]
  },
  {
   "cell_type": "code",
   "execution_count": 320,
   "metadata": {},
   "outputs": [],
   "source": [
    "features_limited_df = X[top_limited_cols]"
   ]
  },
  {
   "cell_type": "code",
   "execution_count": 331,
   "metadata": {},
   "outputs": [],
   "source": [
    "from_dataset_df = pd.read_csv('listings_summary.csv.zip')"
   ]
  },
  {
   "cell_type": "code",
   "execution_count": 333,
   "metadata": {},
   "outputs": [],
   "source": [
    "host_since = from_dataset_df.host_since"
   ]
  },
  {
   "cell_type": "code",
   "execution_count": 334,
   "metadata": {},
   "outputs": [],
   "source": [
    "last_review = from_dataset_df.last_review"
   ]
  },
  {
   "cell_type": "code",
   "execution_count": 335,
   "metadata": {},
   "outputs": [],
   "source": [
    "from date_lib import add_datepart"
   ]
  },
  {
   "cell_type": "code",
   "execution_count": 337,
   "metadata": {},
   "outputs": [],
   "source": [
    "add_datepart(from_dataset_df, 'host_since')"
   ]
  },
  {
   "cell_type": "code",
   "execution_count": 338,
   "metadata": {},
   "outputs": [],
   "source": [
    "add_datepart(from_dataset_df, 'last_review')"
   ]
  },
  {
   "cell_type": "code",
   "execution_count": 340,
   "metadata": {},
   "outputs": [],
   "source": [
    "last_review_month = from_dataset_df.last_reviewMonth"
   ]
  },
  {
   "cell_type": "code",
   "execution_count": 341,
   "metadata": {},
   "outputs": [],
   "source": [
    "host_sinceMonth = from_dataset_df.host_sinceMonth"
   ]
  },
  {
   "cell_type": "code",
   "execution_count": 421,
   "metadata": {},
   "outputs": [],
   "source": [
    "last_reviewMonthcols = features_limited_df.loc[:, features_limited_df.columns.map(lambda x: x.startswith('last_reviewMonth'))].columns"
   ]
  },
  {
   "cell_type": "code",
   "execution_count": 422,
   "metadata": {},
   "outputs": [
    {
     "data": {
      "text/plain": [
       "11"
      ]
     },
     "execution_count": 422,
     "metadata": {},
     "output_type": "execute_result"
    }
   ],
   "source": [
    "len(last_reviewMonthcols)"
   ]
  },
  {
   "cell_type": "code",
   "execution_count": 423,
   "metadata": {},
   "outputs": [],
   "source": [
    "hostSincecols = X.loc[:, X.columns.map(lambda x: x.startswith('host_sinceMonth'))]"
   ]
  },
  {
   "cell_type": "code",
   "execution_count": 424,
   "metadata": {},
   "outputs": [],
   "source": [
    "cols_to_remove = list(hostSincecols) +  list(last_reviewMonthcols)"
   ]
  },
  {
   "cell_type": "code",
   "execution_count": 425,
   "metadata": {},
   "outputs": [],
   "source": [
    "X_with_removed = X.drop(columns=cols_to_remove)"
   ]
  },
  {
   "cell_type": "code",
   "execution_count": 426,
   "metadata": {},
   "outputs": [
    {
     "data": {
      "text/plain": [
       "281"
      ]
     },
     "execution_count": 426,
     "metadata": {},
     "output_type": "execute_result"
    }
   ],
   "source": [
    "len(X_with_removed.columns)"
   ]
  },
  {
   "cell_type": "code",
   "execution_count": 427,
   "metadata": {},
   "outputs": [],
   "source": [
    "X_with_removed['host_sinceMonth'] = host_sinceMonth"
   ]
  },
  {
   "cell_type": "code",
   "execution_count": 428,
   "metadata": {},
   "outputs": [],
   "source": [
    "X_with_removed['last_reviewMonth'] = last_review_month"
   ]
  },
  {
   "cell_type": "code",
   "execution_count": 429,
   "metadata": {},
   "outputs": [],
   "source": [
    "imputed_with_removed = impute_means(X_with_removed)"
   ]
  },
  {
   "cell_type": "code",
   "execution_count": 430,
   "metadata": {},
   "outputs": [],
   "source": [
    "imputed_with_removed['price'] = cleaned_df.price"
   ]
  },
  {
   "cell_type": "code",
   "execution_count": 431,
   "metadata": {},
   "outputs": [],
   "source": [
    "imputed_with_removed.to_feather('imputed_with_removed')"
   ]
  },
  {
   "cell_type": "code",
   "execution_count": 432,
   "metadata": {},
   "outputs": [
    {
     "name": "stderr",
     "output_type": "stream",
     "text": [
      "/anaconda3/lib/python3.7/site-packages/ipykernel_launcher.py:1: DataConversionWarning: Data with input dtype bool, uint8, int64, float64 were all converted to float64 by the scale function.\n",
      "  \"\"\"Entry point for launching an IPython kernel.\n",
      "/anaconda3/lib/python3.7/site-packages/sklearn/preprocessing/data.py:180: UserWarning: Numerical issues were encountered when centering the data and might not be solved. Dataset may contain too large values. You may need to prescale your features.\n",
      "  warnings.warn(\"Numerical issues were encountered \"\n"
     ]
    }
   ],
   "source": [
    "scaled_features_with_removed = preprocessing.scale(imputed_with_removed)\n",
    "X_train, X_test, y_train, y_test = train_test_split(scaled_features_with_removed, y, test_size=0.33, random_state=42)"
   ]
  },
  {
   "cell_type": "code",
   "execution_count": 433,
   "metadata": {},
   "outputs": [],
   "source": [
    "#score 112\n",
    "estimator = LinearRegression(n_jobs=-1)\n",
    "rfe = RFE(estimator, 112, step=1)\n",
    "X_train_rfe = rfe.fit_transform(X_train,y_train)\n",
    "X_test_rfe = rfe.transform(X_test)\n",
    "\n",
    "estimator.fit(X_train_rfe,y_train)\n",
    "score = estimator.score(X_test_rfe,y_test)\n",
    "\n",
    "def feature_importances(df, estimator):\n",
    "    df_cols = df.columns[rfe.support_].to_numpy()\n",
    "    coefs = estimator.coef_\n",
    "    abs_coefs = abs(coefs)\n",
    "    paired = np.hstack((df_cols.reshape(-1, 1), coefs.reshape(-1, 1), abs_coefs.reshape(-1, 1)))\n",
    "    ordered_cols = paired[paired[:, -1].argsort()][::-1]\n",
    "    return ordered_cols"
   ]
  },
  {
   "cell_type": "code",
   "execution_count": 434,
   "metadata": {},
   "outputs": [],
   "source": [
    "def feature_importances(df, estimator):\n",
    "    df_cols = df.columns[rfe.support_].to_numpy()\n",
    "    coefs = estimator.coef_\n",
    "    abs_coefs = abs(coefs)\n",
    "    paired = np.hstack((df_cols.reshape(-1, 1), coefs.reshape(-1, 1), abs_coefs.reshape(-1, 1)))\n",
    "    ordered_cols = paired[paired[:, -1].argsort()][::-1]\n",
    "    return ordered_cols"
   ]
  },
  {
   "cell_type": "code",
   "execution_count": 435,
   "metadata": {},
   "outputs": [],
   "source": [
    "importances = feature_importances(imputed_with_removed,estimator)"
   ]
  },
  {
   "cell_type": "code",
   "execution_count": 436,
   "metadata": {},
   "outputs": [
    {
     "data": {
      "text/plain": [
       "array([['price', 220.2613265910614, 220.2613265910614],\n",
       "       ['host_identity_verified_is_na', -13.27420077739558,\n",
       "        13.27420077739558],\n",
       "       ['host_has_profile_pic_is_na', -13.144912210070528,\n",
       "        13.144912210070528],\n",
       "       ['host_thumbnail_url_is_na', -10.49713016843962,\n",
       "        10.49713016843962],\n",
       "       ['host_listings_count_is_na', 10.42586174177467,\n",
       "        10.42586174177467],\n",
       "       ['host_name_is_na', 8.704628490767004, 8.704628490767004],\n",
       "       ['host_total_listings_count_is_na', 7.919681003546115,\n",
       "        7.919681003546115],\n",
       "       ['host_picture_url_is_na', 7.430829168309159, 7.430829168309159],\n",
       "       ['host_is_superhost_is_na', 5.976394250805642, 5.976394250805642],\n",
       "       ['host_since_is_na', -3.5411514994905575, 3.5411514994905575],\n",
       "       ['last_scrapedDay', -1.5122195303008361, 1.5122195303008361],\n",
       "       ['reviews_per_month_is_na', -1.340751161136195, 1.340751161136195],\n",
       "       ['first_review_is_na', 1.3407511603155513, 1.3407511603155513],\n",
       "       ['neighbourhood_group_cleansed_Friedrichshain-Kreuzberg',\n",
       "        -0.9229549021216492, 0.9229549021216492],\n",
       "       ['last_scrapedDayofweek_4', 0.9076014514223738,\n",
       "        0.9076014514223738],\n",
       "       ['calendar_last_scrapedDayofweek_4', 0.9076014514223738,\n",
       "        0.9076014514223738],\n",
       "       ['calendar_last_scrapedDayofyear', -0.8662264468904892,\n",
       "        0.8662264468904892],\n",
       "       ['host_total_listings_count', -0.8480508058261648,\n",
       "        0.8480508058261648],\n",
       "       ['host_listings_count', 0.8480508058260954, 0.8480508058260954],\n",
       "       ['last_scrapedElapsed', 0.7886975790532196, 0.7886975790532196],\n",
       "       ['host_response_time_is_na', -0.7529644609940522,\n",
       "        0.7529644609940522],\n",
       "       ['host_response_time_other', 0.7529644609923754,\n",
       "        0.7529644609923754],\n",
       "       ['neighbourhood_cleansed_Tempelhofer Vorstadt',\n",
       "        0.5055265850538797, 0.5055265850538797],\n",
       "       ['neighbourhood_cleansed_Frankfurter Allee Süd FK',\n",
       "        0.49775944327260646, 0.49775944327260646],\n",
       "       ['neighbourhood_cleansed_Frankfurter Allee Nord',\n",
       "        0.3817094710093265, 0.3817094710093265],\n",
       "       ['calendar_last_scrapedDay', -0.37199192377050583,\n",
       "        0.37199192377050583],\n",
       "       ['neighbourhood_cleansed_südliche Luisenstadt',\n",
       "        0.35777378425109685, 0.35777378425109685],\n",
       "       ['neighbourhood_cleansed_nördliche Luisenstadt',\n",
       "        0.31152716216895726, 0.31152716216895726],\n",
       "       ['neighbourhood_cleansed_Südliche Friedrichstadt',\n",
       "        0.2802389707549091, 0.2802389707549091],\n",
       "       ['neighbourhood_cleansed_Karl-Marx-Allee-Süd', 0.2708953316640246,\n",
       "        0.2708953316640246],\n",
       "       ['neighbourhood_cleansed_Karl-Marx-Allee-Nord',\n",
       "        0.2355077111701256, 0.2355077111701256],\n",
       "       ['calendar_last_scrapedElapsed', 0.21629405789962153,\n",
       "        0.21629405789962153],\n",
       "       ['last_scrapedDayofyear', -0.06975663883575045,\n",
       "        0.06975663883575045],\n",
       "       ['last_reviewElapsed', -2.9171913773495817e-09,\n",
       "        2.9171913773495817e-09],\n",
       "       ['last_review_is_na', -2.9169897608483097e-09,\n",
       "        2.9169897608483097e-09],\n",
       "       ['first_reviewElapsed', -8.203953072438708e-10,\n",
       "        8.203953072438708e-10],\n",
       "       ['host_sinceElapsed', -1.9606560819340757e-10,\n",
       "        1.9606560819340757e-10],\n",
       "       ['host_sinceYear', 3.2660096849213005e-11, 3.2660096849213005e-11],\n",
       "       ['last_reviewYear', 1.8351542507843988e-11,\n",
       "        1.8351542507843988e-11],\n",
       "       ['first_reviewYear', 8.953726648996962e-12, 8.953726648996962e-12],\n",
       "       ['last_reviewDayofyear', 4.7126746949288645e-12,\n",
       "        4.7126746949288645e-12],\n",
       "       ['host_sinceDayofyear', 3.963940287121659e-12,\n",
       "        3.963940287121659e-12],\n",
       "       ['host_response_rate_is_na', 1.6182610806936282e-12,\n",
       "        1.6182610806936282e-12],\n",
       "       ['first_reviewDayofyear', 1.5898393712632242e-12,\n",
       "        1.5898393712632242e-12],\n",
       "       ['review_scores_accuracy_is_na', 1.2195799925507345e-12,\n",
       "        1.2195799925507345e-12],\n",
       "       ['review_scores_cleanliness_is_na', -8.111289417911394e-13,\n",
       "        8.111289417911394e-13],\n",
       "       ['review_scores_location_is_na', 7.476241847825804e-13,\n",
       "        7.476241847825804e-13],\n",
       "       ['review_scores_checkin_is_na', -6.306066779870889e-13,\n",
       "        6.306066779870889e-13],\n",
       "       ['review_scores_value_is_na', -6.120104423246175e-13,\n",
       "        6.120104423246175e-13],\n",
       "       ['host_sinceMonth', 5.995204332975845e-13, 5.995204332975845e-13],\n",
       "       ['review_scores_communication_is_na', 5.764277943853813e-13,\n",
       "        5.764277943853813e-13],\n",
       "       ['neighbourhood_Prenzlauer Berg', 2.788880237858393e-13,\n",
       "        2.788880237858393e-13],\n",
       "       ['review_scores_rating_is_na', -2.458588888032409e-13,\n",
       "        2.458588888032409e-13],\n",
       "       ['neighbourhood_cleansed_other', -2.353672812205332e-13,\n",
       "        2.353672812205332e-13],\n",
       "       ['neighbourhood_cleansed_Prenzlauer Berg Nordwest',\n",
       "        2.2543078515013804e-13, 2.2543078515013804e-13],\n",
       "       ['room_type_Private room', -1.829647544582258e-13,\n",
       "        1.829647544582258e-13],\n",
       "       ['beds_is_na', -1.7141843500212417e-13, 1.7141843500212417e-13],\n",
       "       ['zip_dists_1096', 1.438849039914203e-13, 1.438849039914203e-13],\n",
       "       ['neighbourhood_Wilmersdorf', -1.247890679678676e-13,\n",
       "        1.247890679678676e-13],\n",
       "       ['neighbourhood_Rummelsburg', -1.2168044349891716e-13,\n",
       "        1.2168044349891716e-13],\n",
       "       ['neighbourhood_cleansed_Neu Lichtenberg',\n",
       "        -1.1746159600534156e-13, 1.1746159600534156e-13],\n",
       "       ['last_reviewDayofweek_5.0', -1.1013412404281553e-13,\n",
       "        1.1013412404281553e-13],\n",
       "       ['availability_30', -1.0613732115416497e-13,\n",
       "        1.0613732115416497e-13],\n",
       "       ['first_reviewWeek', 1.0391687510491465e-13,\n",
       "        1.0391687510491465e-13],\n",
       "       ['first_reviewMonth_7.0', 1.0302869668521453e-13,\n",
       "        1.0302869668521453e-13],\n",
       "       ['host_verifications_other', 8.970602038971265e-14,\n",
       "        8.970602038971265e-14],\n",
       "       ['host_response_rate', -8.752114179074249e-14,\n",
       "        8.752114179074249e-14],\n",
       "       [\"host_verifications_['email', 'phone', 'reviews', 'jumio', 'offline_government_id', 'selfie', 'government_id', 'identity_manual', 'work_email']\",\n",
       "        8.43769498715119e-14, 8.43769498715119e-14],\n",
       "       ['host_sinceDayofweek_3.0', 8.348877145181177e-14,\n",
       "        8.348877145181177e-14],\n",
       "       ['neighbourhood_Neukölln', -8.348877145181177e-14,\n",
       "        8.348877145181177e-14],\n",
       "       ['first_reviewMonth_9.0', 8.304468224196171e-14,\n",
       "        8.304468224196171e-14],\n",
       "       ['neighbourhood_group_cleansed_Mitte', -7.904787935331115e-14,\n",
       "        7.904787935331115e-14],\n",
       "       [\"host_verifications_['email', 'phone', 'reviews', 'kba']\",\n",
       "        -7.149836278586008e-14, 7.149836278586008e-14],\n",
       "       ['number_of_reviews', -7.105427357601002e-14,\n",
       "        7.105427357601002e-14],\n",
       "       ['neighbourhood_cleansed_Schillerpromenade',\n",
       "        -6.927791673660977e-14, 6.927791673660977e-14],\n",
       "       ['monthly_price_is_na', 6.838973831690964e-14,\n",
       "        6.838973831690964e-14],\n",
       "       ['zip_dists_1204', -6.661338147750939e-14, 6.661338147750939e-14],\n",
       "       ['last_reviewDayofweek_6.0', 6.572520305780927e-14,\n",
       "        6.572520305780927e-14],\n",
       "       ['street_is_berlin_berlin_germany', 6.483702463810914e-14,\n",
       "        6.483702463810914e-14],\n",
       "       ['is_location_exact', -6.039613253960852e-14,\n",
       "        6.039613253960852e-14],\n",
       "       ['first_reviewMonth_4.0', 6.039613253960852e-14,\n",
       "        6.039613253960852e-14],\n",
       "       ['availability_90', -5.684341886080802e-14, 5.684341886080802e-14],\n",
       "       [\"host_verifications_['email', 'phone', 'reviews', 'jumio', 'government_id', 'work_email']\",\n",
       "        5.440092820663267e-14, 5.440092820663267e-14],\n",
       "       ['state_is_na', -5.440092820663267e-14, 5.440092820663267e-14],\n",
       "       ['minimum_nights', -5.3290705182007514e-14,\n",
       "        5.3290705182007514e-14],\n",
       "       ['neighbourhood_cleansed_Tempelhof', 5.10702591327572e-14,\n",
       "        5.10702591327572e-14],\n",
       "       [\"host_verifications_['email', 'phone', 'reviews', 'jumio', 'offline_government_id', 'government_id', 'work_email']\",\n",
       "        4.973799150320701e-14, 4.973799150320701e-14],\n",
       "       ['square_feet_is_na', 4.618527782440651e-14,\n",
       "        4.618527782440651e-14],\n",
       "       ['review_scores_checkin', 4.263256414560601e-14,\n",
       "        4.263256414560601e-14],\n",
       "       ['last_reviewWeek', -3.730349362740526e-14, 3.730349362740526e-14],\n",
       "       ['neighbourhood_group_cleansed_Steglitz - Zehlendorf',\n",
       "        3.6415315207705135e-14, 3.6415315207705135e-14],\n",
       "       ['neighbourhood_group_cleansed_Reinickendorf',\n",
       "        -3.375077994860476e-14, 3.375077994860476e-14],\n",
       "       ['summary_is_na', -3.197442310920451e-14, 3.197442310920451e-14],\n",
       "       ['neighbourhood_Wedding', -3.108624468950438e-14,\n",
       "        3.108624468950438e-14],\n",
       "       ['host_neighbourhood_Wedding', -2.842170943040401e-14,\n",
       "        2.842170943040401e-14],\n",
       "       ['bedrooms_is_na', 2.4868995751603507e-14, 2.4868995751603507e-14],\n",
       "       ['host_neighbourhood_Kreuzberg', 2.398081733190338e-14,\n",
       "        2.398081733190338e-14],\n",
       "       ['host_sinceWeek', -2.353672812205332e-14, 2.353672812205332e-14],\n",
       "       ['cleaning_fee_is_na', -2.3092638912203256e-14,\n",
       "        2.3092638912203256e-14],\n",
       "       ['host_response_time_within a few hours', 2.3092638912203256e-14,\n",
       "        2.3092638912203256e-14],\n",
       "       ['host_sinceIs_month_end', -2.0872192862952943e-14,\n",
       "        2.0872192862952943e-14],\n",
       "       ['host_sinceDay', -2.0539125955565396e-14, 2.0539125955565396e-14],\n",
       "       ['guests_included', 1.709743457922741e-14, 1.709743457922741e-14],\n",
       "       ['notes_is_na', 1.687538997430238e-14, 1.687538997430238e-14],\n",
       "       ['city_is_na', -1.176836406102666e-14, 1.176836406102666e-14],\n",
       "       ['require_guest_phone_verification', 1.0436096431476471e-14,\n",
       "        1.0436096431476471e-14],\n",
       "       [\"host_verifications_['phone']\", -1.021405182655144e-14,\n",
       "        1.021405182655144e-14],\n",
       "       ['last_reviewIs_year_end', 7.105427357601002e-15,\n",
       "        7.105427357601002e-15],\n",
       "       ['neighbourhood_cleansed_Moabit Ost', 4.440892098500626e-15,\n",
       "        4.440892098500626e-15],\n",
       "       ['host_response_time_within an hour', 3.774758283725532e-15,\n",
       "        3.774758283725532e-15],\n",
       "       ['first_reviewMonth_8.0', 0.0, 0.0],\n",
       "       ['zip_dists_1024', 0.0, 0.0]], dtype=object)"
      ]
     },
     "execution_count": 436,
     "metadata": {},
     "output_type": "execute_result"
    }
   ],
   "source": [
    "importances"
   ]
  },
  {
   "cell_type": "code",
   "execution_count": 403,
   "metadata": {},
   "outputs": [
    {
     "data": {
      "text/plain": [
       "(array([43]),)"
      ]
     },
     "execution_count": 403,
     "metadata": {},
     "output_type": "execute_result"
    }
   ],
   "source": [
    "np.where(importances[:, 0] == 'last_reviewDayofyear')"
   ]
  },
  {
   "cell_type": "code",
   "execution_count": 411,
   "metadata": {},
   "outputs": [],
   "source": [
    "import pandas as pd \n",
    "\n",
    "pd.DataFrame(importances[:43]).to_csv(\"importances.csv\")"
   ]
  },
  {
   "cell_type": "code",
   "execution_count": 414,
   "metadata": {},
   "outputs": [],
   "source": [
    "# pd.read_csv('importances.csv').to_numpy()[:, 1:]"
   ]
  },
  {
   "cell_type": "markdown",
   "metadata": {},
   "source": [
    "### From here can dedicate feature engineering"
   ]
  },
  {
   "cell_type": "markdown",
   "metadata": {},
   "source": [
    "### Resources\n",
    "\n",
    "* Feature selection in theory\n",
    "    * Want those that are correlated, or pearson correlated with the outputs\n",
    "        * Could compare both techniques"
   ]
  },
  {
   "cell_type": "code",
   "execution_count": null,
   "metadata": {},
   "outputs": [],
   "source": [
    "https://towardsdatascience.com/why-how-and-when-to-apply-feature-selection-e9c69adfabf2"
   ]
  }
 ],
 "metadata": {
  "kernelspec": {
   "display_name": "Python 3",
   "language": "python",
   "name": "python3"
  },
  "language_info": {
   "codemirror_mode": {
    "name": "ipython",
    "version": 3
   },
   "file_extension": ".py",
   "mimetype": "text/x-python",
   "name": "python",
   "nbconvert_exporter": "python",
   "pygments_lexer": "ipython3",
   "version": "3.7.3"
  }
 },
 "nbformat": 4,
 "nbformat_minor": 2
}
