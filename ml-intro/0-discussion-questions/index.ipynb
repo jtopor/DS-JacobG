{
 "cells": [
  {
   "cell_type": "markdown",
   "metadata": {},
   "source": [
    "### Discussion Questions"
   ]
  },
  {
   "cell_type": "markdown",
   "metadata": {},
   "source": [
    "### Machine Learning"
   ]
  },
  {
   "cell_type": "markdown",
   "metadata": {},
   "source": [
    "1. Why do we even need machine learning?  What are the questions for which we would need machine learning that programming would not be as well suited to solve?  Why/how does programming fall short?"
   ]
  },
  {
   "cell_type": "markdown",
   "metadata": {},
   "source": [
    "### Regression"
   ]
  },
  {
   "cell_type": "markdown",
   "metadata": {},
   "source": [
    "Let's work with the following data."
   ]
  },
  {
   "cell_type": "code",
   "execution_count": 1,
   "metadata": {},
   "outputs": [],
   "source": [
    "inputs = [800, 1500, 2000, 3500, 4000]\n",
    "sklearn_inputs = [ [800], \n",
    "    [1500],\n",
    "    [2000],\n",
    "    [3500],\n",
    "    [4000] ]\n",
    "outcomes = [330, 780, 1130, 1310, 1780]"
   ]
  },
  {
   "cell_type": "markdown",
   "metadata": {},
   "source": [
    "Now imagine that inputs relate to advertising dollars spent on a campaign and the outcomes are the number of T-shirts sold.  So the element of inputs says that a company spent 800 dollars on a campaign sold 330 T-shirts for that campaign."
   ]
  },
  {
   "cell_type": "markdown",
   "metadata": {},
   "source": [
    "### Your task"
   ]
  },
  {
   "cell_type": "markdown",
   "metadata": {},
   "source": [
    "1. Use the SciKit Learn's Linear Regression model and the data above to predict the number of T-shirts that are sold when there is an advertising budget of 600."
   ]
  },
  {
   "cell_type": "markdown",
   "metadata": {},
   "source": [
    "2. In the LinearRegression model, an instance of the model may have `coef_` and `intercept_` which are for the coefficient and y-intercept in linear regression. \n",
    "\n",
    "    a) What is the coefficient?  How does it fit into the linear regression formula?  How does the coefficient affect the plotting of a line?  And if a coefficient is .2, what would that mean in this context?\n",
    "\n",
    "    b) What is the intercept?  How does it fit into the linear regression formula?  How does the intercept affect the plotting of a line?  And if the intercept is 120, what would that mean in this context?"
   ]
  },
  {
   "cell_type": "markdown",
   "metadata": {},
   "source": [
    "3. What is the residual sum of squares?\n",
    "Try to explain each component of the formula."
   ]
  },
  {
   "cell_type": "code",
   "execution_count": null,
   "metadata": {},
   "outputs": [],
   "source": []
  }
 ],
 "metadata": {
  "kernelspec": {
   "display_name": "Python 3",
   "language": "python",
   "name": "python3"
  },
  "language_info": {
   "codemirror_mode": {
    "name": "ipython",
    "version": 3
   },
   "file_extension": ".py",
   "mimetype": "text/x-python",
   "name": "python",
   "nbconvert_exporter": "python",
   "pygments_lexer": "ipython3",
   "version": "3.7.3"
  }
 },
 "nbformat": 4,
 "nbformat_minor": 2
}
