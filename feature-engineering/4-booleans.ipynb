{
 "cells": [
  {
   "cell_type": "markdown",
   "metadata": {},
   "source": [
    "# Boolean Values"
   ]
  },
  {
   "cell_type": "markdown",
   "metadata": {},
   "source": [
    "### Introduction"
   ]
  },
  {
   "cell_type": "markdown",
   "metadata": {},
   "source": [
    "Deciding which features should be included and focused on in our linear model is an important skill of any data scientist.  As we saw previously, if we include features which are too collinear, we will improperly measure the coefficients related to our collinear features.  In addition, feature selection and prioritizing features with feature importance will help us to understand which features to devote our attention to in terms of feature engineering and domain understanding.  Finally, limiting the number of features in our model, and identifying the most crucial features in our model will make our models, and their insights more understandable."
   ]
  },
  {
   "cell_type": "markdown",
   "metadata": {},
   "source": [
    "### Working with AirBnb"
   ]
  },
  {
   "cell_type": "markdown",
   "metadata": {},
   "source": [
    "For this lesson, we'll work with [AirBnb listings in Berlin](https://www.kaggle.com/brittabettendorf/berlin-airbnb-data)."
   ]
  },
  {
   "cell_type": "code",
   "execution_count": 3,
   "metadata": {},
   "outputs": [],
   "source": [
    "import pandas as pd\n",
    "df = pd.read_csv('listings_summary.csv.zip')"
   ]
  },
  {
   "cell_type": "code",
   "execution_count": 324,
   "metadata": {},
   "outputs": [],
   "source": [
    "pd.set_option('display.max_rows',100)"
   ]
  },
  {
   "cell_type": "markdown",
   "metadata": {},
   "source": [
    "### Feature engineering"
   ]
  },
  {
   "cell_type": "markdown",
   "metadata": {},
   "source": [
    "Let's try to capture as much of this object data as possible."
   ]
  },
  {
   "cell_type": "code",
   "execution_count": 326,
   "metadata": {},
   "outputs": [],
   "source": [
    "def find_object_features(df):\n",
    "    return list(df.dtypes[df.dtypes == 'object'].index)"
   ]
  },
  {
   "cell_type": "code",
   "execution_count": 327,
   "metadata": {},
   "outputs": [],
   "source": [
    "def find_object_feature_values(df):\n",
    "    object_features = find_object_features(df)\n",
    "    return df[object_features][:1].values[0]"
   ]
  },
  {
   "cell_type": "code",
   "execution_count": 47,
   "metadata": {},
   "outputs": [],
   "source": [
    "import numpy as np\n",
    "def find_booleans(df):\n",
    "    columns = df.columns\n",
    "    boolean_columns = np.array([column for column in columns if len(df[column].value_counts(dropna=True)) == 2])\n",
    "    boolean_values = np.array([df[column].value_counts(dropna=True).index.to_list() for column in boolean_columns])\n",
    "    columns_and_values = np.stack((boolean_columns, boolean_values[:, 0], boolean_values[:, 1])).T\n",
    "    return columns_and_values"
   ]
  },
  {
   "cell_type": "code",
   "execution_count": null,
   "metadata": {},
   "outputs": [],
   "source": [
    "boolean_columns = find_booleans(df)"
   ]
  },
  {
   "cell_type": "code",
   "execution_count": 63,
   "metadata": {},
   "outputs": [],
   "source": [
    "def select_booleans(df, values = []):\n",
    "    boolean_columns = find_booleans(df)\n",
    "    matches = np.isin(boolean_columns[:, 1], values)\n",
    "    return boolean_columns[matches]"
   ]
  },
  {
   "cell_type": "code",
   "execution_count": 65,
   "metadata": {},
   "outputs": [
    {
     "data": {
      "text/plain": [
       "array([['host_is_superhost', 'f', 't'],\n",
       "       ['host_has_profile_pic', 't', 'f'],\n",
       "       ['host_identity_verified', 'f', 't'],\n",
       "       ['is_location_exact', 't', 'f'],\n",
       "       ['requires_license', 't', 'f'],\n",
       "       ['instant_bookable', 'f', 't'],\n",
       "       ['require_guest_profile_picture', 'f', 't'],\n",
       "       ['require_guest_phone_verification', 'f', 't']], dtype='<U32')"
      ]
     },
     "execution_count": 65,
     "metadata": {},
     "output_type": "execute_result"
    }
   ],
   "source": [
    "boolean_values = ['t', 'f']\n",
    "select_booleans(df, boolean_values)"
   ]
  },
  {
   "cell_type": "code",
   "execution_count": 72,
   "metadata": {},
   "outputs": [],
   "source": [
    "boolean_mapping = {'t': 1, 'f': 0}"
   ]
  },
  {
   "cell_type": "code",
   "execution_count": 79,
   "metadata": {},
   "outputs": [],
   "source": [
    "import numpy as np\n",
    "def to_booleans(df, boolean_mapping):\n",
    "    potential_columns = find_booleans(df)\n",
    "    boolean_values = list(boolean_mapping.keys())\n",
    "    boolean_features = select_booleans(df, boolean_values)[:, 0]\n",
    "    boolean_df = pd.DataFrame({})\n",
    "    for feature in boolean_features:\n",
    "        boolean_df[feature] = df[feature].map(boolean_mapping)\n",
    "    return boolean_df[boolean_features]"
   ]
  },
  {
   "cell_type": "code",
   "execution_count": 81,
   "metadata": {},
   "outputs": [
    {
     "data": {
      "text/html": [
       "<div>\n",
       "<style scoped>\n",
       "    .dataframe tbody tr th:only-of-type {\n",
       "        vertical-align: middle;\n",
       "    }\n",
       "\n",
       "    .dataframe tbody tr th {\n",
       "        vertical-align: top;\n",
       "    }\n",
       "\n",
       "    .dataframe thead th {\n",
       "        text-align: right;\n",
       "    }\n",
       "</style>\n",
       "<table border=\"1\" class=\"dataframe\">\n",
       "  <thead>\n",
       "    <tr style=\"text-align: right;\">\n",
       "      <th></th>\n",
       "      <th>host_is_superhost</th>\n",
       "      <th>host_has_profile_pic</th>\n",
       "      <th>host_identity_verified</th>\n",
       "      <th>is_location_exact</th>\n",
       "      <th>requires_license</th>\n",
       "      <th>instant_bookable</th>\n",
       "      <th>require_guest_profile_picture</th>\n",
       "      <th>require_guest_phone_verification</th>\n",
       "    </tr>\n",
       "  </thead>\n",
       "  <tbody>\n",
       "    <tr>\n",
       "      <th>0</th>\n",
       "      <td>1.0</td>\n",
       "      <td>1.0</td>\n",
       "      <td>1.0</td>\n",
       "      <td>0</td>\n",
       "      <td>1</td>\n",
       "      <td>0</td>\n",
       "      <td>0</td>\n",
       "      <td>0</td>\n",
       "    </tr>\n",
       "    <tr>\n",
       "      <th>1</th>\n",
       "      <td>0.0</td>\n",
       "      <td>1.0</td>\n",
       "      <td>1.0</td>\n",
       "      <td>1</td>\n",
       "      <td>1</td>\n",
       "      <td>0</td>\n",
       "      <td>0</td>\n",
       "      <td>0</td>\n",
       "    </tr>\n",
       "  </tbody>\n",
       "</table>\n",
       "</div>"
      ],
      "text/plain": [
       "   host_is_superhost  host_has_profile_pic  host_identity_verified  \\\n",
       "0                1.0                   1.0                     1.0   \n",
       "1                0.0                   1.0                     1.0   \n",
       "\n",
       "   is_location_exact  requires_license  instant_bookable  \\\n",
       "0                  0                 1                 0   \n",
       "1                  1                 1                 0   \n",
       "\n",
       "   require_guest_profile_picture  require_guest_phone_verification  \n",
       "0                              0                                 0  \n",
       "1                              0                                 0  "
      ]
     },
     "execution_count": 81,
     "metadata": {},
     "output_type": "execute_result"
    }
   ],
   "source": [
    "new_boolean_cols = to_booleans(df, boolean_mapping)\n",
    "new_boolean_cols[0:2]"
   ]
  },
  {
   "cell_type": "markdown",
   "metadata": {},
   "source": [
    "### Detecting Almost Binary Features"
   ]
  },
  {
   "cell_type": "code",
   "execution_count": 110,
   "metadata": {},
   "outputs": [],
   "source": [
    "def almost_binary(df):\n",
    "    non_empty_columns = df.dropna(axis=1,how='all').columns\n",
    "    return np.array([df[column].value_counts(normalize=True).values[0] for column in non_empty_columns]).reshape(-1, 1)\n"
   ]
  },
  {
   "cell_type": "code",
   "execution_count": 114,
   "metadata": {},
   "outputs": [],
   "source": [
    "def summarize_counts(df):\n",
    "    non_empty_columns = df.dropna(axis=1,how='all').columns\n",
    "    frequencies = np.array([df[column].value_counts(normalize=True).values[0] for column in non_empty_columns]).reshape(-1, 1)\n",
    "    columns = non_empty_columns.to_numpy().reshape(-1, 1)\n",
    "    top_values = np.array([df[column].value_counts(normalize=True).index[0] for column in non_empty_columns]).reshape(-1, 1)\n",
    "    summarize = np.hstack((columns, frequencies, top_values))\n",
    "    return summarize[summarize[:,1].argsort()[::-1]]"
   ]
  },
  {
   "cell_type": "code",
   "execution_count": 118,
   "metadata": {},
   "outputs": [],
   "source": [
    "summary = summarize_counts(df)"
   ]
  },
  {
   "cell_type": "code",
   "execution_count": 119,
   "metadata": {},
   "outputs": [
    {
     "data": {
      "text/plain": [
       "array([['country', 1.0, 'Germany'],\n",
       "       ['country_code', 1.0, 'DE']], dtype=object)"
      ]
     },
     "execution_count": 119,
     "metadata": {},
     "output_type": "execute_result"
    }
   ],
   "source": [
    "summary[:2]"
   ]
  },
  {
   "cell_type": "code",
   "execution_count": 120,
   "metadata": {},
   "outputs": [],
   "source": [
    "def almost_binary(df, threshold = .95):\n",
    "    return np.array([np.array([cat, top]) for cat, frequency, top in summarize_counts(df) if 1.0 > frequency > threshold])"
   ]
  },
  {
   "cell_type": "code",
   "execution_count": 122,
   "metadata": {},
   "outputs": [],
   "source": [
    "almost_bin_feats = almost_binary(df)"
   ]
  },
  {
   "cell_type": "code",
   "execution_count": 123,
   "metadata": {},
   "outputs": [
    {
     "data": {
      "text/plain": [
       "array([['last_scraped', '2018-11-07'],\n",
       "       ['calendar_last_scraped', '2018-11-07'],\n",
       "       ['market', 'Berlin'],\n",
       "       ['requires_license', 't'],\n",
       "       ['state', 'Berlin'],\n",
       "       ['host_has_profile_pic', 't'],\n",
       "       ['city', 'Berlin'],\n",
       "       ['smart_location', 'Berlin, Germany'],\n",
       "       ['require_guest_profile_picture', 'f'],\n",
       "       ['street', 'Berlin, Berlin, Germany'],\n",
       "       ['require_guest_phone_verification', 'f'],\n",
       "       ['bed_type', 'Real Bed']], dtype='<U32')"
      ]
     },
     "execution_count": 123,
     "metadata": {},
     "output_type": "execute_result"
    }
   ],
   "source": [
    "almost_bin_feats"
   ]
  },
  {
   "cell_type": "code",
   "execution_count": 126,
   "metadata": {},
   "outputs": [],
   "source": [
    "def remove_punctuation(string):\n",
    "    return string.strip().lower().replace(' ', '_').replace('(', '').replace(')', '').replace(',', '')"
   ]
  },
  {
   "cell_type": "code",
   "execution_count": 127,
   "metadata": {},
   "outputs": [],
   "source": [
    "def matrix_new_features(df):\n",
    "    bin_feats = almost_binary(df)\n",
    "    new_bin_feats = np.array(['{column}_is_{top}'.format(column = column, top = remove_punctuation(top)) for column, top in bin_feats])\n",
    "    return np.hstack((bin_feats[:, 0].reshape(-1, 1), bin_feats[:, 1].reshape(-1, 1), new_bin_feats.reshape(-1, 1)))"
   ]
  },
  {
   "cell_type": "code",
   "execution_count": 129,
   "metadata": {},
   "outputs": [],
   "source": [
    "potential_new_features = matrix_new_features(df)"
   ]
  },
  {
   "cell_type": "code",
   "execution_count": 143,
   "metadata": {},
   "outputs": [],
   "source": [
    "def booleans_without_top_values(df, not_values):\n",
    "    potential_new_features = matrix_new_features(df)\n",
    "    not_tf = ~np.isin(potential_new_features[:, 1], not_values)\n",
    "    return potential_new_features[not_tf]"
   ]
  },
  {
   "cell_type": "code",
   "execution_count": 147,
   "metadata": {},
   "outputs": [],
   "source": [
    "selected_booleans = booleans_without_top_values(df, ['t', 'f', '2018-11-07'])"
   ]
  },
  {
   "cell_type": "code",
   "execution_count": 153,
   "metadata": {},
   "outputs": [],
   "source": [
    "selected_bool_cols = selected_booleans[:, 0]\n",
    "selected_booleans_df = df[selected_bool_cols]"
   ]
  },
  {
   "cell_type": "code",
   "execution_count": 131,
   "metadata": {},
   "outputs": [],
   "source": [
    "def almost_to_boolean(df):\n",
    "    columns_to_replace = matrix_new_features(df)[:, 0]\n",
    "    values_to_replace = matrix_new_features(df)[:, 1]\n",
    "    new_column_names = matrix_new_features(df)[:, 2]\n",
    "    to_replace_df = pd.DataFrame({})\n",
    "    for column, value, new_name in zip(columns_to_replace, values_to_replace, new_column_names):\n",
    "        bool_column = np.where(df[column] == value,1,0)\n",
    "        to_replace_df[new_name] = bool_column\n",
    "    return to_replace_df"
   ]
  },
  {
   "cell_type": "code",
   "execution_count": 151,
   "metadata": {},
   "outputs": [],
   "source": [
    "almost = almost_to_boolean(selected_booleans_df)"
   ]
  },
  {
   "cell_type": "code",
   "execution_count": 152,
   "metadata": {},
   "outputs": [
    {
     "data": {
      "text/plain": [
       "market_is_berlin                    int64\n",
       "state_is_berlin                     int64\n",
       "city_is_berlin                      int64\n",
       "smart_location_is_berlin_germany    int64\n",
       "street_is_berlin_berlin_germany     int64\n",
       "bed_type_is_real_bed                int64\n",
       "dtype: object"
      ]
     },
     "execution_count": 152,
     "metadata": {},
     "output_type": "execute_result"
    }
   ],
   "source": [
    "almost.dtypes"
   ]
  },
  {
   "cell_type": "code",
   "execution_count": 171,
   "metadata": {},
   "outputs": [],
   "source": [
    "def df_with_replaced_columns(original_df, selected_booleans_df):\n",
    "    matrix_features = matrix_new_features(selected_booleans_df)\n",
    "    cols_to_drop = matrix_features[:, 0]\n",
    "    pruned_df = copied_df.drop(cols_to_drop, axis = 1)\n",
    "    return pd.concat([pruned_df, selected_booleans_df], axis = 1)"
   ]
  },
  {
   "cell_type": "code",
   "execution_count": 172,
   "metadata": {},
   "outputs": [],
   "source": [
    "new_df = new_df_with_na_cols(df, selected_booleans_df)"
   ]
  },
  {
   "cell_type": "code",
   "execution_count": 170,
   "metadata": {},
   "outputs": [
    {
     "data": {
      "text/plain": [
       "96"
      ]
     },
     "execution_count": 170,
     "metadata": {},
     "output_type": "execute_result"
    }
   ],
   "source": [
    "len(new_df.columns)"
   ]
  },
  {
   "cell_type": "markdown",
   "metadata": {},
   "source": [
    "### Summary"
   ]
  },
  {
   "cell_type": "code",
   "execution_count": null,
   "metadata": {},
   "outputs": [],
   "source": []
  }
 ],
 "metadata": {
  "kernelspec": {
   "display_name": "Python 3",
   "language": "python",
   "name": "python3"
  },
  "language_info": {
   "codemirror_mode": {
    "name": "ipython",
    "version": 3
   },
   "file_extension": ".py",
   "mimetype": "text/x-python",
   "name": "python",
   "nbconvert_exporter": "python",
   "pygments_lexer": "ipython3",
   "version": "3.7.3"
  }
 },
 "nbformat": 4,
 "nbformat_minor": 2
}
