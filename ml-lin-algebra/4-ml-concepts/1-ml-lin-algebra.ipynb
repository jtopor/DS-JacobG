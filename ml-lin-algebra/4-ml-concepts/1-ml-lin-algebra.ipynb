{
 "cells": [
  {
   "cell_type": "markdown",
   "metadata": {},
   "source": [
    "# Machine Learning with Linear Algebra"
   ]
  },
  {
   "cell_type": "markdown",
   "metadata": {},
   "source": [
    "### Notation for Machine learning"
   ]
  },
  {
   "cell_type": "markdown",
   "metadata": {},
   "source": [
    "Let X be a feature matrix of $m$ rows, $n$ columns, and let $x^{(i)}$, called an input vector, represent one row of the matrix $X$.\n",
    "\n",
    "To answer the following questions, feel free to generate some sample data using: \n",
    "\n",
    "`np.random.randint()`"
   ]
  },
  {
   "cell_type": "markdown",
   "metadata": {},
   "source": [
    "1. Let $x^{(i)}$ be an input vector\n",
    "    * $x^{(i)} \\in \\mathbb{R}$\n",
    "    * i = ? , \n",
    "    * dimensions = ?"
   ]
  },
  {
   "cell_type": "markdown",
   "metadata": {},
   "source": [
    "2. $y^{(i)}$\n",
    "    * What are the dimensions"
   ]
  },
  {
   "cell_type": "markdown",
   "metadata": {},
   "source": [
    "3. Model parameters: $\\theta $\n",
    "    * What are the dimensions?\n",
    "    \n",
    "4. Express the hypothesis function for regression using linear algebra\n",
    "    * $h_\\theta(x): \\mathbb{R}^n -> y $"
   ]
  },
  {
   "cell_type": "markdown",
   "metadata": {},
   "source": [
    "The canonical machine learning algorithm is to minimize "
   ]
  },
  {
   "cell_type": "markdown",
   "metadata": {},
   "source": [
    "$\\underset{\\theta}{\\text{minimize}} \\sum l(h_\\theta(x^{(i)}, y^{(i)}))$"
   ]
  },
  {
   "cell_type": "markdown",
   "metadata": {},
   "source": [
    "* Write the loss function for regression given a matrix features, a vector of parameters, and a vector of target variables."
   ]
  }
 ],
 "metadata": {
  "kernelspec": {
   "display_name": "Python 3",
   "language": "python",
   "name": "python3"
  },
  "language_info": {
   "codemirror_mode": {
    "name": "ipython",
    "version": 3
   },
   "file_extension": ".py",
   "mimetype": "text/x-python",
   "name": "python",
   "nbconvert_exporter": "python",
   "pygments_lexer": "ipython3",
   "version": "3.7.3"
  }
 },
 "nbformat": 4,
 "nbformat_minor": 2
}
