{
 "cells": [
  {
   "cell_type": "markdown",
   "metadata": {},
   "source": [
    "## Building a model lab"
   ]
  },
  {
   "cell_type": "markdown",
   "metadata": {},
   "source": [
    "### Introduction"
   ]
  },
  {
   "cell_type": "markdown",
   "metadata": {},
   "source": [
    "In this lesson, we'll use some data for a restaurant to see how the daily temperature can predict how many customers it will have in the day.  It records the weather each bi-weekly over two months.  "
   ]
  },
  {
   "cell_type": "markdown",
   "metadata": {},
   "source": [
    "### Start with a chart of data"
   ]
  },
  {
   "cell_type": "markdown",
   "metadata": {},
   "source": [
    "| temperature        | actual customers           \n",
    "| ------------- |:-------------:| \n",
    "|    80       | 120 | \n",
    "|    65        | 100 | \n",
    "|    50        | 85 | \n",
    "|    70        | 100 | \n",
    "|    60        | 90 | \n"
   ]
  },
  {
   "cell_type": "markdown",
   "metadata": {},
   "source": [
    "Here is a list of the temperatures and a separate list of the customers."
   ]
  },
  {
   "cell_type": "code",
   "execution_count": 4,
   "metadata": {},
   "outputs": [],
   "source": [
    "temperatures = [80, 65, 50, 70, 60]"
   ]
  },
  {
   "cell_type": "code",
   "execution_count": 7,
   "metadata": {},
   "outputs": [],
   "source": [
    "amounts = [120, 100, 85, 100, 90]"
   ]
  },
  {
   "cell_type": "markdown",
   "metadata": {},
   "source": [
    "And we decide to use the following formula as our machine learning model."
   ]
  },
  {
   "cell_type": "markdown",
   "metadata": {},
   "source": [
    "$$ amount\\_of\\_customers = 1.3 * temperature $$"
   ]
  },
  {
   "cell_type": "markdown",
   "metadata": {},
   "source": [
    "Now use the above formula to make a prediction of our first two days, with temperatures of 80 degrees and 65 degrees."
   ]
  },
  {
   "cell_type": "code",
   "execution_count": 8,
   "metadata": {},
   "outputs": [],
   "source": [
    "expected_customers_day_1 = None"
   ]
  },
  {
   "cell_type": "code",
   "execution_count": 9,
   "metadata": {},
   "outputs": [],
   "source": [
    "expected_customers_day_2 = None"
   ]
  },
  {
   "cell_type": "markdown",
   "metadata": {},
   "source": [
    "| temperature        | actual customers | expected|\n",
    "| ------------- |:-------------:| :-------------:| \n",
    "|    80       | 120 |  ? | \n",
    "|    65        | 100 |  ? | \n",
    "|    50        | 85 | 65 | \n",
    "|    70        | 100 | 91  | \n",
    "|    60        | 90 | 78 | \n"
   ]
  },
  {
   "cell_type": "markdown",
   "metadata": {},
   "source": [
    "### Other expressions of a model "
   ]
  },
  {
   "cell_type": "markdown",
   "metadata": {},
   "source": [
    "Now translate our machine learning model into a function.  Remember that we expressed it as the following math formula:\n",
    "\n",
    "$$ amount\\_of\\_customers = 1.3 * temperature $$\n",
    "\n",
    "Translate it into a function called `predicted_customers`."
   ]
  },
  {
   "cell_type": "code",
   "execution_count": 16,
   "metadata": {},
   "outputs": [],
   "source": [
    "def predicted_customers():\n",
    "    pass"
   ]
  },
  {
   "cell_type": "code",
   "execution_count": 17,
   "metadata": {},
   "outputs": [],
   "source": [
    "# predicted_customers(50) # 65\n",
    "# predicted_customers(70) # 91"
   ]
  },
  {
   "cell_type": "markdown",
   "metadata": {},
   "source": [
    "### Visualizing our model"
   ]
  },
  {
   "cell_type": "markdown",
   "metadata": {},
   "source": [
    "Now it's time to visualize our model.  We can start by plotting a graph of our actual data.  Remember that we alread have lists of our temperatures, and the amount of customers."
   ]
  },
  {
   "cell_type": "code",
   "execution_count": 18,
   "metadata": {},
   "outputs": [
    {
     "data": {
      "text/plain": [
       "[80, 65, 50, 70, 60]"
      ]
     },
     "execution_count": 18,
     "metadata": {},
     "output_type": "execute_result"
    }
   ],
   "source": [
    "temperatures"
   ]
  },
  {
   "cell_type": "code",
   "execution_count": 19,
   "metadata": {},
   "outputs": [
    {
     "data": {
      "text/plain": [
       "[120, 100, 85, 100, 90]"
      ]
     },
     "execution_count": 19,
     "metadata": {},
     "output_type": "execute_result"
    }
   ],
   "source": [
    "amounts"
   ]
  },
  {
   "cell_type": "markdown",
   "metadata": {},
   "source": [
    "So we can plot them, by passing them into our `trace_values` function."
   ]
  },
  {
   "cell_type": "code",
   "execution_count": 23,
   "metadata": {},
   "outputs": [
    {
     "data": {
      "application/vnd.plotly.v1+json": {
       "config": {
        "linkText": "Export to plot.ly",
        "plotlyServerURL": "https://plot.ly",
        "showLink": false
       },
       "data": [
        {
         "mode": "markers",
         "name": "data",
         "text": [],
         "type": "scatter",
         "uid": "4e1782d3-7759-4ff5-930b-602b08be3baf",
         "x": [
          0.3,
          0.5,
          0.7
         ],
         "y": [
          8,
          11,
          17
         ]
        }
       ],
       "layout": {
        "autosize": true,
        "xaxis": {
         "autorange": true,
         "range": [
          0.2737752161383285,
          0.7262247838616714
         ],
         "type": "linear"
        },
        "yaxis": {
         "autorange": true,
         "range": [
          7.340764331210191,
          17.659235668789808
         ],
         "type": "linear"
        }
       }
      },
      "image/png": "[encoded data removed]",
      "text/html": [
       "<div id=\"9574a470-8ed0-4e57-88da-3074c9624e06\" style=\"height: 525px; width: 100%;\" class=\"plotly-graph-div\"></div><script type=\"text/javascript\">require([\"plotly\"], function(Plotly) { window.PLOTLYENV=window.PLOTLYENV || {};window.PLOTLYENV.BASE_URL=\"https://plot.ly\";Plotly.newPlot(\"9574a470-8ed0-4e57-88da-3074c9624e06\", [{\"mode\": \"markers\", \"name\": \"data\", \"text\": [], \"x\": [0.3, 0.5, 0.7], \"y\": [8, 11, 17], \"type\": \"scatter\", \"uid\": \"484fe922-eb07-49e9-ad4f-b2ad201040b4\"}], {}, {\"showLink\": false, \"linkText\": \"Export to plot.ly\", \"plotlyServerURL\": \"https://plot.ly\"})});</script><script type=\"text/javascript\">window.addEventListener(\"resize\", function(){window._Plotly.Plots.resize(document.getElementById(\"9574a470-8ed0-4e57-88da-3074c9624e06\"));});</script>"
      ],
      "text/vnd.plotly.v1+html": [
       "<div id=\"9574a470-8ed0-4e57-88da-3074c9624e06\" style=\"height: 525px; width: 100%;\" class=\"plotly-graph-div\"></div><script type=\"text/javascript\">require([\"plotly\"], function(Plotly) { window.PLOTLYENV=window.PLOTLYENV || {};window.PLOTLYENV.BASE_URL=\"https://plot.ly\";Plotly.newPlot(\"9574a470-8ed0-4e57-88da-3074c9624e06\", [{\"mode\": \"markers\", \"name\": \"data\", \"text\": [], \"x\": [0.3, 0.5, 0.7], \"y\": [8, 11, 17], \"type\": \"scatter\", \"uid\": \"484fe922-eb07-49e9-ad4f-b2ad201040b4\"}], {}, {\"showLink\": false, \"linkText\": \"Export to plot.ly\", \"plotlyServerURL\": \"https://plot.ly\"})});</script><script type=\"text/javascript\">window.addEventListener(\"resize\", function(){window._Plotly.Plots.resize(document.getElementById(\"9574a470-8ed0-4e57-88da-3074c9624e06\"));});</script>"
      ]
     },
     "metadata": {},
     "output_type": "display_data"
    }
   ],
   "source": [
    "from graph import trace_values, plot\n",
    "data_trace = trace_values([.30, .50, .70], [8, 11, 17])\n",
    "plot([data_trace])"
   ]
  },
  {
   "cell_type": "markdown",
   "metadata": {},
   "source": [
    "Now your task is display our model as trace of a line our above trace of the data.  Here is the code that we just used."
   ]
  },
  {
   "cell_type": "code",
   "execution_count": 24,
   "metadata": {},
   "outputs": [],
   "source": [
    "# from graph import trace_values, plot\n",
    "# data_trace = trace_values([.30, .50, .70], [8, 11, 17])\n",
    "# plot([data_trace])"
   ]
  },
  {
   "cell_type": "markdown",
   "metadata": {},
   "source": [
    "Ok, so to plot a trace of our model, we need a set of x values, which are our inputs of the temperatures."
   ]
  },
  {
   "cell_type": "code",
   "execution_count": 26,
   "metadata": {},
   "outputs": [],
   "source": [
    "inputs = [50, 55, 60, 65, 70, 75, 80, 85, 90]"
   ]
  },
  {
   "cell_type": "markdown",
   "metadata": {},
   "source": [
    "Now it's your task to calculate the expected outputs for each of these inputs.  Assign these expected outputs to the variable `predicted_customers`."
   ]
  },
  {
   "cell_type": "code",
   "execution_count": 27,
   "metadata": {},
   "outputs": [],
   "source": [
    "predicted_customers = None"
   ]
  },
  {
   "cell_type": "markdown",
   "metadata": {},
   "source": [
    "Next we can create a `model_trace` and plot it alongside our data."
   ]
  },
  {
   "cell_type": "code",
   "execution_count": null,
   "metadata": {},
   "outputs": [],
   "source": [
    "model_trace = trace_values(inputs, predicted_customers, mode = 'lines', name = 'model')"
   ]
  },
  {
   "cell_type": "markdown",
   "metadata": {},
   "source": [
    "Uncomment the code below to display a trace of our model and our outputs."
   ]
  },
  {
   "cell_type": "code",
   "execution_count": 3,
   "metadata": {},
   "outputs": [],
   "source": [
    "# from graph import trace_values, plot\n",
    "# data_trace = trace_values([.30, .50, .70], [8, 11, 17], name = 'data')\n",
    "# layout = {'yaxis': {'range': [0, 18], 'title': 'shot distance'}, 'xaxis': {'title': 'shot angle'}}\n",
    "# plot([data_trace, model_trace])"
   ]
  },
  {
   "cell_type": "markdown",
   "metadata": {},
   "source": [
    "### Summary"
   ]
  },
  {
   "cell_type": "markdown",
   "metadata": {},
   "source": [
    "In this lesson, we built our own machine learning model and plotted it alongside our data.  We started by expressing our machine learning model as a math formula, and used it to plug in different temperatures and calculate the expected number of customers. \n",
    "\n",
    "Then we saw that we could translate our machine learning model into code by using a Python function that takes an input and returns an output.  Finally, we plotted our model as a line alongside our actual data.  "
   ]
  }
 ],
 "metadata": {
  "kernelspec": {
   "display_name": "Python 3",
   "language": "python",
   "name": "python3"
  },
  "language_info": {
   "codemirror_mode": {
    "name": "ipython",
    "version": 3
   },
   "file_extension": ".py",
   "mimetype": "text/x-python",
   "name": "python",
   "nbconvert_exporter": "python",
   "pygments_lexer": "ipython3",
   "version": "3.7.0"
  }
 },
 "nbformat": 4,
 "nbformat_minor": 2
}
