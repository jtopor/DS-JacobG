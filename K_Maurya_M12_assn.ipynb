{
 "cells": [
  {
   "cell_type": "markdown",
   "metadata": {
    "id": "VGdXAY2uTOtg"
   },
   "source": [
    "# Group members\n",
    " 1. **Manish Kumar Thota** : 800756541\n",
    " 2. **Deepa Paikar**  : 800756563\n",
    " 3. **Kanchan Maurya**  : 800756540"
   ]
  },
  {
   "cell_type": "markdown",
   "metadata": {},
   "source": [
    "### Tasks in Assignment are as followed:\n",
    "1. Download the review_polarity.tar.gz file to your local environment and decompress its contents. The\n",
    "compressed file contains two directories: neg which contains 1000 negative movie reviews; and pos\n",
    "which contains 1000 positive movie reviews.\n",
    "\n",
    "2. Load the neg and pos directories to your AIM 5001 Github Repository. You need to keep the content of\n",
    "the directories separated since the directories themselves serve as the labels for the classification of\n",
    "the reviews.\n",
    "\n",
    "3. Then, using a Jupyter Notebook, construct an algorithm (DO NOT USE scikit-learn COUNTVECTORIZER)\n",
    "that will read the content of each individual movie review from your new Github directories and\n",
    "convert that content into a properly labeled (i.e., POS / NEG or some appropriate proxy thereof) entry\n",
    "within a Pandas dataframe that encompasses all of the possible words contained within the 2000\n",
    "movie reviews. When finished, the contents of your Pandas dataframe will constitute a term-document\n",
    "matrix for the movie review data. While constructing this term-document matrix within your Pandas\n",
    "dataframe, you should ensure that you remove any punctuation or stop words from the reviews. How\n",
    "you choose to manage the construction and proper labeling of the term-document matrix is up to you\n",
    "as the text mining / Python practitioner to decide.\n",
    "\n",
    "4. Convert the cumulative frequency count data content of your newly created Pandas dataframe into a\n",
    "NumPy array.\n",
    "\n",
    "5. Using the NumPy array, calculate the sparsity of the term-document matrix. What percentage of the\n",
    "entries in your term-document matrix contain zeroes?\n",
    "\n",
    "6. Next, using the content of the Pandas dataframe, plot the frequency distribution for the 30 words\n",
    "which occur most frequently in the positive reviews. What insights can you derive from the plot?\n",
    "\n",
    "7. Then, once again using the content of the Pandas dataframe, plot the frequency distribution for the 30\n",
    "words which occur most frequently in the negative reviews. What insights can you derive from the\n",
    "plot?\n",
    "\n",
    "8. Now that you have successfully constructed and properly labeled the term-document matrix entries\n",
    "for each of the 2000 individual movie reviews, randomly sample 75% of the vectors contained within\n",
    "the term-document matrix for use as a model training data subset while leaving the remaining 25% of\n",
    "the vectors for the model testing data subset. How you choose to split the data is up to you as the data\n",
    "science / Python practitioner to decide. Be sure to display samples of your training and testing subsets\n",
    "to a reader of your work. Also, tell us how many documents are contained within your training subset?\n",
    "How many documents are contained in your testing subset? How many positive and negative reviews\n",
    "are contained within each subset? Does the mix of positive and negative reviews appear to be\n",
    "relatively balanced within each of the subsets? Be sure to provide a suitable explanatory narrative in\n",
    "the form of formatted Markdown cells."
   ]
  },
  {
   "cell_type": "markdown",
   "metadata": {
    "id": "KHSaWOmkCRVt"
   },
   "source": [
    "# 1. Introduction"
   ]
  },
  {
   "cell_type": "markdown",
   "metadata": {
    "id": "FZ5aomxfC11M"
   },
   "source": [
    "1. Sentiment analysis is a commonly used technique for detecting the underlying sentiment, or emotional tone, in a piece of text. This technique categorizes text sentiment as positive, negative, or neutral.\n",
    "\n",
    "2. Many organizations use sentiment analysis algorithms to understand the opinions of both current and potential customers, including those in the film industry.\n",
    "\n",
    "3. One of the most common applications of sentiment analysis is in social media monitoring, where companies use it to track and analyze customer feedback on social media platforms such as Twitter, Facebook, and Instagram. By analyzing social media posts, companies can gauge customer satisfaction, identify customer pain points, and track the success of marketing campaigns in real-time.\n",
    "\n",
    "4. Sentiment analysis is also widely used in the film industry, where movie studios use it to analyze audience reactions and determine the success of their films. By analyzing reviews and comments from moviegoers, studios can gain insights into the strengths and weaknesses of their movies and adjust their marketing strategies accordingly.\n",
    "\n",
    "5. Other applications of sentiment analysis include political analysis, market research, brand management, and customer service. In the political realm, sentiment analysis is used to analyze public opinion on political issues and candidates, and inform political campaigns. In market research, it helps companies understand consumer preferences and inform product development. In customer service, sentiment analysis can help identify customer problems and improve customer support.\n",
    "\n",
    "In this project, we will be focusing on sentiment analysis for movie reviews using data from http://www.cs.cornell.edu/people/pabo/movie-review-data/.\n",
    "\n",
    "To perform effective sentiment analysis, we need to take the following steps:\n",
    "\n",
    "- **Import the Natural Language Toolkit (NLTK) library**\n",
    "- **Tokenize the words in the text**\n",
    "- **Remove any punctuation marks**\n",
    "- **Eliminate stop words (common words such as \"the,\" \"and,\" \"a,\" etc.)**\n",
    "- **Perform sentiment analysis on the remaining text**"
   ]
  },
  {
   "cell_type": "code",
   "execution_count": 1,
   "metadata": {
    "colab": {
     "base_uri": "https://localhost:8080/"
    },
    "id": "9UCJeyf8eHaX",
    "outputId": "68e4a078-e7f3-4545-ee4c-4df052c5756c"
   },
   "outputs": [
    {
     "name": "stderr",
     "output_type": "stream",
     "text": [
      "[nltk_data] Downloading collection 'all'\n",
      "[nltk_data]    | \n",
      "[nltk_data]    | Downloading package abc to\n",
      "[nltk_data]    |     C:\\Users\\manis\\AppData\\Roaming\\nltk_data...\n",
      "[nltk_data]    |   Package abc is already up-to-date!\n",
      "[nltk_data]    | Downloading package alpino to\n",
      "[nltk_data]    |     C:\\Users\\manis\\AppData\\Roaming\\nltk_data...\n",
      "[nltk_data]    |   Package alpino is already up-to-date!\n",
      "[nltk_data]    | Downloading package averaged_perceptron_tagger to\n",
      "[nltk_data]    |     C:\\Users\\manis\\AppData\\Roaming\\nltk_data...\n",
      "[nltk_data]    |   Package averaged_perceptron_tagger is already up-\n",
      "[nltk_data]    |       to-date!\n",
      "[nltk_data]    | Downloading package averaged_perceptron_tagger_ru to\n",
      "[nltk_data]    |     C:\\Users\\manis\\AppData\\Roaming\\nltk_data...\n",
      "[nltk_data]    |   Package averaged_perceptron_tagger_ru is already\n",
      "[nltk_data]    |       up-to-date!\n",
      "[nltk_data]    | Downloading package basque_grammars to\n",
      "[nltk_data]    |     C:\\Users\\manis\\AppData\\Roaming\\nltk_data...\n",
      "[nltk_data]    |   Package basque_grammars is already up-to-date!\n",
      "[nltk_data]    | Downloading package bcp47 to\n",
      "[nltk_data]    |     C:\\Users\\manis\\AppData\\Roaming\\nltk_data...\n",
      "[nltk_data]    |   Package bcp47 is already up-to-date!\n",
      "[nltk_data]    | Downloading package biocreative_ppi to\n",
      "[nltk_data]    |     C:\\Users\\manis\\AppData\\Roaming\\nltk_data...\n",
      "[nltk_data]    |   Package biocreative_ppi is already up-to-date!\n",
      "[nltk_data]    | Downloading package bllip_wsj_no_aux to\n",
      "[nltk_data]    |     C:\\Users\\manis\\AppData\\Roaming\\nltk_data...\n",
      "[nltk_data]    |   Package bllip_wsj_no_aux is already up-to-date!\n",
      "[nltk_data]    | Downloading package book_grammars to\n",
      "[nltk_data]    |     C:\\Users\\manis\\AppData\\Roaming\\nltk_data...\n",
      "[nltk_data]    |   Package book_grammars is already up-to-date!\n",
      "[nltk_data]    | Downloading package brown to\n",
      "[nltk_data]    |     C:\\Users\\manis\\AppData\\Roaming\\nltk_data...\n",
      "[nltk_data]    |   Package brown is already up-to-date!\n",
      "[nltk_data]    | Downloading package brown_tei to\n",
      "[nltk_data]    |     C:\\Users\\manis\\AppData\\Roaming\\nltk_data...\n",
      "[nltk_data]    |   Package brown_tei is already up-to-date!\n",
      "[nltk_data]    | Downloading package cess_cat to\n",
      "[nltk_data]    |     C:\\Users\\manis\\AppData\\Roaming\\nltk_data...\n",
      "[nltk_data]    |   Package cess_cat is already up-to-date!\n",
      "[nltk_data]    | Downloading package cess_esp to\n",
      "[nltk_data]    |     C:\\Users\\manis\\AppData\\Roaming\\nltk_data...\n",
      "[nltk_data]    |   Package cess_esp is already up-to-date!\n",
      "[nltk_data]    | Downloading package chat80 to\n",
      "[nltk_data]    |     C:\\Users\\manis\\AppData\\Roaming\\nltk_data...\n",
      "[nltk_data]    |   Package chat80 is already up-to-date!\n",
      "[nltk_data]    | Downloading package city_database to\n",
      "[nltk_data]    |     C:\\Users\\manis\\AppData\\Roaming\\nltk_data...\n",
      "[nltk_data]    |   Package city_database is already up-to-date!\n",
      "[nltk_data]    | Downloading package cmudict to\n",
      "[nltk_data]    |     C:\\Users\\manis\\AppData\\Roaming\\nltk_data...\n",
      "[nltk_data]    |   Package cmudict is already up-to-date!\n",
      "[nltk_data]    | Downloading package comparative_sentences to\n",
      "[nltk_data]    |     C:\\Users\\manis\\AppData\\Roaming\\nltk_data...\n",
      "[nltk_data]    |   Package comparative_sentences is already up-to-\n",
      "[nltk_data]    |       date!\n",
      "[nltk_data]    | Downloading package comtrans to\n",
      "[nltk_data]    |     C:\\Users\\manis\\AppData\\Roaming\\nltk_data...\n",
      "[nltk_data]    |   Package comtrans is already up-to-date!\n",
      "[nltk_data]    | Downloading package conll2000 to\n",
      "[nltk_data]    |     C:\\Users\\manis\\AppData\\Roaming\\nltk_data...\n",
      "[nltk_data]    |   Package conll2000 is already up-to-date!\n",
      "[nltk_data]    | Downloading package conll2002 to\n",
      "[nltk_data]    |     C:\\Users\\manis\\AppData\\Roaming\\nltk_data...\n",
      "[nltk_data]    |   Package conll2002 is already up-to-date!\n",
      "[nltk_data]    | Downloading package conll2007 to\n",
      "[nltk_data]    |     C:\\Users\\manis\\AppData\\Roaming\\nltk_data...\n",
      "[nltk_data]    |   Package conll2007 is already up-to-date!\n",
      "[nltk_data]    | Downloading package crubadan to\n",
      "[nltk_data]    |     C:\\Users\\manis\\AppData\\Roaming\\nltk_data...\n",
      "[nltk_data]    |   Package crubadan is already up-to-date!\n",
      "[nltk_data]    | Downloading package dependency_treebank to\n",
      "[nltk_data]    |     C:\\Users\\manis\\AppData\\Roaming\\nltk_data...\n",
      "[nltk_data]    |   Package dependency_treebank is already up-to-date!\n",
      "[nltk_data]    | Downloading package dolch to\n",
      "[nltk_data]    |     C:\\Users\\manis\\AppData\\Roaming\\nltk_data...\n",
      "[nltk_data]    |   Package dolch is already up-to-date!\n",
      "[nltk_data]    | Downloading package europarl_raw to\n",
      "[nltk_data]    |     C:\\Users\\manis\\AppData\\Roaming\\nltk_data...\n",
      "[nltk_data]    |   Package europarl_raw is already up-to-date!\n",
      "[nltk_data]    | Downloading package extended_omw to\n",
      "[nltk_data]    |     C:\\Users\\manis\\AppData\\Roaming\\nltk_data...\n",
      "[nltk_data]    |   Package extended_omw is already up-to-date!\n",
      "[nltk_data]    | Downloading package floresta to\n",
      "[nltk_data]    |     C:\\Users\\manis\\AppData\\Roaming\\nltk_data...\n",
      "[nltk_data]    |   Package floresta is already up-to-date!\n",
      "[nltk_data]    | Downloading package framenet_v15 to\n",
      "[nltk_data]    |     C:\\Users\\manis\\AppData\\Roaming\\nltk_data...\n",
      "[nltk_data]    |   Package framenet_v15 is already up-to-date!\n",
      "[nltk_data]    | Downloading package framenet_v17 to\n",
      "[nltk_data]    |     C:\\Users\\manis\\AppData\\Roaming\\nltk_data...\n",
      "[nltk_data]    |   Package framenet_v17 is already up-to-date!\n",
      "[nltk_data]    | Downloading package gazetteers to\n",
      "[nltk_data]    |     C:\\Users\\manis\\AppData\\Roaming\\nltk_data...\n",
      "[nltk_data]    |   Package gazetteers is already up-to-date!\n",
      "[nltk_data]    | Downloading package genesis to\n",
      "[nltk_data]    |     C:\\Users\\manis\\AppData\\Roaming\\nltk_data...\n",
      "[nltk_data]    |   Package genesis is already up-to-date!\n",
      "[nltk_data]    | Downloading package gutenberg to\n",
      "[nltk_data]    |     C:\\Users\\manis\\AppData\\Roaming\\nltk_data...\n",
      "[nltk_data]    |   Package gutenberg is already up-to-date!\n",
      "[nltk_data]    | Downloading package ieer to\n",
      "[nltk_data]    |     C:\\Users\\manis\\AppData\\Roaming\\nltk_data...\n",
      "[nltk_data]    |   Package ieer is already up-to-date!\n",
      "[nltk_data]    | Downloading package inaugural to\n",
      "[nltk_data]    |     C:\\Users\\manis\\AppData\\Roaming\\nltk_data...\n",
      "[nltk_data]    |   Package inaugural is already up-to-date!\n",
      "[nltk_data]    | Downloading package indian to\n",
      "[nltk_data]    |     C:\\Users\\manis\\AppData\\Roaming\\nltk_data...\n",
      "[nltk_data]    |   Package indian is already up-to-date!\n",
      "[nltk_data]    | Downloading package jeita to\n",
      "[nltk_data]    |     C:\\Users\\manis\\AppData\\Roaming\\nltk_data...\n",
      "[nltk_data]    |   Package jeita is already up-to-date!\n",
      "[nltk_data]    | Downloading package kimmo to\n",
      "[nltk_data]    |     C:\\Users\\manis\\AppData\\Roaming\\nltk_data...\n",
      "[nltk_data]    |   Package kimmo is already up-to-date!\n",
      "[nltk_data]    | Downloading package knbc to\n",
      "[nltk_data]    |     C:\\Users\\manis\\AppData\\Roaming\\nltk_data...\n",
      "[nltk_data]    |   Package knbc is already up-to-date!\n",
      "[nltk_data]    | Downloading package large_grammars to\n",
      "[nltk_data]    |     C:\\Users\\manis\\AppData\\Roaming\\nltk_data...\n",
      "[nltk_data]    |   Package large_grammars is already up-to-date!\n",
      "[nltk_data]    | Downloading package lin_thesaurus to\n",
      "[nltk_data]    |     C:\\Users\\manis\\AppData\\Roaming\\nltk_data...\n",
      "[nltk_data]    |   Package lin_thesaurus is already up-to-date!\n",
      "[nltk_data]    | Downloading package mac_morpho to\n",
      "[nltk_data]    |     C:\\Users\\manis\\AppData\\Roaming\\nltk_data...\n",
      "[nltk_data]    |   Package mac_morpho is already up-to-date!\n",
      "[nltk_data]    | Downloading package machado to\n",
      "[nltk_data]    |     C:\\Users\\manis\\AppData\\Roaming\\nltk_data...\n",
      "[nltk_data]    |   Package machado is already up-to-date!\n",
      "[nltk_data]    | Downloading package masc_tagged to\n",
      "[nltk_data]    |     C:\\Users\\manis\\AppData\\Roaming\\nltk_data...\n",
      "[nltk_data]    |   Package masc_tagged is already up-to-date!\n",
      "[nltk_data]    | Downloading package maxent_ne_chunker to\n",
      "[nltk_data]    |     C:\\Users\\manis\\AppData\\Roaming\\nltk_data...\n",
      "[nltk_data]    |   Package maxent_ne_chunker is already up-to-date!\n",
      "[nltk_data]    | Downloading package maxent_treebank_pos_tagger to\n",
      "[nltk_data]    |     C:\\Users\\manis\\AppData\\Roaming\\nltk_data...\n",
      "[nltk_data]    |   Package maxent_treebank_pos_tagger is already up-\n",
      "[nltk_data]    |       to-date!\n",
      "[nltk_data]    | Downloading package moses_sample to\n",
      "[nltk_data]    |     C:\\Users\\manis\\AppData\\Roaming\\nltk_data...\n",
      "[nltk_data]    |   Package moses_sample is already up-to-date!\n",
      "[nltk_data]    | Downloading package movie_reviews to\n",
      "[nltk_data]    |     C:\\Users\\manis\\AppData\\Roaming\\nltk_data...\n",
      "[nltk_data]    |   Package movie_reviews is already up-to-date!\n",
      "[nltk_data]    | Downloading package mte_teip5 to\n",
      "[nltk_data]    |     C:\\Users\\manis\\AppData\\Roaming\\nltk_data...\n",
      "[nltk_data]    |   Package mte_teip5 is already up-to-date!\n",
      "[nltk_data]    | Downloading package mwa_ppdb to\n",
      "[nltk_data]    |     C:\\Users\\manis\\AppData\\Roaming\\nltk_data...\n",
      "[nltk_data]    |   Package mwa_ppdb is already up-to-date!\n",
      "[nltk_data]    | Downloading package names to\n",
      "[nltk_data]    |     C:\\Users\\manis\\AppData\\Roaming\\nltk_data...\n",
      "[nltk_data]    |   Package names is already up-to-date!\n",
      "[nltk_data]    | Downloading package nombank.1.0 to\n",
      "[nltk_data]    |     C:\\Users\\manis\\AppData\\Roaming\\nltk_data...\n",
      "[nltk_data]    |   Package nombank.1.0 is already up-to-date!\n",
      "[nltk_data]    | Downloading package nonbreaking_prefixes to\n",
      "[nltk_data]    |     C:\\Users\\manis\\AppData\\Roaming\\nltk_data...\n",
      "[nltk_data]    |   Package nonbreaking_prefixes is already up-to-date!\n",
      "[nltk_data]    | Downloading package nps_chat to\n",
      "[nltk_data]    |     C:\\Users\\manis\\AppData\\Roaming\\nltk_data...\n",
      "[nltk_data]    |   Package nps_chat is already up-to-date!\n",
      "[nltk_data]    | Downloading package omw to\n",
      "[nltk_data]    |     C:\\Users\\manis\\AppData\\Roaming\\nltk_data...\n",
      "[nltk_data]    |   Package omw is already up-to-date!\n",
      "[nltk_data]    | Downloading package omw-1.4 to\n",
      "[nltk_data]    |     C:\\Users\\manis\\AppData\\Roaming\\nltk_data...\n",
      "[nltk_data]    |   Package omw-1.4 is already up-to-date!\n",
      "[nltk_data]    | Downloading package opinion_lexicon to\n",
      "[nltk_data]    |     C:\\Users\\manis\\AppData\\Roaming\\nltk_data...\n",
      "[nltk_data]    |   Package opinion_lexicon is already up-to-date!\n",
      "[nltk_data]    | Downloading package panlex_swadesh to\n",
      "[nltk_data]    |     C:\\Users\\manis\\AppData\\Roaming\\nltk_data...\n",
      "[nltk_data]    |   Package panlex_swadesh is already up-to-date!\n",
      "[nltk_data]    | Downloading package paradigms to\n",
      "[nltk_data]    |     C:\\Users\\manis\\AppData\\Roaming\\nltk_data...\n",
      "[nltk_data]    |   Package paradigms is already up-to-date!\n",
      "[nltk_data]    | Downloading package pe08 to\n",
      "[nltk_data]    |     C:\\Users\\manis\\AppData\\Roaming\\nltk_data...\n",
      "[nltk_data]    |   Package pe08 is already up-to-date!\n",
      "[nltk_data]    | Downloading package perluniprops to\n",
      "[nltk_data]    |     C:\\Users\\manis\\AppData\\Roaming\\nltk_data...\n",
      "[nltk_data]    |   Package perluniprops is already up-to-date!\n",
      "[nltk_data]    | Downloading package pil to\n",
      "[nltk_data]    |     C:\\Users\\manis\\AppData\\Roaming\\nltk_data...\n",
      "[nltk_data]    |   Package pil is already up-to-date!\n",
      "[nltk_data]    | Downloading package pl196x to\n",
      "[nltk_data]    |     C:\\Users\\manis\\AppData\\Roaming\\nltk_data...\n",
      "[nltk_data]    |   Package pl196x is already up-to-date!\n",
      "[nltk_data]    | Downloading package porter_test to\n",
      "[nltk_data]    |     C:\\Users\\manis\\AppData\\Roaming\\nltk_data...\n",
      "[nltk_data]    |   Package porter_test is already up-to-date!\n",
      "[nltk_data]    | Downloading package ppattach to\n",
      "[nltk_data]    |     C:\\Users\\manis\\AppData\\Roaming\\nltk_data...\n",
      "[nltk_data]    |   Package ppattach is already up-to-date!\n",
      "[nltk_data]    | Downloading package problem_reports to\n",
      "[nltk_data]    |     C:\\Users\\manis\\AppData\\Roaming\\nltk_data...\n",
      "[nltk_data]    |   Package problem_reports is already up-to-date!\n",
      "[nltk_data]    | Downloading package product_reviews_1 to\n",
      "[nltk_data]    |     C:\\Users\\manis\\AppData\\Roaming\\nltk_data...\n",
      "[nltk_data]    |   Package product_reviews_1 is already up-to-date!\n",
      "[nltk_data]    | Downloading package product_reviews_2 to\n",
      "[nltk_data]    |     C:\\Users\\manis\\AppData\\Roaming\\nltk_data...\n",
      "[nltk_data]    |   Package product_reviews_2 is already up-to-date!\n",
      "[nltk_data]    | Downloading package propbank to\n",
      "[nltk_data]    |     C:\\Users\\manis\\AppData\\Roaming\\nltk_data...\n",
      "[nltk_data]    |   Package propbank is already up-to-date!\n",
      "[nltk_data]    | Downloading package pros_cons to\n",
      "[nltk_data]    |     C:\\Users\\manis\\AppData\\Roaming\\nltk_data...\n",
      "[nltk_data]    |   Package pros_cons is already up-to-date!\n",
      "[nltk_data]    | Downloading package ptb to\n",
      "[nltk_data]    |     C:\\Users\\manis\\AppData\\Roaming\\nltk_data...\n",
      "[nltk_data]    |   Package ptb is already up-to-date!\n",
      "[nltk_data]    | Downloading package punkt to\n",
      "[nltk_data]    |     C:\\Users\\manis\\AppData\\Roaming\\nltk_data...\n",
      "[nltk_data]    |   Package punkt is already up-to-date!\n",
      "[nltk_data]    | Downloading package qc to\n",
      "[nltk_data]    |     C:\\Users\\manis\\AppData\\Roaming\\nltk_data...\n",
      "[nltk_data]    |   Package qc is already up-to-date!\n",
      "[nltk_data]    | Downloading package reuters to\n",
      "[nltk_data]    |     C:\\Users\\manis\\AppData\\Roaming\\nltk_data...\n",
      "[nltk_data]    |   Package reuters is already up-to-date!\n",
      "[nltk_data]    | Downloading package rslp to\n",
      "[nltk_data]    |     C:\\Users\\manis\\AppData\\Roaming\\nltk_data...\n",
      "[nltk_data]    |   Package rslp is already up-to-date!\n",
      "[nltk_data]    | Downloading package rte to\n",
      "[nltk_data]    |     C:\\Users\\manis\\AppData\\Roaming\\nltk_data...\n",
      "[nltk_data]    |   Package rte is already up-to-date!\n",
      "[nltk_data]    | Downloading package sample_grammars to\n",
      "[nltk_data]    |     C:\\Users\\manis\\AppData\\Roaming\\nltk_data...\n",
      "[nltk_data]    |   Package sample_grammars is already up-to-date!\n",
      "[nltk_data]    | Downloading package semcor to\n",
      "[nltk_data]    |     C:\\Users\\manis\\AppData\\Roaming\\nltk_data...\n",
      "[nltk_data]    |   Package semcor is already up-to-date!\n",
      "[nltk_data]    | Downloading package senseval to\n",
      "[nltk_data]    |     C:\\Users\\manis\\AppData\\Roaming\\nltk_data...\n",
      "[nltk_data]    |   Package senseval is already up-to-date!\n",
      "[nltk_data]    | Downloading package sentence_polarity to\n",
      "[nltk_data]    |     C:\\Users\\manis\\AppData\\Roaming\\nltk_data...\n",
      "[nltk_data]    |   Package sentence_polarity is already up-to-date!\n",
      "[nltk_data]    | Downloading package sentiwordnet to\n",
      "[nltk_data]    |     C:\\Users\\manis\\AppData\\Roaming\\nltk_data...\n",
      "[nltk_data]    |   Package sentiwordnet is already up-to-date!\n",
      "[nltk_data]    | Downloading package shakespeare to\n",
      "[nltk_data]    |     C:\\Users\\manis\\AppData\\Roaming\\nltk_data...\n",
      "[nltk_data]    |   Package shakespeare is already up-to-date!\n",
      "[nltk_data]    | Downloading package sinica_treebank to\n",
      "[nltk_data]    |     C:\\Users\\manis\\AppData\\Roaming\\nltk_data...\n",
      "[nltk_data]    |   Package sinica_treebank is already up-to-date!\n",
      "[nltk_data]    | Downloading package smultron to\n",
      "[nltk_data]    |     C:\\Users\\manis\\AppData\\Roaming\\nltk_data...\n",
      "[nltk_data]    |   Package smultron is already up-to-date!\n",
      "[nltk_data]    | Downloading package snowball_data to\n",
      "[nltk_data]    |     C:\\Users\\manis\\AppData\\Roaming\\nltk_data...\n",
      "[nltk_data]    |   Package snowball_data is already up-to-date!\n",
      "[nltk_data]    | Downloading package spanish_grammars to\n",
      "[nltk_data]    |     C:\\Users\\manis\\AppData\\Roaming\\nltk_data...\n",
      "[nltk_data]    |   Package spanish_grammars is already up-to-date!\n",
      "[nltk_data]    | Downloading package state_union to\n",
      "[nltk_data]    |     C:\\Users\\manis\\AppData\\Roaming\\nltk_data...\n",
      "[nltk_data]    |   Package state_union is already up-to-date!\n",
      "[nltk_data]    | Downloading package stopwords to\n",
      "[nltk_data]    |     C:\\Users\\manis\\AppData\\Roaming\\nltk_data...\n",
      "[nltk_data]    |   Package stopwords is already up-to-date!\n",
      "[nltk_data]    | Downloading package subjectivity to\n",
      "[nltk_data]    |     C:\\Users\\manis\\AppData\\Roaming\\nltk_data...\n",
      "[nltk_data]    |   Package subjectivity is already up-to-date!\n",
      "[nltk_data]    | Downloading package swadesh to\n",
      "[nltk_data]    |     C:\\Users\\manis\\AppData\\Roaming\\nltk_data...\n",
      "[nltk_data]    |   Package swadesh is already up-to-date!\n",
      "[nltk_data]    | Downloading package switchboard to\n",
      "[nltk_data]    |     C:\\Users\\manis\\AppData\\Roaming\\nltk_data...\n",
      "[nltk_data]    |   Package switchboard is already up-to-date!\n",
      "[nltk_data]    | Downloading package tagsets to\n",
      "[nltk_data]    |     C:\\Users\\manis\\AppData\\Roaming\\nltk_data...\n",
      "[nltk_data]    |   Package tagsets is already up-to-date!\n",
      "[nltk_data]    | Downloading package timit to\n",
      "[nltk_data]    |     C:\\Users\\manis\\AppData\\Roaming\\nltk_data...\n",
      "[nltk_data]    |   Package timit is already up-to-date!\n",
      "[nltk_data]    | Downloading package toolbox to\n",
      "[nltk_data]    |     C:\\Users\\manis\\AppData\\Roaming\\nltk_data...\n",
      "[nltk_data]    |   Package toolbox is already up-to-date!\n",
      "[nltk_data]    | Downloading package treebank to\n",
      "[nltk_data]    |     C:\\Users\\manis\\AppData\\Roaming\\nltk_data...\n",
      "[nltk_data]    |   Package treebank is already up-to-date!\n",
      "[nltk_data]    | Downloading package twitter_samples to\n",
      "[nltk_data]    |     C:\\Users\\manis\\AppData\\Roaming\\nltk_data...\n",
      "[nltk_data]    |   Package twitter_samples is already up-to-date!\n",
      "[nltk_data]    | Downloading package udhr to\n",
      "[nltk_data]    |     C:\\Users\\manis\\AppData\\Roaming\\nltk_data...\n",
      "[nltk_data]    |   Package udhr is already up-to-date!\n",
      "[nltk_data]    | Downloading package udhr2 to\n",
      "[nltk_data]    |     C:\\Users\\manis\\AppData\\Roaming\\nltk_data...\n",
      "[nltk_data]    |   Package udhr2 is already up-to-date!\n",
      "[nltk_data]    | Downloading package unicode_samples to\n",
      "[nltk_data]    |     C:\\Users\\manis\\AppData\\Roaming\\nltk_data...\n",
      "[nltk_data]    |   Package unicode_samples is already up-to-date!\n",
      "[nltk_data]    | Downloading package universal_tagset to\n",
      "[nltk_data]    |     C:\\Users\\manis\\AppData\\Roaming\\nltk_data...\n",
      "[nltk_data]    |   Package universal_tagset is already up-to-date!\n",
      "[nltk_data]    | Downloading package universal_treebanks_v20 to\n",
      "[nltk_data]    |     C:\\Users\\manis\\AppData\\Roaming\\nltk_data...\n",
      "[nltk_data]    |   Package universal_treebanks_v20 is already up-to-\n",
      "[nltk_data]    |       date!\n",
      "[nltk_data]    | Downloading package vader_lexicon to\n",
      "[nltk_data]    |     C:\\Users\\manis\\AppData\\Roaming\\nltk_data...\n",
      "[nltk_data]    |   Package vader_lexicon is already up-to-date!\n",
      "[nltk_data]    | Downloading package verbnet to\n",
      "[nltk_data]    |     C:\\Users\\manis\\AppData\\Roaming\\nltk_data...\n",
      "[nltk_data]    |   Package verbnet is already up-to-date!\n",
      "[nltk_data]    | Downloading package verbnet3 to\n",
      "[nltk_data]    |     C:\\Users\\manis\\AppData\\Roaming\\nltk_data...\n",
      "[nltk_data]    |   Package verbnet3 is already up-to-date!\n",
      "[nltk_data]    | Downloading package webtext to\n",
      "[nltk_data]    |     C:\\Users\\manis\\AppData\\Roaming\\nltk_data...\n",
      "[nltk_data]    |   Package webtext is already up-to-date!\n",
      "[nltk_data]    | Downloading package wmt15_eval to\n",
      "[nltk_data]    |     C:\\Users\\manis\\AppData\\Roaming\\nltk_data...\n",
      "[nltk_data]    |   Package wmt15_eval is already up-to-date!\n",
      "[nltk_data]    | Downloading package word2vec_sample to\n",
      "[nltk_data]    |     C:\\Users\\manis\\AppData\\Roaming\\nltk_data...\n",
      "[nltk_data]    |   Package word2vec_sample is already up-to-date!\n",
      "[nltk_data]    | Downloading package wordnet to\n",
      "[nltk_data]    |     C:\\Users\\manis\\AppData\\Roaming\\nltk_data...\n",
      "[nltk_data]    |   Package wordnet is already up-to-date!\n",
      "[nltk_data]    | Downloading package wordnet2021 to\n",
      "[nltk_data]    |     C:\\Users\\manis\\AppData\\Roaming\\nltk_data...\n",
      "[nltk_data]    |   Package wordnet2021 is already up-to-date!\n",
      "[nltk_data]    | Downloading package wordnet2022 to\n",
      "[nltk_data]    |     C:\\Users\\manis\\AppData\\Roaming\\nltk_data...\n",
      "[nltk_data]    |   Package wordnet2022 is already up-to-date!\n",
      "[nltk_data]    | Downloading package wordnet31 to\n",
      "[nltk_data]    |     C:\\Users\\manis\\AppData\\Roaming\\nltk_data...\n",
      "[nltk_data]    |   Package wordnet31 is already up-to-date!\n",
      "[nltk_data]    | Downloading package wordnet_ic to\n",
      "[nltk_data]    |     C:\\Users\\manis\\AppData\\Roaming\\nltk_data...\n",
      "[nltk_data]    |   Package wordnet_ic is already up-to-date!\n",
      "[nltk_data]    | Downloading package words to\n",
      "[nltk_data]    |     C:\\Users\\manis\\AppData\\Roaming\\nltk_data...\n",
      "[nltk_data]    |   Package words is already up-to-date!\n",
      "[nltk_data]    | Downloading package ycoe to\n",
      "[nltk_data]    |     C:\\Users\\manis\\AppData\\Roaming\\nltk_data...\n",
      "[nltk_data]    |   Package ycoe is already up-to-date!\n",
      "[nltk_data]    | \n",
      "[nltk_data]  Done downloading collection all\n"
     ]
    }
   ],
   "source": [
    "# # Importing necessary libraries \n",
    "import re\n",
    "import nltk\n",
    "import requests\n",
    "import numpy as np\n",
    "import pandas as pd\n",
    "from bs4 import BeautifulSoup\n",
    "import matplotlib.pyplot as plt\n",
    "import seaborn as sns\n",
    "import time\n",
    "\n",
    "\n",
    "nltk.download(\"all\")\n",
    "\n",
    "import string\n",
    "from nltk.corpus import stopwords\n",
    "from nltk.tokenize import word_tokenize, sent_tokenize\n",
    "\n",
    "import warnings\n",
    "warnings.filterwarnings('ignore')"
   ]
  },
  {
   "cell_type": "code",
   "execution_count": 2,
   "metadata": {},
   "outputs": [],
   "source": [
    "#unzipping the data that is downloaded\n",
    "\n",
    "# importing the \"tarfile\" module\n",
    "import tarfile\n",
    "\n",
    "# open file\n",
    "file = tarfile.open('review_polarity.tar.gz')\n",
    "  \n",
    "# extracting file\n",
    "file.extractall('./review_polarity')\n",
    "  \n",
    "file.close()"
   ]
  },
  {
   "cell_type": "markdown",
   "metadata": {
    "id": "OPf_T_OnUb_H"
   },
   "source": [
    "# 2. Data Preparation & Cleaning "
   ]
  },
  {
   "cell_type": "markdown",
   "metadata": {},
   "source": [
    "### Approach\n",
    "\n",
    "\n",
    "1. Import the necessary libraries:\n",
    "2. requests: to send HTTP requests and retrieve the response\n",
    "3. BeautifulSoup: to parse the HTML data\n",
    "4. pandas: to create and manipulate data in a DataFrame\n",
    "5. Define a function get_file_names(url) that takes a URL as an argument, retrieves the HTML data from the URL, and returns a list of file names with the .txt extension found in the HTML text.\n",
    "6. Define the URLs where the negative and positive movie reviews are stored.\n",
    "7. Call the get_file_names(url) function for both URLs to retrieve the file names for the negative and positive movie reviews.\n",
    "8. Fetch the positive and negative reviews by sending a GET request to the URL where the reviews are stored and retrieve the text content of each file.\n",
    "9. Append the text content and label \"Pos\" or \"Neg\" to separate lists for positive and negative reviews.\n",
    "10. Create a DataFrame for reviews by concatenating the positive and negative reviews using Pandas DataFrame() method.\n",
    "11. Reset the index of the DataFrame and drop the \"index\" column.\n",
    "12. Display the first few rows of the DataFrame using the head() method.\n",
    "13. Analyze the data to gain insights or train a machine learning model.\n",
    "14. The stopwords.words('english') method is used to create a list of English language stop words.\n",
    "15. The remove_stop_punc(sent) function is defined. This function takes a sentence as input, converts it to lowercase, tokenizes it, and removes stop words and punctuations from the tokenized words using the stop words list created in step 2.The function returns a list of cleaned words.\n",
    "16. The remove_stop_punc function is then applied to each review in the DataFrame using the apply method and the cleaned reviews are stored in the 'Review' column of the same DataFrame.\n",
    "17. Finally, the time taken to remove stop words and punctuations is calculated and printed.\n"
   ]
  },
  {
   "cell_type": "markdown",
   "metadata": {
    "id": "EnqHENHslkGD"
   },
   "source": [
    "# Fecthing the file names from the Github directory"
   ]
  },
  {
   "cell_type": "code",
   "execution_count": 3,
   "metadata": {
    "colab": {
     "base_uri": "https://localhost:8080/"
    },
    "id": "JJV2Fa3-lhKz",
    "outputId": "66a6b059-5f92-4d81-da5b-96a3dbaa5083"
   },
   "outputs": [
    {
     "name": "stdout",
     "output_type": "stream",
     "text": [
      "The total number of movie review files retrieved is 2000.\n"
     ]
    }
   ],
   "source": [
    "def get_file_names(url):\n",
    "    \"\"\"\n",
    "    This function takes a URL as an argument, retrieves the HTML data from the URL, and returns a list of file names \n",
    "    with the .txt extension found in the HTML text.\n",
    "    \"\"\"\n",
    "    result = requests.get(url)  # Send a GET request to the URL to retrieve the HTML data\n",
    "\n",
    "    soup = BeautifulSoup(result.text, 'html.parser')  # Parse the HTML data using BeautifulSoup\n",
    "\n",
    "    # Find all the elements with the title attribute containing .txt using regular expressions\n",
    "    txt_files = soup.find_all(title=re.compile(\"\\.txt\"))\n",
    "\n",
    "    # Extract the text from each element, and add it to a list of file names\n",
    "    file_names = []\n",
    "    for file in txt_files:\n",
    "        file_names.append(file.extract().get_text())\n",
    "\n",
    "    return file_names  # Return the list of file names\n",
    "\n",
    "# Define the URLs where the negative and positive movie reviews are stored\n",
    "neg_url = 'https://github.com/ManishKumarYeshiva/Data-Acquisition-Management/tree/main/review_polarity/txt_sentoken/neg'\n",
    "pos_url = 'https://github.com/ManishKumarYeshiva/Data-Acquisition-Management/tree/main/review_polarity/txt_sentoken/pos'\n",
    "\n",
    "# Retrieve the file names for the negative and positive movie reviews using the get_file_names function\n",
    "positive_files = get_file_names(pos_url)\n",
    "negative_files = get_file_names(neg_url)\n",
    "\n",
    "# Check the total number of files retrieved by adding the lengths of the positive and negative file lists\n",
    "total_files = len(positive_files) + len(negative_files)\n",
    "\n",
    "# Print the total number of files retrieved using formatted text\n",
    "print(\"The total number of movie review files retrieved is {}.\".format(total_files))"
   ]
  },
  {
   "cell_type": "markdown",
   "metadata": {
    "id": "8gRt6QbQlLch"
   },
   "source": [
    "### Fetching the reviews from Github repository."
   ]
  },
  {
   "cell_type": "code",
   "execution_count": null,
   "metadata": {
    "id": "Od-hIHXHnm7l"
   },
   "outputs": [],
   "source": [
    "# Fetching Positive Reviews\n",
    "positive_reviews = []\n",
    "\n",
    "for file_name in positive_files:\n",
    "    # Send a GET request to the URL where the positive reviews are stored to retrieve the text content of each file\n",
    "    response = requests.get(f'https://github.com/ManishKumarYeshiva/Data-Acquisition-Management/tree/main/review_polarity/txt_sentoken/pos/{file_name}')\n",
    "    # Append the text content and label \"Pos\" to the positive_reviews list\n",
    "    positive_reviews.append([response.text, \"Pos\"])\n",
    "\n",
    "# Fetching Negative Reviews\n",
    "negative_reviews = []\n",
    "\n",
    "for file_name in negative_files:\n",
    "    # Send a GET request to the URL where the negative reviews are stored to retrieve the text content of each file\n",
    "    response = requests.get(f'https://github.com/ManishKumarYeshiva/Data-Acquisition-Management/tree/main/review_polarity/txt_sentoken/neg/{file_name}')\n",
    "    # Append the text content and label \"Neg\" to the negative_reviews list\n",
    "    negative_reviews.append([response.text, \"Neg\"])"
   ]
  },
  {
   "cell_type": "markdown",
   "metadata": {
    "id": "iuU6AlWwnL7B"
   },
   "source": [
    "# Create dataframe that provides all movie reviews"
   ]
  },
  {
   "cell_type": "code",
   "execution_count": 20,
   "metadata": {
    "colab": {
     "base_uri": "https://localhost:8080/",
     "height": 206
    },
    "id": "GlWTiR_1lCg9",
    "outputId": "d6aa9c3d-f982-4b8b-94bc-7c1f1354c1f9"
   },
   "outputs": [
    {
     "data": {
      "text/html": [
       "<div>\n",
       "<style scoped>\n",
       "    .dataframe tbody tr th:only-of-type {\n",
       "        vertical-align: middle;\n",
       "    }\n",
       "\n",
       "    .dataframe tbody tr th {\n",
       "        vertical-align: top;\n",
       "    }\n",
       "\n",
       "    .dataframe thead th {\n",
       "        text-align: right;\n",
       "    }\n",
       "</style>\n",
       "<table border=\"1\" class=\"dataframe\">\n",
       "  <thead>\n",
       "    <tr style=\"text-align: right;\">\n",
       "      <th></th>\n",
       "      <th>Review</th>\n",
       "      <th>Sentiment</th>\n",
       "    </tr>\n",
       "  </thead>\n",
       "  <tbody>\n",
       "    <tr>\n",
       "      <th>0</th>\n",
       "      <td>plot : two teen couples go to a church party ,...</td>\n",
       "      <td>Neg</td>\n",
       "    </tr>\n",
       "    <tr>\n",
       "      <th>1</th>\n",
       "      <td>the happy bastard's quick movie review \\ndamn ...</td>\n",
       "      <td>Neg</td>\n",
       "    </tr>\n",
       "    <tr>\n",
       "      <th>2</th>\n",
       "      <td>it is movies like these that make a jaded movi...</td>\n",
       "      <td>Neg</td>\n",
       "    </tr>\n",
       "    <tr>\n",
       "      <th>3</th>\n",
       "      <td>\" quest for camelot \" is warner bros . ' firs...</td>\n",
       "      <td>Neg</td>\n",
       "    </tr>\n",
       "    <tr>\n",
       "      <th>4</th>\n",
       "      <td>synopsis : a mentally unstable man undergoing ...</td>\n",
       "      <td>Neg</td>\n",
       "    </tr>\n",
       "  </tbody>\n",
       "</table>\n",
       "</div>"
      ],
      "text/plain": [
       "                                              Review Sentiment\n",
       "0  plot : two teen couples go to a church party ,...       Neg\n",
       "1  the happy bastard's quick movie review \\ndamn ...       Neg\n",
       "2  it is movies like these that make a jaded movi...       Neg\n",
       "3   \" quest for camelot \" is warner bros . ' firs...       Neg\n",
       "4  synopsis : a mentally unstable man undergoing ...       Neg"
      ]
     },
     "execution_count": 20,
     "metadata": {},
     "output_type": "execute_result"
    }
   ],
   "source": [
    "# Creating a DataFrame for Reviews\n",
    "reviews_df = pd.DataFrame(negative_reviews, columns=[\"Review\", \"Sentiment\"]).append(pd.DataFrame(positive_reviews, columns=['Review','Sentiment']))\n",
    "# Reset the index\n",
    "reviews_df.reset_index(inplace=True)\n",
    "# Drop the index column\n",
    "reviews_df.drop(\"index\", axis=1, inplace=True)\n",
    "# Display the first few rows of the DataFrame\n",
    "reviews_df.head()"
   ]
  },
  {
   "cell_type": "markdown",
   "metadata": {
    "id": "irtPW_JNnZOy"
   },
   "source": [
    "1. **Stop Words removal**\n",
    "2. **Punctuation Removal**"
   ]
  },
  {
   "cell_type": "markdown",
   "metadata": {},
   "source": [
    "- The stopwords module from the NLTK library contains a list of common words that are often considered \"stopwords\" in natural language processing. These are words that are frequently used in language, but do not carry much meaning or significance in text analysis, such as \"a\", \"an\", \"the\", \"is\", \"and\", \"or\", etc.\n",
    "\n",
    "- By calling stopwords.words('english'), we can retrieve a list of stopwords specifically for the English language, which can be useful for text cleaning and analysis purposes."
   ]
  },
  {
   "cell_type": "code",
   "execution_count": 21,
   "metadata": {
    "id": "U8g6sWYGnbWW"
   },
   "outputs": [],
   "source": [
    "en_stops = stopwords.words('english')"
   ]
  },
  {
   "cell_type": "markdown",
   "metadata": {
    "id": "qIwg7kgutny3"
   },
   "source": [
    "## Part 1: Removing stop words and punctuation."
   ]
  },
  {
   "cell_type": "code",
   "execution_count": 43,
   "metadata": {
    "id": "jE-06Xz4pm23"
   },
   "outputs": [],
   "source": [
    "def remove_stop_punc(sent):\n",
    "    ''' \n",
    "    This function removes Englsih language stop words and punctuations from\n",
    "    a provided list of reviews.\n",
    "    '''\n",
    "\n",
    "    # define a new list to store the words we will retain from the 'words' list\n",
    "    words_clean = []\n",
    "    words=word_tokenize(sent.lower())\n",
    "    \n",
    "    for word in words:\n",
    "\n",
    "    #filter from stop words and punctuation\n",
    "    #NLTK word tokenizer accepts '' as ``, but we do not need it also\n",
    "        if word not in en_stops and word.isalpha():\n",
    "            words_clean.append(word)\n",
    "    return words_clean\n",
    "     "
   ]
  },
  {
   "cell_type": "code",
   "execution_count": 44,
   "metadata": {
    "colab": {
     "base_uri": "https://localhost:8080/",
     "height": 242
    },
    "id": "mXcklatsp7vq",
    "outputId": "f8a94f6c-ee1a-4b2f-bd12-2a0f76749d95"
   },
   "outputs": [
    {
     "name": "stdout",
     "output_type": "stream",
     "text": [
      "Time taken to remove stop words and punctuation: 5.227021932601929 seconds\n"
     ]
    },
    {
     "data": {
      "text/html": [
       "<div>\n",
       "<style scoped>\n",
       "    .dataframe tbody tr th:only-of-type {\n",
       "        vertical-align: middle;\n",
       "    }\n",
       "\n",
       "    .dataframe tbody tr th {\n",
       "        vertical-align: top;\n",
       "    }\n",
       "\n",
       "    .dataframe thead th {\n",
       "        text-align: right;\n",
       "    }\n",
       "</style>\n",
       "<table border=\"1\" class=\"dataframe\">\n",
       "  <thead>\n",
       "    <tr style=\"text-align: right;\">\n",
       "      <th></th>\n",
       "      <th>Review</th>\n",
       "      <th>Sentiment</th>\n",
       "    </tr>\n",
       "  </thead>\n",
       "  <tbody>\n",
       "    <tr>\n",
       "      <th>0</th>\n",
       "      <td>[plot, two, teen, couples, go, church, party, ...</td>\n",
       "      <td>Neg</td>\n",
       "    </tr>\n",
       "    <tr>\n",
       "      <th>1</th>\n",
       "      <td>[happy, bastard, quick, movie, review, damn, b...</td>\n",
       "      <td>Neg</td>\n",
       "    </tr>\n",
       "    <tr>\n",
       "      <th>2</th>\n",
       "      <td>[movies, like, make, jaded, movie, viewer, tha...</td>\n",
       "      <td>Neg</td>\n",
       "    </tr>\n",
       "    <tr>\n",
       "      <th>3</th>\n",
       "      <td>[quest, camelot, warner, bros, first, attempt,...</td>\n",
       "      <td>Neg</td>\n",
       "    </tr>\n",
       "    <tr>\n",
       "      <th>4</th>\n",
       "      <td>[synopsis, mentally, unstable, man, undergoing...</td>\n",
       "      <td>Neg</td>\n",
       "    </tr>\n",
       "  </tbody>\n",
       "</table>\n",
       "</div>"
      ],
      "text/plain": [
       "                                              Review Sentiment\n",
       "0  [plot, two, teen, couples, go, church, party, ...       Neg\n",
       "1  [happy, bastard, quick, movie, review, damn, b...       Neg\n",
       "2  [movies, like, make, jaded, movie, viewer, tha...       Neg\n",
       "3  [quest, camelot, warner, bros, first, attempt,...       Neg\n",
       "4  [synopsis, mentally, unstable, man, undergoing...       Neg"
      ]
     },
     "execution_count": 44,
     "metadata": {},
     "output_type": "execute_result"
    }
   ],
   "source": [
    "\n",
    "# Apply remove_stop_punc function to each review in the DataFrame\n",
    "start = time.time()\n",
    "reviews_df['Review'] = reviews_df['Review'].apply(remove_stop_punc)\n",
    "end = time.time()\n",
    "print(\"Time taken to remove stop words and punctuation:\", end - start, \"seconds\")\n",
    "reviews_df.head()"
   ]
  },
  {
   "cell_type": "markdown",
   "metadata": {},
   "source": [
    "# 3. Calculate Matrix Sparsity "
   ]
  },
  {
   "cell_type": "markdown",
   "metadata": {},
   "source": [
    "### Approach\n",
    "\n",
    "1. The corpus variable is created by exploding the 'Review' column of the DataFrame.\n",
    "2. The np.unique() method is used to get unique words and their corresponding counts in the first review.\n",
    "3. The positive_files and negative_files lists are created by concatenating the file names retrieved using the get_file_names() function.\n",
    "4. The np.unique() method is used to get unique words in the 'Review' column of the DataFrame.\n",
    "5. The term_document_matrix DataFrame is created with rows indexed by unique words and columns indexed by review indices. The DataFrame is initialized with 0s.\n",
    "6. A loop is used to populate the term document matrix. For each review, a pandas series is created with word counts. The value_counts() method is used to count the number of times each word appears in the review. The series is used to populate the appropriate columns of the term document matrix.\n",
    "7. Finally, the time taken to create the term document matrix is calculated using the %%time magic command and printed.\n",
    "8. Convert the term-document matrix term_document_matrix to a numpy array using the to_numpy() method and assigns it to the variable tdm.\n",
    "9. Calculate the sparsity of the TDM by first counting the number of nonzero elements in the array using the np.count_nonzero() method, and then dividing it by the total number of elements in the array using the tdm.size attribute.\n",
    "\n",
    "\n"
   ]
  },
  {
   "cell_type": "code",
   "execution_count": 50,
   "metadata": {},
   "outputs": [
    {
     "data": {
      "text/html": [
       "<div>\n",
       "<style scoped>\n",
       "    .dataframe tbody tr th:only-of-type {\n",
       "        vertical-align: middle;\n",
       "    }\n",
       "\n",
       "    .dataframe tbody tr th {\n",
       "        vertical-align: top;\n",
       "    }\n",
       "\n",
       "    .dataframe thead th {\n",
       "        text-align: right;\n",
       "    }\n",
       "</style>\n",
       "<table border=\"1\" class=\"dataframe\">\n",
       "  <thead>\n",
       "    <tr style=\"text-align: right;\">\n",
       "      <th></th>\n",
       "      <th>0</th>\n",
       "      <th>1</th>\n",
       "      <th>2</th>\n",
       "      <th>3</th>\n",
       "      <th>4</th>\n",
       "      <th>5</th>\n",
       "      <th>6</th>\n",
       "      <th>7</th>\n",
       "      <th>8</th>\n",
       "      <th>9</th>\n",
       "      <th>...</th>\n",
       "      <th>1990</th>\n",
       "      <th>1991</th>\n",
       "      <th>1992</th>\n",
       "      <th>1993</th>\n",
       "      <th>1994</th>\n",
       "      <th>1995</th>\n",
       "      <th>1996</th>\n",
       "      <th>1997</th>\n",
       "      <th>1998</th>\n",
       "      <th>1999</th>\n",
       "    </tr>\n",
       "  </thead>\n",
       "  <tbody>\n",
       "    <tr>\n",
       "      <th>aa</th>\n",
       "      <td>0</td>\n",
       "      <td>0</td>\n",
       "      <td>0</td>\n",
       "      <td>0</td>\n",
       "      <td>0</td>\n",
       "      <td>0</td>\n",
       "      <td>0</td>\n",
       "      <td>0</td>\n",
       "      <td>0</td>\n",
       "      <td>0</td>\n",
       "      <td>...</td>\n",
       "      <td>0</td>\n",
       "      <td>0</td>\n",
       "      <td>0</td>\n",
       "      <td>0</td>\n",
       "      <td>0</td>\n",
       "      <td>0</td>\n",
       "      <td>0</td>\n",
       "      <td>0</td>\n",
       "      <td>0</td>\n",
       "      <td>0</td>\n",
       "    </tr>\n",
       "    <tr>\n",
       "      <th>aaa</th>\n",
       "      <td>0</td>\n",
       "      <td>0</td>\n",
       "      <td>0</td>\n",
       "      <td>0</td>\n",
       "      <td>0</td>\n",
       "      <td>0</td>\n",
       "      <td>0</td>\n",
       "      <td>0</td>\n",
       "      <td>0</td>\n",
       "      <td>0</td>\n",
       "      <td>...</td>\n",
       "      <td>0</td>\n",
       "      <td>0</td>\n",
       "      <td>0</td>\n",
       "      <td>0</td>\n",
       "      <td>0</td>\n",
       "      <td>0</td>\n",
       "      <td>0</td>\n",
       "      <td>0</td>\n",
       "      <td>0</td>\n",
       "      <td>0</td>\n",
       "    </tr>\n",
       "    <tr>\n",
       "      <th>aaaaaaaaah</th>\n",
       "      <td>0</td>\n",
       "      <td>0</td>\n",
       "      <td>0</td>\n",
       "      <td>0</td>\n",
       "      <td>0</td>\n",
       "      <td>0</td>\n",
       "      <td>0</td>\n",
       "      <td>0</td>\n",
       "      <td>0</td>\n",
       "      <td>0</td>\n",
       "      <td>...</td>\n",
       "      <td>0</td>\n",
       "      <td>0</td>\n",
       "      <td>0</td>\n",
       "      <td>0</td>\n",
       "      <td>0</td>\n",
       "      <td>0</td>\n",
       "      <td>0</td>\n",
       "      <td>0</td>\n",
       "      <td>0</td>\n",
       "      <td>0</td>\n",
       "    </tr>\n",
       "    <tr>\n",
       "      <th>aaaaaaaahhhh</th>\n",
       "      <td>0</td>\n",
       "      <td>0</td>\n",
       "      <td>0</td>\n",
       "      <td>0</td>\n",
       "      <td>0</td>\n",
       "      <td>0</td>\n",
       "      <td>0</td>\n",
       "      <td>0</td>\n",
       "      <td>0</td>\n",
       "      <td>0</td>\n",
       "      <td>...</td>\n",
       "      <td>0</td>\n",
       "      <td>0</td>\n",
       "      <td>0</td>\n",
       "      <td>0</td>\n",
       "      <td>0</td>\n",
       "      <td>0</td>\n",
       "      <td>0</td>\n",
       "      <td>0</td>\n",
       "      <td>0</td>\n",
       "      <td>0</td>\n",
       "    </tr>\n",
       "    <tr>\n",
       "      <th>aaaaaah</th>\n",
       "      <td>0</td>\n",
       "      <td>0</td>\n",
       "      <td>0</td>\n",
       "      <td>0</td>\n",
       "      <td>0</td>\n",
       "      <td>0</td>\n",
       "      <td>0</td>\n",
       "      <td>0</td>\n",
       "      <td>0</td>\n",
       "      <td>0</td>\n",
       "      <td>...</td>\n",
       "      <td>0</td>\n",
       "      <td>0</td>\n",
       "      <td>0</td>\n",
       "      <td>0</td>\n",
       "      <td>0</td>\n",
       "      <td>0</td>\n",
       "      <td>0</td>\n",
       "      <td>0</td>\n",
       "      <td>0</td>\n",
       "      <td>0</td>\n",
       "    </tr>\n",
       "  </tbody>\n",
       "</table>\n",
       "<p>5 rows × 2000 columns</p>\n",
       "</div>"
      ],
      "text/plain": [
       "              0     1     2     3     4     5     6     7     8     9     ...  \\\n",
       "aa               0     0     0     0     0     0     0     0     0     0  ...   \n",
       "aaa              0     0     0     0     0     0     0     0     0     0  ...   \n",
       "aaaaaaaaah       0     0     0     0     0     0     0     0     0     0  ...   \n",
       "aaaaaaaahhhh     0     0     0     0     0     0     0     0     0     0  ...   \n",
       "aaaaaah          0     0     0     0     0     0     0     0     0     0  ...   \n",
       "\n",
       "              1990  1991  1992  1993  1994  1995  1996  1997  1998  1999  \n",
       "aa               0     0     0     0     0     0     0     0     0     0  \n",
       "aaa              0     0     0     0     0     0     0     0     0     0  \n",
       "aaaaaaaaah       0     0     0     0     0     0     0     0     0     0  \n",
       "aaaaaaaahhhh     0     0     0     0     0     0     0     0     0     0  \n",
       "aaaaaah          0     0     0     0     0     0     0     0     0     0  \n",
       "\n",
       "[5 rows x 2000 columns]"
      ]
     },
     "execution_count": 50,
     "metadata": {},
     "output_type": "execute_result"
    }
   ],
   "source": [
    "corpus = reviews_df.Review.explode(ignore_index=True)\n",
    "     \n",
    "vals, counts  = np.unique(reviews_df.Review[0], return_counts=True)\n",
    "\n",
    "all_files = []\n",
    "all_files.extend(positive_files)\n",
    "all_files.extend(negative_files)\n",
    "\n",
    "unique_words = np.unique(reviews_df['Review'].explode(ignore_index=True))\n",
    "term_document_matrix = pd.DataFrame(index = unique_words, columns = reviews_df.index ).fillna(0)\n",
    "term_document_matrix.fillna(0, inplace=True)\n",
    "     \n",
    "\n",
    "term_document_matrix.head()"
   ]
  },
  {
   "cell_type": "code",
   "execution_count": 51,
   "metadata": {
    "colab": {
     "base_uri": "https://localhost:8080/",
     "height": 271
    },
    "id": "IaulWmrq-H0C",
    "outputId": "2d42dce9-cbc6-41b9-db48-a892ac95c9f1"
   },
   "outputs": [
    {
     "name": "stdout",
     "output_type": "stream",
     "text": [
      "Wall time: 17 s\n"
     ]
    },
    {
     "data": {
      "text/html": [
       "<div>\n",
       "<style scoped>\n",
       "    .dataframe tbody tr th:only-of-type {\n",
       "        vertical-align: middle;\n",
       "    }\n",
       "\n",
       "    .dataframe tbody tr th {\n",
       "        vertical-align: top;\n",
       "    }\n",
       "\n",
       "    .dataframe thead th {\n",
       "        text-align: right;\n",
       "    }\n",
       "</style>\n",
       "<table border=\"1\" class=\"dataframe\">\n",
       "  <thead>\n",
       "    <tr style=\"text-align: right;\">\n",
       "      <th></th>\n",
       "      <th>0</th>\n",
       "      <th>1</th>\n",
       "      <th>2</th>\n",
       "      <th>3</th>\n",
       "      <th>4</th>\n",
       "      <th>5</th>\n",
       "      <th>6</th>\n",
       "      <th>7</th>\n",
       "      <th>8</th>\n",
       "      <th>9</th>\n",
       "      <th>...</th>\n",
       "      <th>1990</th>\n",
       "      <th>1991</th>\n",
       "      <th>1992</th>\n",
       "      <th>1993</th>\n",
       "      <th>1994</th>\n",
       "      <th>1995</th>\n",
       "      <th>1996</th>\n",
       "      <th>1997</th>\n",
       "      <th>1998</th>\n",
       "      <th>1999</th>\n",
       "    </tr>\n",
       "  </thead>\n",
       "  <tbody>\n",
       "    <tr>\n",
       "      <th>aa</th>\n",
       "      <td>0</td>\n",
       "      <td>0</td>\n",
       "      <td>0</td>\n",
       "      <td>0</td>\n",
       "      <td>0</td>\n",
       "      <td>0</td>\n",
       "      <td>0</td>\n",
       "      <td>0</td>\n",
       "      <td>0</td>\n",
       "      <td>0</td>\n",
       "      <td>...</td>\n",
       "      <td>0</td>\n",
       "      <td>0</td>\n",
       "      <td>0</td>\n",
       "      <td>0</td>\n",
       "      <td>0</td>\n",
       "      <td>0</td>\n",
       "      <td>0</td>\n",
       "      <td>0</td>\n",
       "      <td>0</td>\n",
       "      <td>0</td>\n",
       "    </tr>\n",
       "    <tr>\n",
       "      <th>aaa</th>\n",
       "      <td>0</td>\n",
       "      <td>0</td>\n",
       "      <td>0</td>\n",
       "      <td>0</td>\n",
       "      <td>0</td>\n",
       "      <td>0</td>\n",
       "      <td>0</td>\n",
       "      <td>0</td>\n",
       "      <td>0</td>\n",
       "      <td>0</td>\n",
       "      <td>...</td>\n",
       "      <td>0</td>\n",
       "      <td>0</td>\n",
       "      <td>0</td>\n",
       "      <td>0</td>\n",
       "      <td>0</td>\n",
       "      <td>0</td>\n",
       "      <td>0</td>\n",
       "      <td>0</td>\n",
       "      <td>0</td>\n",
       "      <td>0</td>\n",
       "    </tr>\n",
       "    <tr>\n",
       "      <th>aaaaaaaaah</th>\n",
       "      <td>0</td>\n",
       "      <td>0</td>\n",
       "      <td>0</td>\n",
       "      <td>0</td>\n",
       "      <td>0</td>\n",
       "      <td>0</td>\n",
       "      <td>0</td>\n",
       "      <td>0</td>\n",
       "      <td>0</td>\n",
       "      <td>0</td>\n",
       "      <td>...</td>\n",
       "      <td>0</td>\n",
       "      <td>0</td>\n",
       "      <td>0</td>\n",
       "      <td>0</td>\n",
       "      <td>0</td>\n",
       "      <td>0</td>\n",
       "      <td>0</td>\n",
       "      <td>0</td>\n",
       "      <td>0</td>\n",
       "      <td>0</td>\n",
       "    </tr>\n",
       "    <tr>\n",
       "      <th>aaaaaaaahhhh</th>\n",
       "      <td>0</td>\n",
       "      <td>0</td>\n",
       "      <td>0</td>\n",
       "      <td>0</td>\n",
       "      <td>0</td>\n",
       "      <td>0</td>\n",
       "      <td>0</td>\n",
       "      <td>0</td>\n",
       "      <td>0</td>\n",
       "      <td>0</td>\n",
       "      <td>...</td>\n",
       "      <td>0</td>\n",
       "      <td>0</td>\n",
       "      <td>0</td>\n",
       "      <td>0</td>\n",
       "      <td>0</td>\n",
       "      <td>0</td>\n",
       "      <td>0</td>\n",
       "      <td>0</td>\n",
       "      <td>0</td>\n",
       "      <td>0</td>\n",
       "    </tr>\n",
       "    <tr>\n",
       "      <th>aaaaaah</th>\n",
       "      <td>0</td>\n",
       "      <td>0</td>\n",
       "      <td>0</td>\n",
       "      <td>0</td>\n",
       "      <td>0</td>\n",
       "      <td>0</td>\n",
       "      <td>0</td>\n",
       "      <td>0</td>\n",
       "      <td>0</td>\n",
       "      <td>0</td>\n",
       "      <td>...</td>\n",
       "      <td>0</td>\n",
       "      <td>0</td>\n",
       "      <td>0</td>\n",
       "      <td>0</td>\n",
       "      <td>0</td>\n",
       "      <td>0</td>\n",
       "      <td>0</td>\n",
       "      <td>0</td>\n",
       "      <td>0</td>\n",
       "      <td>0</td>\n",
       "    </tr>\n",
       "  </tbody>\n",
       "</table>\n",
       "<p>5 rows × 2000 columns</p>\n",
       "</div>"
      ],
      "text/plain": [
       "              0     1     2     3     4     5     6     7     8     9     ...  \\\n",
       "aa               0     0     0     0     0     0     0     0     0     0  ...   \n",
       "aaa              0     0     0     0     0     0     0     0     0     0  ...   \n",
       "aaaaaaaaah       0     0     0     0     0     0     0     0     0     0  ...   \n",
       "aaaaaaaahhhh     0     0     0     0     0     0     0     0     0     0  ...   \n",
       "aaaaaah          0     0     0     0     0     0     0     0     0     0  ...   \n",
       "\n",
       "              1990  1991  1992  1993  1994  1995  1996  1997  1998  1999  \n",
       "aa               0     0     0     0     0     0     0     0     0     0  \n",
       "aaa              0     0     0     0     0     0     0     0     0     0  \n",
       "aaaaaaaaah       0     0     0     0     0     0     0     0     0     0  \n",
       "aaaaaaaahhhh     0     0     0     0     0     0     0     0     0     0  \n",
       "aaaaaah          0     0     0     0     0     0     0     0     0     0  \n",
       "\n",
       "[5 rows x 2000 columns]"
      ]
     },
     "execution_count": 51,
     "metadata": {},
     "output_type": "execute_result"
    }
   ],
   "source": [
    "%%time\n",
    "for i,j in enumerate(reviews_df.Review):\n",
    "    vl_count=pd.Series(j).value_counts()\n",
    "\n",
    "    term_document_matrix.loc[term_document_matrix.index.isin(list(vl_count.index)),TDM.columns[i]]= list(vl_count.values)\n",
    "\n",
    "term_document_matrix.head()"
   ]
  },
  {
   "cell_type": "markdown",
   "metadata": {
    "id": "Iv_ZdWJelIYJ"
   },
   "source": [
    "## Part 2: Sparsity of the Term Document matrix"
   ]
  },
  {
   "cell_type": "code",
   "execution_count": 52,
   "metadata": {
    "colab": {
     "base_uri": "https://localhost:8080/"
    },
    "id": "pP1xQcnUgIni",
    "outputId": "761620e0-7a2f-4f05-ba7c-bb31eaf29a81"
   },
   "outputs": [
    {
     "data": {
      "text/plain": [
       "0.993218544965877"
      ]
     },
     "execution_count": 52,
     "metadata": {},
     "output_type": "execute_result"
    }
   ],
   "source": [
    "tdm = term_document_matrix.to_numpy()\n",
    "sparsity = 1.0 - ( np.count_nonzero(tdm) / tdm.size)\n",
    "sparsity"
   ]
  },
  {
   "cell_type": "markdown",
   "metadata": {},
   "source": [
    "### Inference : \n",
    "- The resulting sparsity value indicates the proportion of zero elements in the matrix and can be used as a measure of the density of the matrix.\n",
    "- In above case, the calculated sparsity value is 0.993218544965877, indicating a very high level of sparsity in the matrix."
   ]
  },
  {
   "cell_type": "markdown",
   "metadata": {},
   "source": [
    "# 4. Frequency Distribution Plots"
   ]
  },
  {
   "cell_type": "markdown",
   "metadata": {},
   "source": [
    "### Approach\n",
    "\n",
    "1. Load the corpus and create a frequency distribution of all words using the FreqDist function from the nltk library.\n",
    "2. Sort the frequency distribution in descending order by value and get the top 30 words.\n",
    "3. Create a bar plot using the top 30 words and their frequencies using the matplotlib library. Show the plot.\n",
    "4. Create separate frequency distributions for positive and negative reviews.\n",
    "5. Sort the frequency distributions in descending order by value and get the top 30 words for each sentiment.\n",
    "6. Create separate bar plots for the top 30 words and their frequencies for positive and negative reviews using the matplotlib library and show the plots."
   ]
  },
  {
   "cell_type": "markdown",
   "metadata": {
    "id": "YEmxVrilWjGm"
   },
   "source": [
    "# Frequency of the top 30 words from the complete Document.\n"
   ]
  },
  {
   "cell_type": "code",
   "execution_count": 59,
   "metadata": {
    "colab": {
     "base_uri": "https://localhost:8080/",
     "height": 374
    },
    "id": "QzoEbQCMonwp",
    "outputId": "023846ca-7fa2-4af2-ee43-037b085cd127"
   },
   "outputs": [
    {
     "data": {
      "image/png": "[encoded data removed]",
      "text/plain": [
       "<Figure size 3000x800 with 1 Axes>"
      ]
     },
     "metadata": {},
     "output_type": "display_data"
    }
   ],
   "source": [
    "from nltk import FreqDist\n",
    "\n",
    "# set the figure size\n",
    "plt.figure(figsize=(30,8))\n",
    "\n",
    "# get the frequency distribution of all words in the corpus\n",
    "all_words_frequency = dict(FreqDist(corpus))\n",
    "\n",
    "# sort the frequency distribution in descending order by value and get the top 30\n",
    "sorted_dict = dict(sorted(all_words_frequency.items(), key=lambda x: x[1], reverse=True)[:30])\n",
    "\n",
    "# create a bar plot using the top 30 words and their frequencies\n",
    "plt.bar(list(sorted_dict.keys()), list(sorted_dict.values()), color='green')\n",
    "\n",
    "# show the plot\n",
    "plt.show()\n"
   ]
  },
  {
   "cell_type": "markdown",
   "metadata": {},
   "source": [
    "#### Inference : \n",
    "- The output of the code shows a bar plot with the top three most common words being \"film\", \"movie\", and \"one\". The last three words on the plot are \"seen\", \"bad\", and \"never\", indicating that these words have low frequency in the whole document.\n",
    "\n",
    "#### Conclusion: \n",
    "- The code provides a quick and easy way to visualize the frequency distribution of the top 30 most common words in a given corpus using NLTK and Matplotlib. \n",
    "- The resulting plot can be used to gain insights into the most frequent words in the corpus, which can be useful for various natural language processing tasks such as text classification, sentiment analysis, and topic modeling"
   ]
  },
  {
   "cell_type": "markdown",
   "metadata": {
    "id": "If180e9VWuPk"
   },
   "source": [
    "# Frequency of the top 30 words which has Positive sentiments."
   ]
  },
  {
   "cell_type": "code",
   "execution_count": 61,
   "metadata": {
    "colab": {
     "base_uri": "https://localhost:8080/",
     "height": 374
    },
    "id": "BP7CRHWFpjSP",
    "outputId": "3f3b7544-4b40-41e8-beba-515a2cd89061"
   },
   "outputs": [
    {
     "data": {
      "image/png": "[encoded data removed]",
      "text/plain": [
       "<Figure size 3000x800 with 1 Axes>"
      ]
     },
     "metadata": {},
     "output_type": "display_data"
    }
   ],
   "source": [
    "plt.figure(figsize=(30,8))\n",
    "\n",
    "pos_words_frequency = dict(FreqDist(reviews_df[reviews_df.Sentiment == \"Pos\"].Review.explode()))\n",
    "sorted_dict = dict(sorted(pos_words_frequency.items(), key = lambda x:x[1], reverse=True))\n",
    "plt.bar(list(sorted_dict.keys())[:30], list(sorted_dict.values())[:30], color='green')\n",
    "plt.show()\n"
   ]
  },
  {
   "cell_type": "markdown",
   "metadata": {},
   "source": [
    "#### Inference : \n",
    "- The output of the code shows a bar plot with the top three most common words with positive sentiment being \"film\", \"movie\", and \"one\". \n",
    "- The last three words on the plot are \"great\", \"man\", and \"new\", indicating that these words have a high frequency in the reviews dataset with positive sentiment.\n",
    "\n",
    "#### Conclusion:\n",
    "- The code provides a quick and easy way to visualize the frequency distribution of the top 30 most common words with positive sentiment in a given reviews dataset using NLTK and Matplotlib.\n",
    "- The resulting plot can be used to gain insights into the most frequent words in the reviews dataset with positive sentiment, which can be useful for sentiment analysis and opinion mining tasks."
   ]
  },
  {
   "cell_type": "markdown",
   "metadata": {
    "id": "I32GhTfbW3q0"
   },
   "source": [
    "# Frequency of the top 30 words which has Negative sentiments."
   ]
  },
  {
   "cell_type": "code",
   "execution_count": 62,
   "metadata": {
    "colab": {
     "base_uri": "https://localhost:8080/",
     "height": 374
    },
    "id": "kAuP73m3WYat",
    "outputId": "c1a6e515-5d74-4204-dbf3-9dce031fe224"
   },
   "outputs": [
    {
     "data": {
      "image/png": "[encoded data removed]",
      "text/plain": [
       "<Figure size 3000x800 with 1 Axes>"
      ]
     },
     "metadata": {},
     "output_type": "display_data"
    }
   ],
   "source": [
    "plt.figure(figsize=(30,8))\n",
    "\n",
    "neg_words_frequency = dict(FreqDist(reviews_df[reviews_df.Sentiment == \"Neg\"].Review.explode()))\n",
    "sorted_dict = dict(sorted(neg_words_frequency.items(), key = lambda x:x[1], reverse=True))\n",
    "plt.bar(list(sorted_dict.keys())[:30], list(sorted_dict.values())[:30], color='green')\n",
    "plt.show()"
   ]
  },
  {
   "cell_type": "markdown",
   "metadata": {},
   "source": [
    "#### Inference : \n",
    "- The output of the code shows a bar plot with the top three most common words with negative sentiment being \"film\", \"movie\", and \"one\". \n",
    "- The last three words on the plot are \"never\", \"films\", and \"know\", indicating that these words have a high frequency in the reviews dataset with negative sentiment.\n",
    "\n",
    "#### Conclusion:\n",
    "- The code provides a quick and easy way to visualize the frequency distribution of the top 30 most common words with negative sentiment in a given reviews dataset using NLTK and Matplotlib. \n",
    "- The resulting plot can be used to gain insights into the most frequent words in the reviews dataset with negative sentiment, which can be useful for sentiment analysis and opinion mining tasks."
   ]
  },
  {
   "cell_type": "markdown",
   "metadata": {
    "id": "JBbD-PZ-pHhN"
   },
   "source": [
    "# 5. Sentiment Analysis Model Preparation \n",
    "- Splitting the term document matrix into Training, Testing, validation sets."
   ]
  },
  {
   "cell_type": "markdown",
   "metadata": {},
   "source": [
    "### Approach\n",
    "\n",
    "1. The function split_random() takes a matrix (as a pandas DataFrame) and splits it into training, testing, and validation sets based on provided percentages.\n",
    "2. The percentages are passed as arguments to the function, with the default values for percent_train and percent_test being 70% and 15% respectively.\n",
    "3. The function calculates the percentage of validation set based on the provided percent_train and percent_test values.\n",
    "4. The function checks whether the sum of percent_train and percent_test is less than or equal to 100%, and raises an error message if it's greater than 100%.\n",
    "5. The function shuffles the columns of the input DataFrame randomly.\n",
    "6. The function calculates the number of columns to be included in the training and testing sets based on the provided percentages.\n",
    "7. The function splits the shuffled DataFrame into training and testing sets.\n",
    "8. The function returns the training and testing DataFrames.\n",
    "9. The train_df and test_df variables are assigned the values returned by the split_random() function.\n",
    "10. The head() method is used to display the first few rows of train_df and test_df.1\n",
    "11. The reviews_df DataFrame is filtered by selecting only the columns that are present in the training set, and the value_counts() method is used to count the number of positive and negative sentiments in the training set.\n",
    "12. The resulting count is plotted using sns.barplot().\n",
    "13. The same process is repeated for the testing set, and the resulting counts are plotted as well.\n",
    "\n",
    "\n",
    "\n",
    "\n"
   ]
  },
  {
   "cell_type": "code",
   "execution_count": null,
   "metadata": {},
   "outputs": [],
   "source": [
    "def split_random(df, percent_train=70, percent_test=15):\n",
    "    \"\"\"\n",
    "    Splits matrix data into randomly ordered sets \n",
    "    grouped by provided percentages.\n",
    "\n",
    "    percent_validation 10\n",
    "    training (80, 2)\n",
    "    testing (10, 2)\n",
    "    validation (10, 2)\n",
    "\n",
    "    Returns:\n",
    "    - training_data: percentage_train e.g. 70%\n",
    "    - testing_data: percent_test e.g. 15%\n",
    "    - validation_data: reminder from 100% e.g. 15%\n",
    "    \"\"\"\n",
    "\n",
    "    percent_validation = 100 - percent_train - percent_test\n",
    "\n",
    "    if percent_validation < 0:\n",
    "        print(\"Make sure that the provided sum of training and testing percentages is equal, or less than 100%.\")\n",
    "        percent_validation = 0\n",
    "    else:\n",
    "        print(\"percent_validation:\", percent_validation)\n",
    "\n",
    "    columns = df.shape[1]\n",
    "\n",
    "    # shuffle by columns\n",
    "    shuffled = df.sample(frac=1, axis=1)\n",
    "\n",
    "    end_training = int(columns * percent_train / 100)\n",
    "    end_testing = end_training + int((columns * percent_test / 100))\n",
    "\n",
    "    training = shuffled.iloc[:, :end_training]\n",
    "    testing = shuffled.iloc[:, end_training:]\n",
    "\n",
    "    print(\"Training shape:\", training.shape)\n",
    "    print(\"Testing shape:\", testing.shape)\n",
    "    \n",
    "    return training, testing\n",
    "\n",
    "\n",
    "train_df, test_df = split_random(TDM, percent_train=80, percent_test=20) \n",
    "\n"
   ]
  },
  {
   "cell_type": "markdown",
   "metadata": {
    "id": "uFZAPRT1BLuO"
   },
   "source": [
    "### Training Dataset"
   ]
  },
  {
   "cell_type": "code",
   "execution_count": 68,
   "metadata": {
    "colab": {
     "base_uri": "https://localhost:8080/",
     "height": 236
    },
    "id": "C9KfwU19r5DG",
    "outputId": "e134dba9-9b29-47fe-900c-c6863e2eb6bd"
   },
   "outputs": [
    {
     "data": {
      "text/html": [
       "<div>\n",
       "<style scoped>\n",
       "    .dataframe tbody tr th:only-of-type {\n",
       "        vertical-align: middle;\n",
       "    }\n",
       "\n",
       "    .dataframe tbody tr th {\n",
       "        vertical-align: top;\n",
       "    }\n",
       "\n",
       "    .dataframe thead th {\n",
       "        text-align: right;\n",
       "    }\n",
       "</style>\n",
       "<table border=\"1\" class=\"dataframe\">\n",
       "  <thead>\n",
       "    <tr style=\"text-align: right;\">\n",
       "      <th></th>\n",
       "      <th>1126</th>\n",
       "      <th>1067</th>\n",
       "      <th>643</th>\n",
       "      <th>1898</th>\n",
       "      <th>1554</th>\n",
       "      <th>1343</th>\n",
       "      <th>1534</th>\n",
       "      <th>1078</th>\n",
       "      <th>748</th>\n",
       "      <th>581</th>\n",
       "      <th>...</th>\n",
       "      <th>541</th>\n",
       "      <th>39</th>\n",
       "      <th>1296</th>\n",
       "      <th>104</th>\n",
       "      <th>65</th>\n",
       "      <th>931</th>\n",
       "      <th>1112</th>\n",
       "      <th>959</th>\n",
       "      <th>740</th>\n",
       "      <th>1520</th>\n",
       "    </tr>\n",
       "  </thead>\n",
       "  <tbody>\n",
       "    <tr>\n",
       "      <th>aa</th>\n",
       "      <td>0</td>\n",
       "      <td>0</td>\n",
       "      <td>0</td>\n",
       "      <td>0</td>\n",
       "      <td>0</td>\n",
       "      <td>0</td>\n",
       "      <td>0</td>\n",
       "      <td>0</td>\n",
       "      <td>0</td>\n",
       "      <td>0</td>\n",
       "      <td>...</td>\n",
       "      <td>0</td>\n",
       "      <td>0</td>\n",
       "      <td>0</td>\n",
       "      <td>0</td>\n",
       "      <td>0</td>\n",
       "      <td>0</td>\n",
       "      <td>0</td>\n",
       "      <td>0</td>\n",
       "      <td>0</td>\n",
       "      <td>0</td>\n",
       "    </tr>\n",
       "    <tr>\n",
       "      <th>aaa</th>\n",
       "      <td>0</td>\n",
       "      <td>0</td>\n",
       "      <td>0</td>\n",
       "      <td>0</td>\n",
       "      <td>0</td>\n",
       "      <td>0</td>\n",
       "      <td>0</td>\n",
       "      <td>0</td>\n",
       "      <td>0</td>\n",
       "      <td>0</td>\n",
       "      <td>...</td>\n",
       "      <td>0</td>\n",
       "      <td>0</td>\n",
       "      <td>0</td>\n",
       "      <td>0</td>\n",
       "      <td>0</td>\n",
       "      <td>0</td>\n",
       "      <td>0</td>\n",
       "      <td>0</td>\n",
       "      <td>0</td>\n",
       "      <td>0</td>\n",
       "    </tr>\n",
       "    <tr>\n",
       "      <th>aaaaaaaaah</th>\n",
       "      <td>0</td>\n",
       "      <td>0</td>\n",
       "      <td>0</td>\n",
       "      <td>0</td>\n",
       "      <td>0</td>\n",
       "      <td>0</td>\n",
       "      <td>0</td>\n",
       "      <td>0</td>\n",
       "      <td>0</td>\n",
       "      <td>0</td>\n",
       "      <td>...</td>\n",
       "      <td>0</td>\n",
       "      <td>0</td>\n",
       "      <td>0</td>\n",
       "      <td>0</td>\n",
       "      <td>0</td>\n",
       "      <td>0</td>\n",
       "      <td>0</td>\n",
       "      <td>0</td>\n",
       "      <td>0</td>\n",
       "      <td>0</td>\n",
       "    </tr>\n",
       "    <tr>\n",
       "      <th>aaaaaaaahhhh</th>\n",
       "      <td>0</td>\n",
       "      <td>0</td>\n",
       "      <td>0</td>\n",
       "      <td>0</td>\n",
       "      <td>0</td>\n",
       "      <td>0</td>\n",
       "      <td>0</td>\n",
       "      <td>0</td>\n",
       "      <td>0</td>\n",
       "      <td>0</td>\n",
       "      <td>...</td>\n",
       "      <td>0</td>\n",
       "      <td>0</td>\n",
       "      <td>0</td>\n",
       "      <td>0</td>\n",
       "      <td>0</td>\n",
       "      <td>0</td>\n",
       "      <td>0</td>\n",
       "      <td>0</td>\n",
       "      <td>0</td>\n",
       "      <td>0</td>\n",
       "    </tr>\n",
       "    <tr>\n",
       "      <th>aaaaaah</th>\n",
       "      <td>0</td>\n",
       "      <td>0</td>\n",
       "      <td>0</td>\n",
       "      <td>0</td>\n",
       "      <td>0</td>\n",
       "      <td>0</td>\n",
       "      <td>0</td>\n",
       "      <td>0</td>\n",
       "      <td>0</td>\n",
       "      <td>0</td>\n",
       "      <td>...</td>\n",
       "      <td>0</td>\n",
       "      <td>0</td>\n",
       "      <td>0</td>\n",
       "      <td>0</td>\n",
       "      <td>0</td>\n",
       "      <td>0</td>\n",
       "      <td>0</td>\n",
       "      <td>0</td>\n",
       "      <td>0</td>\n",
       "      <td>0</td>\n",
       "    </tr>\n",
       "  </tbody>\n",
       "</table>\n",
       "<p>5 rows × 1600 columns</p>\n",
       "</div>"
      ],
      "text/plain": [
       "              1126  1067  643   1898  1554  1343  1534  1078  748   581   ...  \\\n",
       "aa               0     0     0     0     0     0     0     0     0     0  ...   \n",
       "aaa              0     0     0     0     0     0     0     0     0     0  ...   \n",
       "aaaaaaaaah       0     0     0     0     0     0     0     0     0     0  ...   \n",
       "aaaaaaaahhhh     0     0     0     0     0     0     0     0     0     0  ...   \n",
       "aaaaaah          0     0     0     0     0     0     0     0     0     0  ...   \n",
       "\n",
       "              541   39    1296  104   65    931   1112  959   740   1520  \n",
       "aa               0     0     0     0     0     0     0     0     0     0  \n",
       "aaa              0     0     0     0     0     0     0     0     0     0  \n",
       "aaaaaaaaah       0     0     0     0     0     0     0     0     0     0  \n",
       "aaaaaaaahhhh     0     0     0     0     0     0     0     0     0     0  \n",
       "aaaaaah          0     0     0     0     0     0     0     0     0     0  \n",
       "\n",
       "[5 rows x 1600 columns]"
      ]
     },
     "execution_count": 68,
     "metadata": {},
     "output_type": "execute_result"
    }
   ],
   "source": [
    "train_df.head()"
   ]
  },
  {
   "cell_type": "markdown",
   "metadata": {
    "id": "vmRZk02VBaEk"
   },
   "source": [
    "### Test Dataset"
   ]
  },
  {
   "cell_type": "code",
   "execution_count": 69,
   "metadata": {
    "colab": {
     "base_uri": "https://localhost:8080/",
     "height": 236
    },
    "id": "rSOhcMQVgIV8",
    "outputId": "0796bc35-e030-4967-b6f7-d5b113e4e433"
   },
   "outputs": [
    {
     "data": {
      "text/html": [
       "<div>\n",
       "<style scoped>\n",
       "    .dataframe tbody tr th:only-of-type {\n",
       "        vertical-align: middle;\n",
       "    }\n",
       "\n",
       "    .dataframe tbody tr th {\n",
       "        vertical-align: top;\n",
       "    }\n",
       "\n",
       "    .dataframe thead th {\n",
       "        text-align: right;\n",
       "    }\n",
       "</style>\n",
       "<table border=\"1\" class=\"dataframe\">\n",
       "  <thead>\n",
       "    <tr style=\"text-align: right;\">\n",
       "      <th></th>\n",
       "      <th>383</th>\n",
       "      <th>1566</th>\n",
       "      <th>1132</th>\n",
       "      <th>1625</th>\n",
       "      <th>1274</th>\n",
       "      <th>319</th>\n",
       "      <th>1879</th>\n",
       "      <th>1223</th>\n",
       "      <th>1856</th>\n",
       "      <th>837</th>\n",
       "      <th>...</th>\n",
       "      <th>1728</th>\n",
       "      <th>448</th>\n",
       "      <th>1971</th>\n",
       "      <th>741</th>\n",
       "      <th>734</th>\n",
       "      <th>887</th>\n",
       "      <th>676</th>\n",
       "      <th>844</th>\n",
       "      <th>188</th>\n",
       "      <th>766</th>\n",
       "    </tr>\n",
       "  </thead>\n",
       "  <tbody>\n",
       "    <tr>\n",
       "      <th>aa</th>\n",
       "      <td>0</td>\n",
       "      <td>0</td>\n",
       "      <td>0</td>\n",
       "      <td>0</td>\n",
       "      <td>0</td>\n",
       "      <td>0</td>\n",
       "      <td>0</td>\n",
       "      <td>0</td>\n",
       "      <td>0</td>\n",
       "      <td>0</td>\n",
       "      <td>...</td>\n",
       "      <td>0</td>\n",
       "      <td>0</td>\n",
       "      <td>0</td>\n",
       "      <td>0</td>\n",
       "      <td>0</td>\n",
       "      <td>0</td>\n",
       "      <td>0</td>\n",
       "      <td>0</td>\n",
       "      <td>0</td>\n",
       "      <td>0</td>\n",
       "    </tr>\n",
       "    <tr>\n",
       "      <th>aaa</th>\n",
       "      <td>0</td>\n",
       "      <td>0</td>\n",
       "      <td>0</td>\n",
       "      <td>0</td>\n",
       "      <td>0</td>\n",
       "      <td>0</td>\n",
       "      <td>0</td>\n",
       "      <td>0</td>\n",
       "      <td>0</td>\n",
       "      <td>0</td>\n",
       "      <td>...</td>\n",
       "      <td>0</td>\n",
       "      <td>0</td>\n",
       "      <td>0</td>\n",
       "      <td>0</td>\n",
       "      <td>0</td>\n",
       "      <td>0</td>\n",
       "      <td>0</td>\n",
       "      <td>0</td>\n",
       "      <td>0</td>\n",
       "      <td>0</td>\n",
       "    </tr>\n",
       "    <tr>\n",
       "      <th>aaaaaaaaah</th>\n",
       "      <td>0</td>\n",
       "      <td>0</td>\n",
       "      <td>0</td>\n",
       "      <td>0</td>\n",
       "      <td>0</td>\n",
       "      <td>0</td>\n",
       "      <td>0</td>\n",
       "      <td>0</td>\n",
       "      <td>0</td>\n",
       "      <td>0</td>\n",
       "      <td>...</td>\n",
       "      <td>0</td>\n",
       "      <td>0</td>\n",
       "      <td>0</td>\n",
       "      <td>0</td>\n",
       "      <td>0</td>\n",
       "      <td>0</td>\n",
       "      <td>0</td>\n",
       "      <td>0</td>\n",
       "      <td>0</td>\n",
       "      <td>0</td>\n",
       "    </tr>\n",
       "    <tr>\n",
       "      <th>aaaaaaaahhhh</th>\n",
       "      <td>0</td>\n",
       "      <td>0</td>\n",
       "      <td>0</td>\n",
       "      <td>0</td>\n",
       "      <td>0</td>\n",
       "      <td>0</td>\n",
       "      <td>0</td>\n",
       "      <td>0</td>\n",
       "      <td>0</td>\n",
       "      <td>0</td>\n",
       "      <td>...</td>\n",
       "      <td>0</td>\n",
       "      <td>0</td>\n",
       "      <td>0</td>\n",
       "      <td>0</td>\n",
       "      <td>0</td>\n",
       "      <td>0</td>\n",
       "      <td>0</td>\n",
       "      <td>0</td>\n",
       "      <td>0</td>\n",
       "      <td>0</td>\n",
       "    </tr>\n",
       "    <tr>\n",
       "      <th>aaaaaah</th>\n",
       "      <td>0</td>\n",
       "      <td>0</td>\n",
       "      <td>0</td>\n",
       "      <td>0</td>\n",
       "      <td>0</td>\n",
       "      <td>0</td>\n",
       "      <td>0</td>\n",
       "      <td>0</td>\n",
       "      <td>0</td>\n",
       "      <td>0</td>\n",
       "      <td>...</td>\n",
       "      <td>0</td>\n",
       "      <td>0</td>\n",
       "      <td>0</td>\n",
       "      <td>0</td>\n",
       "      <td>0</td>\n",
       "      <td>0</td>\n",
       "      <td>0</td>\n",
       "      <td>0</td>\n",
       "      <td>0</td>\n",
       "      <td>0</td>\n",
       "    </tr>\n",
       "  </tbody>\n",
       "</table>\n",
       "<p>5 rows × 400 columns</p>\n",
       "</div>"
      ],
      "text/plain": [
       "              383   1566  1132  1625  1274  319   1879  1223  1856  837   ...  \\\n",
       "aa               0     0     0     0     0     0     0     0     0     0  ...   \n",
       "aaa              0     0     0     0     0     0     0     0     0     0  ...   \n",
       "aaaaaaaaah       0     0     0     0     0     0     0     0     0     0  ...   \n",
       "aaaaaaaahhhh     0     0     0     0     0     0     0     0     0     0  ...   \n",
       "aaaaaah          0     0     0     0     0     0     0     0     0     0  ...   \n",
       "\n",
       "              1728  448   1971  741   734   887   676   844   188   766   \n",
       "aa               0     0     0     0     0     0     0     0     0     0  \n",
       "aaa              0     0     0     0     0     0     0     0     0     0  \n",
       "aaaaaaaaah       0     0     0     0     0     0     0     0     0     0  \n",
       "aaaaaaaahhhh     0     0     0     0     0     0     0     0     0     0  \n",
       "aaaaaah          0     0     0     0     0     0     0     0     0     0  \n",
       "\n",
       "[5 rows x 400 columns]"
      ]
     },
     "execution_count": 69,
     "metadata": {},
     "output_type": "execute_result"
    }
   ],
   "source": [
    "test_df.head()"
   ]
  },
  {
   "cell_type": "markdown",
   "metadata": {
    "id": "rfpQ3kbL-Had"
   },
   "source": [
    "### Define quantity of positive and negative reviews are contained within each subset"
   ]
  },
  {
   "cell_type": "markdown",
   "metadata": {
    "id": "v_gxPyCaFQHo"
   },
   "source": [
    "### Quantity of positive and negative reviews in trainig dataset"
   ]
  },
  {
   "cell_type": "code",
   "execution_count": 70,
   "metadata": {
    "colab": {
     "base_uri": "https://localhost:8080/"
    },
    "id": "NXJeSdutKyhA",
    "outputId": "2692d4e4-0557-446e-86ae-961879be36fd"
   },
   "outputs": [
    {
     "data": {
      "text/plain": [
       "array([ True,  True, False, ...,  True,  True,  True])"
      ]
     },
     "execution_count": 70,
     "metadata": {},
     "output_type": "execute_result"
    }
   ],
   "source": [
    "reviews_df.index.isin(list(training.columns))"
   ]
  },
  {
   "cell_type": "code",
   "execution_count": 71,
   "metadata": {
    "colab": {
     "base_uri": "https://localhost:8080/"
    },
    "id": "gsb2pTN4-gOm",
    "outputId": "a9227bf6-3dd7-4797-b472-f3fdd3a8fa44"
   },
   "outputs": [
    {
     "data": {
      "text/plain": [
       "Neg    810\n",
       "Pos    790\n",
       "Name: Sentiment, dtype: int64"
      ]
     },
     "execution_count": 71,
     "metadata": {},
     "output_type": "execute_result"
    }
   ],
   "source": [
    "result_1=reviews_df['Sentiment'][reviews_df.index.isin(list(training.columns))].value_counts()\n",
    "result_1"
   ]
  },
  {
   "cell_type": "code",
   "execution_count": 72,
   "metadata": {
    "colab": {
     "base_uri": "https://localhost:8080/",
     "height": 283
    },
    "id": "5Fvz_kGEMaM0",
    "outputId": "18708e6c-0c03-4731-8aff-ddb64a5b25bc"
   },
   "outputs": [
    {
     "data": {
      "text/plain": [
       "<AxesSubplot:>"
      ]
     },
     "execution_count": 72,
     "metadata": {},
     "output_type": "execute_result"
    },
    {
     "data": {
      "image/png": "[encoded data removed]",
      "text/plain": [
       "<Figure size 640x480 with 1 Axes>"
      ]
     },
     "metadata": {},
     "output_type": "display_data"
    }
   ],
   "source": [
    "sns.barplot(x=result_1.index,y=result_1.values)"
   ]
  },
  {
   "cell_type": "markdown",
   "metadata": {},
   "source": [
    "#### Inference :\n",
    "- The output of the code shows that there are 810 negative sentiment reviews and 790 positive sentiment reviews in the dataset, as indicated by the \"Neg 810\" and \"Pos 790\" values."
   ]
  },
  {
   "cell_type": "markdown",
   "metadata": {
    "id": "zFq-tPR4MIsU"
   },
   "source": [
    "#### Quantity of positive and negative reviews in testing dataset"
   ]
  },
  {
   "cell_type": "code",
   "execution_count": 73,
   "metadata": {
    "colab": {
     "base_uri": "https://localhost:8080/"
    },
    "id": "XBKMa9R4MKqN",
    "outputId": "80eec525-8d7c-4852-e6da-6671712daf00"
   },
   "outputs": [
    {
     "data": {
      "text/plain": [
       "Pos    210\n",
       "Neg    190\n",
       "Name: Sentiment, dtype: int64"
      ]
     },
     "execution_count": 73,
     "metadata": {},
     "output_type": "execute_result"
    }
   ],
   "source": [
    "result_2=reviews_df['Sentiment'][reviews_df.index.isin(list(testing.columns))].value_counts()\n",
    "result_2"
   ]
  },
  {
   "cell_type": "code",
   "execution_count": 74,
   "metadata": {
    "colab": {
     "base_uri": "https://localhost:8080/",
     "height": 283
    },
    "id": "-odllSyYOE4f",
    "outputId": "5ccfbe26-50e9-41d0-b480-028275a37ccc"
   },
   "outputs": [
    {
     "data": {
      "text/plain": [
       "<AxesSubplot:>"
      ]
     },
     "execution_count": 74,
     "metadata": {},
     "output_type": "execute_result"
    },
    {
     "data": {
      "image/png": "[encoded data removed]",
      "text/plain": [
       "<Figure size 640x480 with 1 Axes>"
      ]
     },
     "metadata": {},
     "output_type": "display_data"
    }
   ],
   "source": [
    "sns.barplot(x=result_2.index,y=result_2.values)"
   ]
  },
  {
   "cell_type": "markdown",
   "metadata": {
    "id": "rYeA1YMxP6LA"
   },
   "source": [
    "#### Inference :\n",
    "- The output of the code shows that there are 210 positive sentiment reviews and 190 negative sentiment reviews in the testing dataset, as indicated by the \"Pos 210\" and \"Neg 190\" values\n",
    "- In training and testing datasets We have almost the same size of positive and negatives samples in our dataset, hence we can say that our subsets are balanced\n"
   ]
  },
  {
   "cell_type": "code",
   "execution_count": null,
   "metadata": {},
   "outputs": [],
   "source": []
  }
 ],
 "metadata": {
  "colab": {
   "provenance": []
  },
  "kernelspec": {
   "display_name": "Python 3",
   "language": "python",
   "name": "python3"
  },
  "language_info": {
   "codemirror_mode": {
    "name": "ipython",
    "version": 3
   },
   "file_extension": ".py",
   "mimetype": "text/x-python",
   "name": "python",
   "nbconvert_exporter": "python",
   "pygments_lexer": "ipython3",
   "version": "3.7.3"
  }
 },
 "nbformat": 4,
 "nbformat_minor": 1
}
